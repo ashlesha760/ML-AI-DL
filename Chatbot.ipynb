{
  "nbformat": 4,
  "nbformat_minor": 0,
  "metadata": {
    "colab": {
      "provenance": [],
      "authorship_tag": "ABX9TyMy2God1eQqkh3uXB2A8khe",
      "include_colab_link": true
    },
    "kernelspec": {
      "name": "python3",
      "display_name": "Python 3"
    },
    "language_info": {
      "name": "python"
    }
  },
  "cells": [
    {
      "cell_type": "markdown",
      "metadata": {
        "id": "view-in-github",
        "colab_type": "text"
      },
      "source": [
        "<a href=\"https://colab.research.google.com/github/ashlesha760/ML-AI-DL/blob/main/Chatbot.ipynb\" target=\"_parent\"><img src=\"https://colab.research.google.com/assets/colab-badge.svg\" alt=\"Open In Colab\"/></a>"
      ]
    },
    {
      "cell_type": "code",
      "execution_count": null,
      "metadata": {
        "colab": {
          "base_uri": "https://localhost:8080/"
        },
        "id": "RpuwLfMDwhdx",
        "outputId": "5e7b25af-645e-4c0e-e5e0-cb5bfdb804b0"
      },
      "outputs": [
        {
          "output_type": "stream",
          "name": "stderr",
          "text": [
            "[nltk_data] Downloading package punkt to /root/nltk_data...\n",
            "[nltk_data]   Package punkt is already up-to-date!\n",
            "[nltk_data] Downloading package averaged_perceptron_tagger to\n",
            "[nltk_data]     /root/nltk_data...\n",
            "[nltk_data]   Package averaged_perceptron_tagger is already up-to-\n",
            "[nltk_data]       date!\n"
          ]
        },
        {
          "output_type": "execute_result",
          "data": {
            "text/plain": [
              "True"
            ]
          },
          "metadata": {},
          "execution_count": 4
        }
      ],
      "source": [
        "import nltk\n",
        "nltk.download('punkt')\n",
        "nltk.download('averaged_perceptron_tagger')"
      ]
    },
    {
      "cell_type": "code",
      "source": [
        "import nltk\n",
        "from nltk.chat.util import Chat, reflections\n",
        "\n",
        "pairs = [\n",
        "    ['my name is (.*)', ['Hi %1, how can I assist you?']],\n",
        "    ['(hi|hello|hey|hi there)', ['Hello, how can I help you today?']],\n",
        "    ['what can you do', ['I can assist you with general information.']],\n",
        "    ['what is your name', ['My name is Chatbot, how can I assist you?']],\n",
        "    ['How are you', ['I am doing just fine, how can I assist you?']],\n",
        "    ['where are you from', ['I am your Chatbot assistant, how can I assist you?']],\n",
        "    ['what is the latest world news', ['Here is what I found on web, \"https://economictimes.indiatimes.com/news/international/world-news\"']],\n",
        "    ['what is the weather', ['you can check the weather report here,\"https://chrome.google.com/webstore/detail/weather/iolcbmjhmpdheggkocibajddahbeiglb?hl=en\"']],\n",
        "    ['quit', ['Bye, have a great day!']],\n",
        "]\n",
        "\n",
        "chatbot = Chat(pairs, reflections)\n",
        "chatbot.converse()"
      ],
      "metadata": {
        "colab": {
          "base_uri": "https://localhost:8080/"
        },
        "id": "03pFKby4wn09",
        "outputId": "b42c135a-8f1a-40d0-b54a-292866fea4b4"
      },
      "execution_count": null,
      "outputs": [
        {
          "output_type": "stream",
          "name": "stdout",
          "text": [
            ">what id your name\n",
            "None\n",
            ">what is your name\n",
            "My name is Chatbot, how can I assist you?\n",
            ">how are you\n",
            "I am doing just fine, how can I assist you?\n",
            ">where are you from\n",
            "I am your Chatbot assistant, how can I assist you?\n",
            ">what is the latest world news\n",
            "Here is what I found on web, \"https://economictimes.indiatimes.com/news/international/world-news\"\n",
            ">what is the weather\n",
            "you can check the weather report here,\"https://chrome.google.com/webstore/detail/weather/iolcbmjhmpdheggkocibajddahbeiglb?hl=en\"\n",
            ">quit\n",
            "Bye, have a great day!\n"
          ]
        }
      ]
    },
    {
      "cell_type": "code",
      "source": [],
      "metadata": {
        "id": "O1JvvnwcwxG0"
      },
      "execution_count": null,
      "outputs": []
    }
  ]
}