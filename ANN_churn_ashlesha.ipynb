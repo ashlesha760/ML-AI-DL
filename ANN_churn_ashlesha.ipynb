{
  "nbformat": 4,
  "nbformat_minor": 0,
  "metadata": {
    "colab": {
      "provenance": [],
      "authorship_tag": "ABX9TyP//YtZJ0KMdo0v14LfjcMA"
    },
    "kernelspec": {
      "name": "python3",
      "display_name": "Python 3"
    },
    "language_info": {
      "name": "python"
    }
  },
  "cells": [
    {
      "cell_type": "markdown",
      "source": [
        "## Import library"
      ],
      "metadata": {
        "id": "TVIIaG6HSdiE"
      }
    },
    {
      "cell_type": "code",
      "execution_count": null,
      "metadata": {
        "id": "DYO_lC_mR8OI"
      },
      "outputs": [],
      "source": [
        "import numpy as np\n",
        "import pandas as pd\n",
        "import seaborn as sns"
      ]
    },
    {
      "cell_type": "code",
      "source": [
        "df = pd.read_csv('/content/Churn_Modelling.csv')"
      ],
      "metadata": {
        "id": "J6-vLLpvSIep"
      },
      "execution_count": null,
      "outputs": []
    },
    {
      "cell_type": "markdown",
      "source": [
        "Analyze Dataset"
      ],
      "metadata": {
        "id": "1xs6-LCwSh0w"
      }
    },
    {
      "cell_type": "code",
      "source": [
        "df.head()"
      ],
      "metadata": {
        "colab": {
          "base_uri": "https://localhost:8080/",
          "height": 270
        },
        "id": "dI8ZlT7ISZQ_",
        "outputId": "4d3a64a3-c37e-4f39-e697-907679eea26c"
      },
      "execution_count": null,
      "outputs": [
        {
          "output_type": "execute_result",
          "data": {
            "text/plain": [
              "   RowNumber  CustomerId   Surname  CreditScore Geography  Gender  Age  \\\n",
              "0          1    15634602  Hargrave          619    France  Female   42   \n",
              "1          2    15647311      Hill          608     Spain  Female   41   \n",
              "2          3    15619304      Onio          502    France  Female   42   \n",
              "3          4    15701354      Boni          699    France  Female   39   \n",
              "4          5    15737888  Mitchell          850     Spain  Female   43   \n",
              "\n",
              "   Tenure    Balance  NumOfProducts  HasCrCard  IsActiveMember  \\\n",
              "0       2       0.00              1          1               1   \n",
              "1       1   83807.86              1          0               1   \n",
              "2       8  159660.80              3          1               0   \n",
              "3       1       0.00              2          0               0   \n",
              "4       2  125510.82              1          1               1   \n",
              "\n",
              "   EstimatedSalary  Exited  \n",
              "0        101348.88       1  \n",
              "1        112542.58       0  \n",
              "2        113931.57       1  \n",
              "3         93826.63       0  \n",
              "4         79084.10       0  "
            ],
            "text/html": [
              "\n",
              "  <div id=\"df-e3392690-d20d-467a-9caa-1a047cf3ce56\">\n",
              "    <div class=\"colab-df-container\">\n",
              "      <div>\n",
              "<style scoped>\n",
              "    .dataframe tbody tr th:only-of-type {\n",
              "        vertical-align: middle;\n",
              "    }\n",
              "\n",
              "    .dataframe tbody tr th {\n",
              "        vertical-align: top;\n",
              "    }\n",
              "\n",
              "    .dataframe thead th {\n",
              "        text-align: right;\n",
              "    }\n",
              "</style>\n",
              "<table border=\"1\" class=\"dataframe\">\n",
              "  <thead>\n",
              "    <tr style=\"text-align: right;\">\n",
              "      <th></th>\n",
              "      <th>RowNumber</th>\n",
              "      <th>CustomerId</th>\n",
              "      <th>Surname</th>\n",
              "      <th>CreditScore</th>\n",
              "      <th>Geography</th>\n",
              "      <th>Gender</th>\n",
              "      <th>Age</th>\n",
              "      <th>Tenure</th>\n",
              "      <th>Balance</th>\n",
              "      <th>NumOfProducts</th>\n",
              "      <th>HasCrCard</th>\n",
              "      <th>IsActiveMember</th>\n",
              "      <th>EstimatedSalary</th>\n",
              "      <th>Exited</th>\n",
              "    </tr>\n",
              "  </thead>\n",
              "  <tbody>\n",
              "    <tr>\n",
              "      <th>0</th>\n",
              "      <td>1</td>\n",
              "      <td>15634602</td>\n",
              "      <td>Hargrave</td>\n",
              "      <td>619</td>\n",
              "      <td>France</td>\n",
              "      <td>Female</td>\n",
              "      <td>42</td>\n",
              "      <td>2</td>\n",
              "      <td>0.00</td>\n",
              "      <td>1</td>\n",
              "      <td>1</td>\n",
              "      <td>1</td>\n",
              "      <td>101348.88</td>\n",
              "      <td>1</td>\n",
              "    </tr>\n",
              "    <tr>\n",
              "      <th>1</th>\n",
              "      <td>2</td>\n",
              "      <td>15647311</td>\n",
              "      <td>Hill</td>\n",
              "      <td>608</td>\n",
              "      <td>Spain</td>\n",
              "      <td>Female</td>\n",
              "      <td>41</td>\n",
              "      <td>1</td>\n",
              "      <td>83807.86</td>\n",
              "      <td>1</td>\n",
              "      <td>0</td>\n",
              "      <td>1</td>\n",
              "      <td>112542.58</td>\n",
              "      <td>0</td>\n",
              "    </tr>\n",
              "    <tr>\n",
              "      <th>2</th>\n",
              "      <td>3</td>\n",
              "      <td>15619304</td>\n",
              "      <td>Onio</td>\n",
              "      <td>502</td>\n",
              "      <td>France</td>\n",
              "      <td>Female</td>\n",
              "      <td>42</td>\n",
              "      <td>8</td>\n",
              "      <td>159660.80</td>\n",
              "      <td>3</td>\n",
              "      <td>1</td>\n",
              "      <td>0</td>\n",
              "      <td>113931.57</td>\n",
              "      <td>1</td>\n",
              "    </tr>\n",
              "    <tr>\n",
              "      <th>3</th>\n",
              "      <td>4</td>\n",
              "      <td>15701354</td>\n",
              "      <td>Boni</td>\n",
              "      <td>699</td>\n",
              "      <td>France</td>\n",
              "      <td>Female</td>\n",
              "      <td>39</td>\n",
              "      <td>1</td>\n",
              "      <td>0.00</td>\n",
              "      <td>2</td>\n",
              "      <td>0</td>\n",
              "      <td>0</td>\n",
              "      <td>93826.63</td>\n",
              "      <td>0</td>\n",
              "    </tr>\n",
              "    <tr>\n",
              "      <th>4</th>\n",
              "      <td>5</td>\n",
              "      <td>15737888</td>\n",
              "      <td>Mitchell</td>\n",
              "      <td>850</td>\n",
              "      <td>Spain</td>\n",
              "      <td>Female</td>\n",
              "      <td>43</td>\n",
              "      <td>2</td>\n",
              "      <td>125510.82</td>\n",
              "      <td>1</td>\n",
              "      <td>1</td>\n",
              "      <td>1</td>\n",
              "      <td>79084.10</td>\n",
              "      <td>0</td>\n",
              "    </tr>\n",
              "  </tbody>\n",
              "</table>\n",
              "</div>\n",
              "      <button class=\"colab-df-convert\" onclick=\"convertToInteractive('df-e3392690-d20d-467a-9caa-1a047cf3ce56')\"\n",
              "              title=\"Convert this dataframe to an interactive table.\"\n",
              "              style=\"display:none;\">\n",
              "        \n",
              "  <svg xmlns=\"http://www.w3.org/2000/svg\" height=\"24px\"viewBox=\"0 0 24 24\"\n",
              "       width=\"24px\">\n",
              "    <path d=\"M0 0h24v24H0V0z\" fill=\"none\"/>\n",
              "    <path d=\"M18.56 5.44l.94 2.06.94-2.06 2.06-.94-2.06-.94-.94-2.06-.94 2.06-2.06.94zm-11 1L8.5 8.5l.94-2.06 2.06-.94-2.06-.94L8.5 2.5l-.94 2.06-2.06.94zm10 10l.94 2.06.94-2.06 2.06-.94-2.06-.94-.94-2.06-.94 2.06-2.06.94z\"/><path d=\"M17.41 7.96l-1.37-1.37c-.4-.4-.92-.59-1.43-.59-.52 0-1.04.2-1.43.59L10.3 9.45l-7.72 7.72c-.78.78-.78 2.05 0 2.83L4 21.41c.39.39.9.59 1.41.59.51 0 1.02-.2 1.41-.59l7.78-7.78 2.81-2.81c.8-.78.8-2.07 0-2.86zM5.41 20L4 18.59l7.72-7.72 1.47 1.35L5.41 20z\"/>\n",
              "  </svg>\n",
              "      </button>\n",
              "      \n",
              "  <style>\n",
              "    .colab-df-container {\n",
              "      display:flex;\n",
              "      flex-wrap:wrap;\n",
              "      gap: 12px;\n",
              "    }\n",
              "\n",
              "    .colab-df-convert {\n",
              "      background-color: #E8F0FE;\n",
              "      border: none;\n",
              "      border-radius: 50%;\n",
              "      cursor: pointer;\n",
              "      display: none;\n",
              "      fill: #1967D2;\n",
              "      height: 32px;\n",
              "      padding: 0 0 0 0;\n",
              "      width: 32px;\n",
              "    }\n",
              "\n",
              "    .colab-df-convert:hover {\n",
              "      background-color: #E2EBFA;\n",
              "      box-shadow: 0px 1px 2px rgba(60, 64, 67, 0.3), 0px 1px 3px 1px rgba(60, 64, 67, 0.15);\n",
              "      fill: #174EA6;\n",
              "    }\n",
              "\n",
              "    [theme=dark] .colab-df-convert {\n",
              "      background-color: #3B4455;\n",
              "      fill: #D2E3FC;\n",
              "    }\n",
              "\n",
              "    [theme=dark] .colab-df-convert:hover {\n",
              "      background-color: #434B5C;\n",
              "      box-shadow: 0px 1px 3px 1px rgba(0, 0, 0, 0.15);\n",
              "      filter: drop-shadow(0px 1px 2px rgba(0, 0, 0, 0.3));\n",
              "      fill: #FFFFFF;\n",
              "    }\n",
              "  </style>\n",
              "\n",
              "      <script>\n",
              "        const buttonEl =\n",
              "          document.querySelector('#df-e3392690-d20d-467a-9caa-1a047cf3ce56 button.colab-df-convert');\n",
              "        buttonEl.style.display =\n",
              "          google.colab.kernel.accessAllowed ? 'block' : 'none';\n",
              "\n",
              "        async function convertToInteractive(key) {\n",
              "          const element = document.querySelector('#df-e3392690-d20d-467a-9caa-1a047cf3ce56');\n",
              "          const dataTable =\n",
              "            await google.colab.kernel.invokeFunction('convertToInteractive',\n",
              "                                                     [key], {});\n",
              "          if (!dataTable) return;\n",
              "\n",
              "          const docLinkHtml = 'Like what you see? Visit the ' +\n",
              "            '<a target=\"_blank\" href=https://colab.research.google.com/notebooks/data_table.ipynb>data table notebook</a>'\n",
              "            + ' to learn more about interactive tables.';\n",
              "          element.innerHTML = '';\n",
              "          dataTable['output_type'] = 'display_data';\n",
              "          await google.colab.output.renderOutput(dataTable, element);\n",
              "          const docLink = document.createElement('div');\n",
              "          docLink.innerHTML = docLinkHtml;\n",
              "          element.appendChild(docLink);\n",
              "        }\n",
              "      </script>\n",
              "    </div>\n",
              "  </div>\n",
              "  "
            ]
          },
          "metadata": {},
          "execution_count": 3
        }
      ]
    },
    {
      "cell_type": "code",
      "source": [
        "df.tail()"
      ],
      "metadata": {
        "colab": {
          "base_uri": "https://localhost:8080/",
          "height": 270
        },
        "id": "FZIDqPeCSbU1",
        "outputId": "8dea0d7b-d956-4424-a839-666c5b199dac"
      },
      "execution_count": null,
      "outputs": [
        {
          "output_type": "execute_result",
          "data": {
            "text/plain": [
              "      RowNumber  CustomerId    Surname  CreditScore Geography  Gender  Age  \\\n",
              "9995       9996    15606229   Obijiaku          771    France    Male   39   \n",
              "9996       9997    15569892  Johnstone          516    France    Male   35   \n",
              "9997       9998    15584532        Liu          709    France  Female   36   \n",
              "9998       9999    15682355  Sabbatini          772   Germany    Male   42   \n",
              "9999      10000    15628319     Walker          792    France  Female   28   \n",
              "\n",
              "      Tenure    Balance  NumOfProducts  HasCrCard  IsActiveMember  \\\n",
              "9995       5       0.00              2          1               0   \n",
              "9996      10   57369.61              1          1               1   \n",
              "9997       7       0.00              1          0               1   \n",
              "9998       3   75075.31              2          1               0   \n",
              "9999       4  130142.79              1          1               0   \n",
              "\n",
              "      EstimatedSalary  Exited  \n",
              "9995         96270.64       0  \n",
              "9996        101699.77       0  \n",
              "9997         42085.58       1  \n",
              "9998         92888.52       1  \n",
              "9999         38190.78       0  "
            ],
            "text/html": [
              "\n",
              "  <div id=\"df-3f281b7f-0db4-457b-88f8-4b6b53072cf3\">\n",
              "    <div class=\"colab-df-container\">\n",
              "      <div>\n",
              "<style scoped>\n",
              "    .dataframe tbody tr th:only-of-type {\n",
              "        vertical-align: middle;\n",
              "    }\n",
              "\n",
              "    .dataframe tbody tr th {\n",
              "        vertical-align: top;\n",
              "    }\n",
              "\n",
              "    .dataframe thead th {\n",
              "        text-align: right;\n",
              "    }\n",
              "</style>\n",
              "<table border=\"1\" class=\"dataframe\">\n",
              "  <thead>\n",
              "    <tr style=\"text-align: right;\">\n",
              "      <th></th>\n",
              "      <th>RowNumber</th>\n",
              "      <th>CustomerId</th>\n",
              "      <th>Surname</th>\n",
              "      <th>CreditScore</th>\n",
              "      <th>Geography</th>\n",
              "      <th>Gender</th>\n",
              "      <th>Age</th>\n",
              "      <th>Tenure</th>\n",
              "      <th>Balance</th>\n",
              "      <th>NumOfProducts</th>\n",
              "      <th>HasCrCard</th>\n",
              "      <th>IsActiveMember</th>\n",
              "      <th>EstimatedSalary</th>\n",
              "      <th>Exited</th>\n",
              "    </tr>\n",
              "  </thead>\n",
              "  <tbody>\n",
              "    <tr>\n",
              "      <th>9995</th>\n",
              "      <td>9996</td>\n",
              "      <td>15606229</td>\n",
              "      <td>Obijiaku</td>\n",
              "      <td>771</td>\n",
              "      <td>France</td>\n",
              "      <td>Male</td>\n",
              "      <td>39</td>\n",
              "      <td>5</td>\n",
              "      <td>0.00</td>\n",
              "      <td>2</td>\n",
              "      <td>1</td>\n",
              "      <td>0</td>\n",
              "      <td>96270.64</td>\n",
              "      <td>0</td>\n",
              "    </tr>\n",
              "    <tr>\n",
              "      <th>9996</th>\n",
              "      <td>9997</td>\n",
              "      <td>15569892</td>\n",
              "      <td>Johnstone</td>\n",
              "      <td>516</td>\n",
              "      <td>France</td>\n",
              "      <td>Male</td>\n",
              "      <td>35</td>\n",
              "      <td>10</td>\n",
              "      <td>57369.61</td>\n",
              "      <td>1</td>\n",
              "      <td>1</td>\n",
              "      <td>1</td>\n",
              "      <td>101699.77</td>\n",
              "      <td>0</td>\n",
              "    </tr>\n",
              "    <tr>\n",
              "      <th>9997</th>\n",
              "      <td>9998</td>\n",
              "      <td>15584532</td>\n",
              "      <td>Liu</td>\n",
              "      <td>709</td>\n",
              "      <td>France</td>\n",
              "      <td>Female</td>\n",
              "      <td>36</td>\n",
              "      <td>7</td>\n",
              "      <td>0.00</td>\n",
              "      <td>1</td>\n",
              "      <td>0</td>\n",
              "      <td>1</td>\n",
              "      <td>42085.58</td>\n",
              "      <td>1</td>\n",
              "    </tr>\n",
              "    <tr>\n",
              "      <th>9998</th>\n",
              "      <td>9999</td>\n",
              "      <td>15682355</td>\n",
              "      <td>Sabbatini</td>\n",
              "      <td>772</td>\n",
              "      <td>Germany</td>\n",
              "      <td>Male</td>\n",
              "      <td>42</td>\n",
              "      <td>3</td>\n",
              "      <td>75075.31</td>\n",
              "      <td>2</td>\n",
              "      <td>1</td>\n",
              "      <td>0</td>\n",
              "      <td>92888.52</td>\n",
              "      <td>1</td>\n",
              "    </tr>\n",
              "    <tr>\n",
              "      <th>9999</th>\n",
              "      <td>10000</td>\n",
              "      <td>15628319</td>\n",
              "      <td>Walker</td>\n",
              "      <td>792</td>\n",
              "      <td>France</td>\n",
              "      <td>Female</td>\n",
              "      <td>28</td>\n",
              "      <td>4</td>\n",
              "      <td>130142.79</td>\n",
              "      <td>1</td>\n",
              "      <td>1</td>\n",
              "      <td>0</td>\n",
              "      <td>38190.78</td>\n",
              "      <td>0</td>\n",
              "    </tr>\n",
              "  </tbody>\n",
              "</table>\n",
              "</div>\n",
              "      <button class=\"colab-df-convert\" onclick=\"convertToInteractive('df-3f281b7f-0db4-457b-88f8-4b6b53072cf3')\"\n",
              "              title=\"Convert this dataframe to an interactive table.\"\n",
              "              style=\"display:none;\">\n",
              "        \n",
              "  <svg xmlns=\"http://www.w3.org/2000/svg\" height=\"24px\"viewBox=\"0 0 24 24\"\n",
              "       width=\"24px\">\n",
              "    <path d=\"M0 0h24v24H0V0z\" fill=\"none\"/>\n",
              "    <path d=\"M18.56 5.44l.94 2.06.94-2.06 2.06-.94-2.06-.94-.94-2.06-.94 2.06-2.06.94zm-11 1L8.5 8.5l.94-2.06 2.06-.94-2.06-.94L8.5 2.5l-.94 2.06-2.06.94zm10 10l.94 2.06.94-2.06 2.06-.94-2.06-.94-.94-2.06-.94 2.06-2.06.94z\"/><path d=\"M17.41 7.96l-1.37-1.37c-.4-.4-.92-.59-1.43-.59-.52 0-1.04.2-1.43.59L10.3 9.45l-7.72 7.72c-.78.78-.78 2.05 0 2.83L4 21.41c.39.39.9.59 1.41.59.51 0 1.02-.2 1.41-.59l7.78-7.78 2.81-2.81c.8-.78.8-2.07 0-2.86zM5.41 20L4 18.59l7.72-7.72 1.47 1.35L5.41 20z\"/>\n",
              "  </svg>\n",
              "      </button>\n",
              "      \n",
              "  <style>\n",
              "    .colab-df-container {\n",
              "      display:flex;\n",
              "      flex-wrap:wrap;\n",
              "      gap: 12px;\n",
              "    }\n",
              "\n",
              "    .colab-df-convert {\n",
              "      background-color: #E8F0FE;\n",
              "      border: none;\n",
              "      border-radius: 50%;\n",
              "      cursor: pointer;\n",
              "      display: none;\n",
              "      fill: #1967D2;\n",
              "      height: 32px;\n",
              "      padding: 0 0 0 0;\n",
              "      width: 32px;\n",
              "    }\n",
              "\n",
              "    .colab-df-convert:hover {\n",
              "      background-color: #E2EBFA;\n",
              "      box-shadow: 0px 1px 2px rgba(60, 64, 67, 0.3), 0px 1px 3px 1px rgba(60, 64, 67, 0.15);\n",
              "      fill: #174EA6;\n",
              "    }\n",
              "\n",
              "    [theme=dark] .colab-df-convert {\n",
              "      background-color: #3B4455;\n",
              "      fill: #D2E3FC;\n",
              "    }\n",
              "\n",
              "    [theme=dark] .colab-df-convert:hover {\n",
              "      background-color: #434B5C;\n",
              "      box-shadow: 0px 1px 3px 1px rgba(0, 0, 0, 0.15);\n",
              "      filter: drop-shadow(0px 1px 2px rgba(0, 0, 0, 0.3));\n",
              "      fill: #FFFFFF;\n",
              "    }\n",
              "  </style>\n",
              "\n",
              "      <script>\n",
              "        const buttonEl =\n",
              "          document.querySelector('#df-3f281b7f-0db4-457b-88f8-4b6b53072cf3 button.colab-df-convert');\n",
              "        buttonEl.style.display =\n",
              "          google.colab.kernel.accessAllowed ? 'block' : 'none';\n",
              "\n",
              "        async function convertToInteractive(key) {\n",
              "          const element = document.querySelector('#df-3f281b7f-0db4-457b-88f8-4b6b53072cf3');\n",
              "          const dataTable =\n",
              "            await google.colab.kernel.invokeFunction('convertToInteractive',\n",
              "                                                     [key], {});\n",
              "          if (!dataTable) return;\n",
              "\n",
              "          const docLinkHtml = 'Like what you see? Visit the ' +\n",
              "            '<a target=\"_blank\" href=https://colab.research.google.com/notebooks/data_table.ipynb>data table notebook</a>'\n",
              "            + ' to learn more about interactive tables.';\n",
              "          element.innerHTML = '';\n",
              "          dataTable['output_type'] = 'display_data';\n",
              "          await google.colab.output.renderOutput(dataTable, element);\n",
              "          const docLink = document.createElement('div');\n",
              "          docLink.innerHTML = docLinkHtml;\n",
              "          element.appendChild(docLink);\n",
              "        }\n",
              "      </script>\n",
              "    </div>\n",
              "  </div>\n",
              "  "
            ]
          },
          "metadata": {},
          "execution_count": 4
        }
      ]
    },
    {
      "cell_type": "code",
      "source": [
        "df.info()"
      ],
      "metadata": {
        "colab": {
          "base_uri": "https://localhost:8080/"
        },
        "id": "DqsM2JBsSn6s",
        "outputId": "5da4f8b7-69d6-41e9-aef0-c40ab54ce4d6"
      },
      "execution_count": null,
      "outputs": [
        {
          "output_type": "stream",
          "name": "stdout",
          "text": [
            "<class 'pandas.core.frame.DataFrame'>\n",
            "RangeIndex: 10000 entries, 0 to 9999\n",
            "Data columns (total 14 columns):\n",
            " #   Column           Non-Null Count  Dtype  \n",
            "---  ------           --------------  -----  \n",
            " 0   RowNumber        10000 non-null  int64  \n",
            " 1   CustomerId       10000 non-null  int64  \n",
            " 2   Surname          10000 non-null  object \n",
            " 3   CreditScore      10000 non-null  int64  \n",
            " 4   Geography        10000 non-null  object \n",
            " 5   Gender           10000 non-null  object \n",
            " 6   Age              10000 non-null  int64  \n",
            " 7   Tenure           10000 non-null  int64  \n",
            " 8   Balance          10000 non-null  float64\n",
            " 9   NumOfProducts    10000 non-null  int64  \n",
            " 10  HasCrCard        10000 non-null  int64  \n",
            " 11  IsActiveMember   10000 non-null  int64  \n",
            " 12  EstimatedSalary  10000 non-null  float64\n",
            " 13  Exited           10000 non-null  int64  \n",
            "dtypes: float64(2), int64(9), object(3)\n",
            "memory usage: 1.1+ MB\n"
          ]
        }
      ]
    },
    {
      "cell_type": "code",
      "source": [
        "df.describe()"
      ],
      "metadata": {
        "colab": {
          "base_uri": "https://localhost:8080/",
          "height": 364
        },
        "id": "V2Pa8J8PSqBp",
        "outputId": "72bc9ad5-b151-4bd3-f976-e70b56da6440"
      },
      "execution_count": null,
      "outputs": [
        {
          "output_type": "execute_result",
          "data": {
            "text/plain": [
              "         RowNumber    CustomerId   CreditScore           Age        Tenure  \\\n",
              "count  10000.00000  1.000000e+04  10000.000000  10000.000000  10000.000000   \n",
              "mean    5000.50000  1.569094e+07    650.528800     38.921800      5.012800   \n",
              "std     2886.89568  7.193619e+04     96.653299     10.487806      2.892174   \n",
              "min        1.00000  1.556570e+07    350.000000     18.000000      0.000000   \n",
              "25%     2500.75000  1.562853e+07    584.000000     32.000000      3.000000   \n",
              "50%     5000.50000  1.569074e+07    652.000000     37.000000      5.000000   \n",
              "75%     7500.25000  1.575323e+07    718.000000     44.000000      7.000000   \n",
              "max    10000.00000  1.581569e+07    850.000000     92.000000     10.000000   \n",
              "\n",
              "             Balance  NumOfProducts    HasCrCard  IsActiveMember  \\\n",
              "count   10000.000000   10000.000000  10000.00000    10000.000000   \n",
              "mean    76485.889288       1.530200      0.70550        0.515100   \n",
              "std     62397.405202       0.581654      0.45584        0.499797   \n",
              "min         0.000000       1.000000      0.00000        0.000000   \n",
              "25%         0.000000       1.000000      0.00000        0.000000   \n",
              "50%     97198.540000       1.000000      1.00000        1.000000   \n",
              "75%    127644.240000       2.000000      1.00000        1.000000   \n",
              "max    250898.090000       4.000000      1.00000        1.000000   \n",
              "\n",
              "       EstimatedSalary        Exited  \n",
              "count     10000.000000  10000.000000  \n",
              "mean     100090.239881      0.203700  \n",
              "std       57510.492818      0.402769  \n",
              "min          11.580000      0.000000  \n",
              "25%       51002.110000      0.000000  \n",
              "50%      100193.915000      0.000000  \n",
              "75%      149388.247500      0.000000  \n",
              "max      199992.480000      1.000000  "
            ],
            "text/html": [
              "\n",
              "  <div id=\"df-9834f582-6c33-4dac-8fa2-67d8d9e55ea1\">\n",
              "    <div class=\"colab-df-container\">\n",
              "      <div>\n",
              "<style scoped>\n",
              "    .dataframe tbody tr th:only-of-type {\n",
              "        vertical-align: middle;\n",
              "    }\n",
              "\n",
              "    .dataframe tbody tr th {\n",
              "        vertical-align: top;\n",
              "    }\n",
              "\n",
              "    .dataframe thead th {\n",
              "        text-align: right;\n",
              "    }\n",
              "</style>\n",
              "<table border=\"1\" class=\"dataframe\">\n",
              "  <thead>\n",
              "    <tr style=\"text-align: right;\">\n",
              "      <th></th>\n",
              "      <th>RowNumber</th>\n",
              "      <th>CustomerId</th>\n",
              "      <th>CreditScore</th>\n",
              "      <th>Age</th>\n",
              "      <th>Tenure</th>\n",
              "      <th>Balance</th>\n",
              "      <th>NumOfProducts</th>\n",
              "      <th>HasCrCard</th>\n",
              "      <th>IsActiveMember</th>\n",
              "      <th>EstimatedSalary</th>\n",
              "      <th>Exited</th>\n",
              "    </tr>\n",
              "  </thead>\n",
              "  <tbody>\n",
              "    <tr>\n",
              "      <th>count</th>\n",
              "      <td>10000.00000</td>\n",
              "      <td>1.000000e+04</td>\n",
              "      <td>10000.000000</td>\n",
              "      <td>10000.000000</td>\n",
              "      <td>10000.000000</td>\n",
              "      <td>10000.000000</td>\n",
              "      <td>10000.000000</td>\n",
              "      <td>10000.00000</td>\n",
              "      <td>10000.000000</td>\n",
              "      <td>10000.000000</td>\n",
              "      <td>10000.000000</td>\n",
              "    </tr>\n",
              "    <tr>\n",
              "      <th>mean</th>\n",
              "      <td>5000.50000</td>\n",
              "      <td>1.569094e+07</td>\n",
              "      <td>650.528800</td>\n",
              "      <td>38.921800</td>\n",
              "      <td>5.012800</td>\n",
              "      <td>76485.889288</td>\n",
              "      <td>1.530200</td>\n",
              "      <td>0.70550</td>\n",
              "      <td>0.515100</td>\n",
              "      <td>100090.239881</td>\n",
              "      <td>0.203700</td>\n",
              "    </tr>\n",
              "    <tr>\n",
              "      <th>std</th>\n",
              "      <td>2886.89568</td>\n",
              "      <td>7.193619e+04</td>\n",
              "      <td>96.653299</td>\n",
              "      <td>10.487806</td>\n",
              "      <td>2.892174</td>\n",
              "      <td>62397.405202</td>\n",
              "      <td>0.581654</td>\n",
              "      <td>0.45584</td>\n",
              "      <td>0.499797</td>\n",
              "      <td>57510.492818</td>\n",
              "      <td>0.402769</td>\n",
              "    </tr>\n",
              "    <tr>\n",
              "      <th>min</th>\n",
              "      <td>1.00000</td>\n",
              "      <td>1.556570e+07</td>\n",
              "      <td>350.000000</td>\n",
              "      <td>18.000000</td>\n",
              "      <td>0.000000</td>\n",
              "      <td>0.000000</td>\n",
              "      <td>1.000000</td>\n",
              "      <td>0.00000</td>\n",
              "      <td>0.000000</td>\n",
              "      <td>11.580000</td>\n",
              "      <td>0.000000</td>\n",
              "    </tr>\n",
              "    <tr>\n",
              "      <th>25%</th>\n",
              "      <td>2500.75000</td>\n",
              "      <td>1.562853e+07</td>\n",
              "      <td>584.000000</td>\n",
              "      <td>32.000000</td>\n",
              "      <td>3.000000</td>\n",
              "      <td>0.000000</td>\n",
              "      <td>1.000000</td>\n",
              "      <td>0.00000</td>\n",
              "      <td>0.000000</td>\n",
              "      <td>51002.110000</td>\n",
              "      <td>0.000000</td>\n",
              "    </tr>\n",
              "    <tr>\n",
              "      <th>50%</th>\n",
              "      <td>5000.50000</td>\n",
              "      <td>1.569074e+07</td>\n",
              "      <td>652.000000</td>\n",
              "      <td>37.000000</td>\n",
              "      <td>5.000000</td>\n",
              "      <td>97198.540000</td>\n",
              "      <td>1.000000</td>\n",
              "      <td>1.00000</td>\n",
              "      <td>1.000000</td>\n",
              "      <td>100193.915000</td>\n",
              "      <td>0.000000</td>\n",
              "    </tr>\n",
              "    <tr>\n",
              "      <th>75%</th>\n",
              "      <td>7500.25000</td>\n",
              "      <td>1.575323e+07</td>\n",
              "      <td>718.000000</td>\n",
              "      <td>44.000000</td>\n",
              "      <td>7.000000</td>\n",
              "      <td>127644.240000</td>\n",
              "      <td>2.000000</td>\n",
              "      <td>1.00000</td>\n",
              "      <td>1.000000</td>\n",
              "      <td>149388.247500</td>\n",
              "      <td>0.000000</td>\n",
              "    </tr>\n",
              "    <tr>\n",
              "      <th>max</th>\n",
              "      <td>10000.00000</td>\n",
              "      <td>1.581569e+07</td>\n",
              "      <td>850.000000</td>\n",
              "      <td>92.000000</td>\n",
              "      <td>10.000000</td>\n",
              "      <td>250898.090000</td>\n",
              "      <td>4.000000</td>\n",
              "      <td>1.00000</td>\n",
              "      <td>1.000000</td>\n",
              "      <td>199992.480000</td>\n",
              "      <td>1.000000</td>\n",
              "    </tr>\n",
              "  </tbody>\n",
              "</table>\n",
              "</div>\n",
              "      <button class=\"colab-df-convert\" onclick=\"convertToInteractive('df-9834f582-6c33-4dac-8fa2-67d8d9e55ea1')\"\n",
              "              title=\"Convert this dataframe to an interactive table.\"\n",
              "              style=\"display:none;\">\n",
              "        \n",
              "  <svg xmlns=\"http://www.w3.org/2000/svg\" height=\"24px\"viewBox=\"0 0 24 24\"\n",
              "       width=\"24px\">\n",
              "    <path d=\"M0 0h24v24H0V0z\" fill=\"none\"/>\n",
              "    <path d=\"M18.56 5.44l.94 2.06.94-2.06 2.06-.94-2.06-.94-.94-2.06-.94 2.06-2.06.94zm-11 1L8.5 8.5l.94-2.06 2.06-.94-2.06-.94L8.5 2.5l-.94 2.06-2.06.94zm10 10l.94 2.06.94-2.06 2.06-.94-2.06-.94-.94-2.06-.94 2.06-2.06.94z\"/><path d=\"M17.41 7.96l-1.37-1.37c-.4-.4-.92-.59-1.43-.59-.52 0-1.04.2-1.43.59L10.3 9.45l-7.72 7.72c-.78.78-.78 2.05 0 2.83L4 21.41c.39.39.9.59 1.41.59.51 0 1.02-.2 1.41-.59l7.78-7.78 2.81-2.81c.8-.78.8-2.07 0-2.86zM5.41 20L4 18.59l7.72-7.72 1.47 1.35L5.41 20z\"/>\n",
              "  </svg>\n",
              "      </button>\n",
              "      \n",
              "  <style>\n",
              "    .colab-df-container {\n",
              "      display:flex;\n",
              "      flex-wrap:wrap;\n",
              "      gap: 12px;\n",
              "    }\n",
              "\n",
              "    .colab-df-convert {\n",
              "      background-color: #E8F0FE;\n",
              "      border: none;\n",
              "      border-radius: 50%;\n",
              "      cursor: pointer;\n",
              "      display: none;\n",
              "      fill: #1967D2;\n",
              "      height: 32px;\n",
              "      padding: 0 0 0 0;\n",
              "      width: 32px;\n",
              "    }\n",
              "\n",
              "    .colab-df-convert:hover {\n",
              "      background-color: #E2EBFA;\n",
              "      box-shadow: 0px 1px 2px rgba(60, 64, 67, 0.3), 0px 1px 3px 1px rgba(60, 64, 67, 0.15);\n",
              "      fill: #174EA6;\n",
              "    }\n",
              "\n",
              "    [theme=dark] .colab-df-convert {\n",
              "      background-color: #3B4455;\n",
              "      fill: #D2E3FC;\n",
              "    }\n",
              "\n",
              "    [theme=dark] .colab-df-convert:hover {\n",
              "      background-color: #434B5C;\n",
              "      box-shadow: 0px 1px 3px 1px rgba(0, 0, 0, 0.15);\n",
              "      filter: drop-shadow(0px 1px 2px rgba(0, 0, 0, 0.3));\n",
              "      fill: #FFFFFF;\n",
              "    }\n",
              "  </style>\n",
              "\n",
              "      <script>\n",
              "        const buttonEl =\n",
              "          document.querySelector('#df-9834f582-6c33-4dac-8fa2-67d8d9e55ea1 button.colab-df-convert');\n",
              "        buttonEl.style.display =\n",
              "          google.colab.kernel.accessAllowed ? 'block' : 'none';\n",
              "\n",
              "        async function convertToInteractive(key) {\n",
              "          const element = document.querySelector('#df-9834f582-6c33-4dac-8fa2-67d8d9e55ea1');\n",
              "          const dataTable =\n",
              "            await google.colab.kernel.invokeFunction('convertToInteractive',\n",
              "                                                     [key], {});\n",
              "          if (!dataTable) return;\n",
              "\n",
              "          const docLinkHtml = 'Like what you see? Visit the ' +\n",
              "            '<a target=\"_blank\" href=https://colab.research.google.com/notebooks/data_table.ipynb>data table notebook</a>'\n",
              "            + ' to learn more about interactive tables.';\n",
              "          element.innerHTML = '';\n",
              "          dataTable['output_type'] = 'display_data';\n",
              "          await google.colab.output.renderOutput(dataTable, element);\n",
              "          const docLink = document.createElement('div');\n",
              "          docLink.innerHTML = docLinkHtml;\n",
              "          element.appendChild(docLink);\n",
              "        }\n",
              "      </script>\n",
              "    </div>\n",
              "  </div>\n",
              "  "
            ]
          },
          "metadata": {},
          "execution_count": 6
        }
      ]
    },
    {
      "cell_type": "code",
      "source": [
        "df.isnull().sum()"
      ],
      "metadata": {
        "colab": {
          "base_uri": "https://localhost:8080/"
        },
        "id": "r3vUt0LUStHZ",
        "outputId": "edec1fbe-7910-4a3b-b51b-fcd5deeaa3de"
      },
      "execution_count": null,
      "outputs": [
        {
          "output_type": "execute_result",
          "data": {
            "text/plain": [
              "RowNumber          0\n",
              "CustomerId         0\n",
              "Surname            0\n",
              "CreditScore        0\n",
              "Geography          0\n",
              "Gender             0\n",
              "Age                0\n",
              "Tenure             0\n",
              "Balance            0\n",
              "NumOfProducts      0\n",
              "HasCrCard          0\n",
              "IsActiveMember     0\n",
              "EstimatedSalary    0\n",
              "Exited             0\n",
              "dtype: int64"
            ]
          },
          "metadata": {},
          "execution_count": 7
        }
      ]
    },
    {
      "cell_type": "code",
      "source": [
        "df.columns"
      ],
      "metadata": {
        "colab": {
          "base_uri": "https://localhost:8080/"
        },
        "id": "2jrtS15TS7H8",
        "outputId": "f6161553-8267-4327-feb1-f1b7cb045b90"
      },
      "execution_count": null,
      "outputs": [
        {
          "output_type": "execute_result",
          "data": {
            "text/plain": [
              "Index(['RowNumber', 'CustomerId', 'Surname', 'CreditScore', 'Geography',\n",
              "       'Gender', 'Age', 'Tenure', 'Balance', 'NumOfProducts', 'HasCrCard',\n",
              "       'IsActiveMember', 'EstimatedSalary', 'Exited'],\n",
              "      dtype='object')"
            ]
          },
          "metadata": {},
          "execution_count": 8
        }
      ]
    },
    {
      "cell_type": "markdown",
      "source": [
        "Binary Classification"
      ],
      "metadata": {
        "id": "dvNu0c6jTgPV"
      }
    },
    {
      "cell_type": "code",
      "source": [
        "#define x and y\n",
        "x = df.iloc[:,7:13]\n",
        "y = df.iloc[:,13:]\n",
        "x.head(),y.head()"
      ],
      "metadata": {
        "colab": {
          "base_uri": "https://localhost:8080/"
        },
        "id": "zfGDYOaHTemB",
        "outputId": "8ca6dc4e-805a-4701-e0df-b3d6f0f52d43"
      },
      "execution_count": null,
      "outputs": [
        {
          "output_type": "execute_result",
          "data": {
            "text/plain": [
              "(   Tenure    Balance  NumOfProducts  HasCrCard  IsActiveMember  \\\n",
              " 0       2       0.00              1          1               1   \n",
              " 1       1   83807.86              1          0               1   \n",
              " 2       8  159660.80              3          1               0   \n",
              " 3       1       0.00              2          0               0   \n",
              " 4       2  125510.82              1          1               1   \n",
              " \n",
              "    EstimatedSalary  \n",
              " 0        101348.88  \n",
              " 1        112542.58  \n",
              " 2        113931.57  \n",
              " 3         93826.63  \n",
              " 4         79084.10  ,\n",
              "    Exited\n",
              " 0       1\n",
              " 1       0\n",
              " 2       1\n",
              " 3       0\n",
              " 4       0)"
            ]
          },
          "metadata": {},
          "execution_count": 9
        }
      ]
    },
    {
      "cell_type": "markdown",
      "source": [
        "Feature Scaling"
      ],
      "metadata": {
        "id": "sd1nagP-UREI"
      }
    },
    {
      "cell_type": "code",
      "source": [
        "from sklearn.preprocessing import StandardScaler\n",
        "ss = StandardScaler()\n",
        "ssx = ss.fit_transform(x)\n",
        "print(ssx[:5])\n",
        "print(pd.DataFrame(ssx).describe())"
      ],
      "metadata": {
        "colab": {
          "base_uri": "https://localhost:8080/"
        },
        "id": "-NFg0omQUOYj",
        "outputId": "c58c1686-f19b-49fb-dd5d-526692ee31b1"
      },
      "execution_count": null,
      "outputs": [
        {
          "output_type": "stream",
          "name": "stdout",
          "text": [
            "[[-1.04175968 -1.22584767 -0.91158349  0.64609167  0.97024255  0.02188649]\n",
            " [-1.38753759  0.11735002 -0.91158349 -1.54776799  0.97024255  0.21653375]\n",
            " [ 1.03290776  1.33305335  2.52705662  0.64609167 -1.03067011  0.2406869 ]\n",
            " [-1.38753759 -1.22584767  0.80773656 -1.54776799 -1.03067011 -0.10891792]\n",
            " [-1.04175968  0.7857279  -0.91158349  0.64609167  0.97024255 -0.36527578]]\n",
            "                  0             1             2             3             4  \\\n",
            "count  1.000000e+04  1.000000e+04  1.000000e+04  1.000000e+04  1.000000e+04   \n",
            "mean  -1.078249e-16 -6.252776e-17  1.634248e-17 -5.258016e-17 -7.389644e-17   \n",
            "std    1.000050e+00  1.000050e+00  1.000050e+00  1.000050e+00  1.000050e+00   \n",
            "min   -1.733315e+00 -1.225848e+00 -9.115835e-01 -1.547768e+00 -1.030670e+00   \n",
            "25%   -6.959818e-01 -1.225848e+00 -9.115835e-01 -1.547768e+00 -1.030670e+00   \n",
            "50%   -4.425957e-03  3.319639e-01 -9.115835e-01  6.460917e-01  9.702426e-01   \n",
            "75%    6.871299e-01  8.199205e-01  8.077366e-01  6.460917e-01  9.702426e-01   \n",
            "max    1.724464e+00  2.795323e+00  4.246377e+00  6.460917e-01  9.702426e-01   \n",
            "\n",
            "                  5  \n",
            "count  1.000000e+04  \n",
            "mean  -2.877698e-17  \n",
            "std    1.000050e+00  \n",
            "min   -1.740268e+00  \n",
            "25%   -8.535935e-01  \n",
            "50%    1.802807e-03  \n",
            "75%    8.572431e-01  \n",
            "max    1.737200e+00  \n"
          ]
        }
      ]
    },
    {
      "cell_type": "code",
      "source": [
        "from sklearn.preprocessing import MinMaxScaler\n",
        "mms = MinMaxScaler()\n",
        "mmsx = mms.fit_transform(x)\n",
        "print(mmsx[:5])\n",
        "print(pd.DataFrame(mmsx).describe())"
      ],
      "metadata": {
        "colab": {
          "base_uri": "https://localhost:8080/"
        },
        "id": "q85wEh89VITF",
        "outputId": "48557c6d-14fd-44dd-9def-a9892d4de195"
      },
      "execution_count": null,
      "outputs": [
        {
          "output_type": "stream",
          "name": "stdout",
          "text": [
            "[[0.2        0.         0.         1.         1.         0.50673489]\n",
            " [0.1        0.33403148 0.         0.         1.         0.56270874]\n",
            " [0.8        0.63635718 0.66666667 1.         0.         0.56965435]\n",
            " [0.1        0.         0.33333333 0.         0.         0.46912005]\n",
            " [0.2        0.50024622 0.         1.         1.         0.39540036]]\n",
            "                  0             1             2            3             4  \\\n",
            "count  10000.000000  10000.000000  10000.000000  10000.00000  10000.000000   \n",
            "mean       0.501280      0.304848      0.176733      0.70550      0.515100   \n",
            "std        0.289217      0.248696      0.193885      0.45584      0.499797   \n",
            "min        0.000000      0.000000      0.000000      0.00000      0.000000   \n",
            "25%        0.300000      0.000000      0.000000      0.00000      0.000000   \n",
            "50%        0.500000      0.387402      0.000000      1.00000      1.000000   \n",
            "75%        0.700000      0.508749      0.333333      1.00000      1.000000   \n",
            "max        1.000000      1.000000      1.000000      1.00000      1.000000   \n",
            "\n",
            "                  5  \n",
            "count  10000.000000  \n",
            "mean       0.500441  \n",
            "std        0.287580  \n",
            "min        0.000000  \n",
            "25%        0.254977  \n",
            "50%        0.500960  \n",
            "75%        0.746955  \n",
            "max        1.000000  \n"
          ]
        }
      ]
    },
    {
      "cell_type": "code",
      "source": [
        "from keras.utils import np_utils\n",
        "npy=np_utils.to_categorical(y)\n",
        "print(npy[:5])"
      ],
      "metadata": {
        "colab": {
          "base_uri": "https://localhost:8080/"
        },
        "id": "y0jqGKYoV3Q7",
        "outputId": "a68c5f9f-a7e7-4f3a-e3b7-bf8c55bbac60"
      },
      "execution_count": null,
      "outputs": [
        {
          "output_type": "stream",
          "name": "stdout",
          "text": [
            "[[0. 1.]\n",
            " [1. 0.]\n",
            " [0. 1.]\n",
            " [1. 0.]\n",
            " [1. 0.]]\n"
          ]
        }
      ]
    },
    {
      "cell_type": "code",
      "source": [
        "import pandas as pd\n",
        "ys=y.squeeze()\n",
        "pdy=pd.get_dummies(ys).values\n",
        "print(pdy[:5])"
      ],
      "metadata": {
        "colab": {
          "base_uri": "https://localhost:8080/"
        },
        "id": "Njp8U78yWKrs",
        "outputId": "20d331d4-afed-442b-d797-b28bf72478bc"
      },
      "execution_count": null,
      "outputs": [
        {
          "output_type": "stream",
          "name": "stdout",
          "text": [
            "[[0 1]\n",
            " [1 0]\n",
            " [0 1]\n",
            " [1 0]\n",
            " [1 0]]\n"
          ]
        }
      ]
    },
    {
      "cell_type": "code",
      "source": [
        "pdydf=pd.get_dummies(ys)\n",
        "print(pdydf.head(2))\n"
      ],
      "metadata": {
        "colab": {
          "base_uri": "https://localhost:8080/"
        },
        "id": "rMAQAo0xWOy7",
        "outputId": "92959044-2a1a-47fd-db67-cbe182238803"
      },
      "execution_count": null,
      "outputs": [
        {
          "output_type": "stream",
          "name": "stdout",
          "text": [
            "   0  1\n",
            "0  0  1\n",
            "1  1  0\n"
          ]
        }
      ]
    },
    {
      "cell_type": "markdown",
      "source": [
        "Train Test Split"
      ],
      "metadata": {
        "id": "0-84Zxf-WTri"
      }
    },
    {
      "cell_type": "code",
      "source": [
        "from sklearn.model_selection import train_test_split\n"
      ],
      "metadata": {
        "id": "72kRUwDbWSSn"
      },
      "execution_count": null,
      "outputs": []
    },
    {
      "cell_type": "code",
      "source": [
        "x_train,x_test,y_train,y_test=train_test_split(ssx,pdy,test_size=.25,random_state=15)"
      ],
      "metadata": {
        "id": "3NQeZFYsWbK6"
      },
      "execution_count": null,
      "outputs": []
    },
    {
      "cell_type": "code",
      "source": [
        "y_train.shape"
      ],
      "metadata": {
        "colab": {
          "base_uri": "https://localhost:8080/"
        },
        "id": "xXWW0NQ1WeC-",
        "outputId": "c18027c5-b678-467f-b91a-4c6216ea48f2"
      },
      "execution_count": null,
      "outputs": [
        {
          "output_type": "execute_result",
          "data": {
            "text/plain": [
              "(7500, 2)"
            ]
          },
          "metadata": {},
          "execution_count": 19
        }
      ]
    },
    {
      "cell_type": "markdown",
      "source": [
        "Import and Build Neural Network"
      ],
      "metadata": {
        "id": "A_r0O6LyWnAd"
      }
    },
    {
      "cell_type": "code",
      "source": [
        "print(x_train. shape)\n",
        "print(y_train. shape)\n",
        "print(x_test.shape)\n",
        "print(y_test.shape)"
      ],
      "metadata": {
        "colab": {
          "base_uri": "https://localhost:8080/"
        },
        "id": "5MPii-40WlHH",
        "outputId": "e876767c-88a7-4ead-df95-e82c1ba49cb1"
      },
      "execution_count": null,
      "outputs": [
        {
          "output_type": "stream",
          "name": "stdout",
          "text": [
            "(7500, 6)\n",
            "(7500, 2)\n",
            "(2500, 6)\n",
            "(2500, 2)\n"
          ]
        }
      ]
    },
    {
      "cell_type": "code",
      "source": [
        "import tensorflow as tf\n",
        "from tensorflow import keras\n",
        "from keras.models import Sequential\n",
        "from keras.layers import Dense,Activation\n",
        "from keras.optimizers import Adam\n",
        "from keras.metrics import binary_crossentropy"
      ],
      "metadata": {
        "id": "UOXy74vZWt4M"
      },
      "execution_count": null,
      "outputs": []
    },
    {
      "cell_type": "code",
      "source": [
        "#single layer feedforward networks\n",
        "model=Sequential([\n",
        "#input layer\n",
        "Dense(units=5,input_dim=6,activation='relu'),\n",
        "#hidden\n",
        "#Dense(units=25,activation='sigmoid'),\n",
        "#Dense(units=35,activation='sigmoid),\n",
        "#Dense(units=55,activation='sigmoid'),\n",
        "#output layers\n",
        "Dense(units=2,activation='sigmoid')\n",
        "])"
      ],
      "metadata": {
        "id": "bBGxzP3TWwcE"
      },
      "execution_count": null,
      "outputs": []
    },
    {
      "cell_type": "code",
      "source": [
        "model.compile(loss='binary_crossentropy',optimizer='adam',metrics='accuracy')"
      ],
      "metadata": {
        "id": "WdGNv5BIW_i2"
      },
      "execution_count": null,
      "outputs": []
    },
    {
      "cell_type": "code",
      "source": [
        "model.summary()"
      ],
      "metadata": {
        "colab": {
          "base_uri": "https://localhost:8080/"
        },
        "id": "sBjpFFO4XCX-",
        "outputId": "10633508-3c8e-4661-89dd-eb5de977049d"
      },
      "execution_count": null,
      "outputs": [
        {
          "output_type": "stream",
          "name": "stdout",
          "text": [
            "Model: \"sequential\"\n",
            "_________________________________________________________________\n",
            " Layer (type)                Output Shape              Param #   \n",
            "=================================================================\n",
            " dense (Dense)               (None, 5)                 35        \n",
            "                                                                 \n",
            " dense_1 (Dense)             (None, 2)                 12        \n",
            "                                                                 \n",
            "=================================================================\n",
            "Total params: 47\n",
            "Trainable params: 47\n",
            "Non-trainable params: 0\n",
            "_________________________________________________________________\n"
          ]
        }
      ]
    },
    {
      "cell_type": "markdown",
      "source": [
        "Train the Model"
      ],
      "metadata": {
        "id": "sfj3MylXXGt1"
      }
    },
    {
      "cell_type": "code",
      "source": [
        "d=model.fit(x_train,y_train,validation_data=(x_test,y_test),epochs=200)"
      ],
      "metadata": {
        "colab": {
          "base_uri": "https://localhost:8080/"
        },
        "id": "r-f15IMBXEwg",
        "outputId": "24e8d6a0-c185-4604-9954-6f91028d9e0b"
      },
      "execution_count": null,
      "outputs": [
        {
          "output_type": "stream",
          "name": "stdout",
          "text": [
            "Epoch 1/200\n",
            "235/235 [==============================] - 2s 4ms/step - loss: 0.6627 - accuracy: 0.6207 - val_loss: 0.5915 - val_accuracy: 0.7004\n",
            "Epoch 2/200\n",
            "235/235 [==============================] - 1s 3ms/step - loss: 0.5536 - accuracy: 0.7567 - val_loss: 0.5339 - val_accuracy: 0.7872\n",
            "Epoch 3/200\n",
            "235/235 [==============================] - 1s 3ms/step - loss: 0.5207 - accuracy: 0.7951 - val_loss: 0.5117 - val_accuracy: 0.7980\n",
            "Epoch 4/200\n",
            "235/235 [==============================] - 1s 3ms/step - loss: 0.5044 - accuracy: 0.7957 - val_loss: 0.4986 - val_accuracy: 0.7980\n",
            "Epoch 5/200\n",
            "235/235 [==============================] - 1s 2ms/step - loss: 0.4941 - accuracy: 0.7957 - val_loss: 0.4902 - val_accuracy: 0.7980\n",
            "Epoch 6/200\n",
            "235/235 [==============================] - 0s 2ms/step - loss: 0.4859 - accuracy: 0.7957 - val_loss: 0.4828 - val_accuracy: 0.7980\n",
            "Epoch 7/200\n",
            "235/235 [==============================] - 1s 2ms/step - loss: 0.4777 - accuracy: 0.7957 - val_loss: 0.4744 - val_accuracy: 0.7980\n",
            "Epoch 8/200\n",
            "235/235 [==============================] - 0s 2ms/step - loss: 0.4688 - accuracy: 0.7960 - val_loss: 0.4652 - val_accuracy: 0.7996\n",
            "Epoch 9/200\n",
            "235/235 [==============================] - 0s 2ms/step - loss: 0.4601 - accuracy: 0.7973 - val_loss: 0.4566 - val_accuracy: 0.8028\n",
            "Epoch 10/200\n",
            "235/235 [==============================] - 0s 2ms/step - loss: 0.4517 - accuracy: 0.8019 - val_loss: 0.4484 - val_accuracy: 0.8076\n",
            "Epoch 11/200\n",
            "235/235 [==============================] - 1s 2ms/step - loss: 0.4435 - accuracy: 0.8072 - val_loss: 0.4407 - val_accuracy: 0.8120\n",
            "Epoch 12/200\n",
            "235/235 [==============================] - 0s 2ms/step - loss: 0.4364 - accuracy: 0.8121 - val_loss: 0.4349 - val_accuracy: 0.8152\n",
            "Epoch 13/200\n",
            "235/235 [==============================] - 0s 2ms/step - loss: 0.4308 - accuracy: 0.8145 - val_loss: 0.4300 - val_accuracy: 0.8176\n",
            "Epoch 14/200\n",
            "235/235 [==============================] - 1s 2ms/step - loss: 0.4265 - accuracy: 0.8167 - val_loss: 0.4265 - val_accuracy: 0.8204\n",
            "Epoch 15/200\n",
            "235/235 [==============================] - 0s 2ms/step - loss: 0.4230 - accuracy: 0.8173 - val_loss: 0.4237 - val_accuracy: 0.8212\n",
            "Epoch 16/200\n",
            "235/235 [==============================] - 0s 2ms/step - loss: 0.4204 - accuracy: 0.8185 - val_loss: 0.4216 - val_accuracy: 0.8208\n",
            "Epoch 17/200\n",
            "235/235 [==============================] - 0s 2ms/step - loss: 0.4186 - accuracy: 0.8191 - val_loss: 0.4203 - val_accuracy: 0.8208\n",
            "Epoch 18/200\n",
            "235/235 [==============================] - 1s 2ms/step - loss: 0.4171 - accuracy: 0.8193 - val_loss: 0.4194 - val_accuracy: 0.8212\n",
            "Epoch 19/200\n",
            "235/235 [==============================] - 1s 2ms/step - loss: 0.4162 - accuracy: 0.8196 - val_loss: 0.4187 - val_accuracy: 0.8208\n",
            "Epoch 20/200\n",
            "235/235 [==============================] - 1s 2ms/step - loss: 0.4153 - accuracy: 0.8200 - val_loss: 0.4180 - val_accuracy: 0.8212\n",
            "Epoch 21/200\n",
            "235/235 [==============================] - 0s 2ms/step - loss: 0.4149 - accuracy: 0.8197 - val_loss: 0.4178 - val_accuracy: 0.8212\n",
            "Epoch 22/200\n",
            "235/235 [==============================] - 1s 2ms/step - loss: 0.4146 - accuracy: 0.8195 - val_loss: 0.4181 - val_accuracy: 0.8204\n",
            "Epoch 23/200\n",
            "235/235 [==============================] - 0s 2ms/step - loss: 0.4141 - accuracy: 0.8195 - val_loss: 0.4181 - val_accuracy: 0.8204\n",
            "Epoch 24/200\n",
            "235/235 [==============================] - 1s 2ms/step - loss: 0.4140 - accuracy: 0.8195 - val_loss: 0.4181 - val_accuracy: 0.8204\n",
            "Epoch 25/200\n",
            "235/235 [==============================] - 1s 3ms/step - loss: 0.4139 - accuracy: 0.8193 - val_loss: 0.4179 - val_accuracy: 0.8204\n",
            "Epoch 26/200\n",
            "235/235 [==============================] - 1s 3ms/step - loss: 0.4135 - accuracy: 0.8195 - val_loss: 0.4188 - val_accuracy: 0.8208\n",
            "Epoch 27/200\n",
            "235/235 [==============================] - 1s 3ms/step - loss: 0.4137 - accuracy: 0.8193 - val_loss: 0.4179 - val_accuracy: 0.8204\n",
            "Epoch 28/200\n",
            "235/235 [==============================] - 1s 3ms/step - loss: 0.4135 - accuracy: 0.8195 - val_loss: 0.4180 - val_accuracy: 0.8204\n",
            "Epoch 29/200\n",
            "235/235 [==============================] - 1s 2ms/step - loss: 0.4134 - accuracy: 0.8195 - val_loss: 0.4180 - val_accuracy: 0.8204\n",
            "Epoch 30/200\n",
            "235/235 [==============================] - 0s 2ms/step - loss: 0.4133 - accuracy: 0.8199 - val_loss: 0.4183 - val_accuracy: 0.8204\n",
            "Epoch 31/200\n",
            "235/235 [==============================] - 0s 2ms/step - loss: 0.4133 - accuracy: 0.8195 - val_loss: 0.4179 - val_accuracy: 0.8204\n",
            "Epoch 32/200\n",
            "235/235 [==============================] - 0s 2ms/step - loss: 0.4131 - accuracy: 0.8192 - val_loss: 0.4185 - val_accuracy: 0.8204\n",
            "Epoch 33/200\n",
            "235/235 [==============================] - 0s 2ms/step - loss: 0.4131 - accuracy: 0.8195 - val_loss: 0.4181 - val_accuracy: 0.8204\n",
            "Epoch 34/200\n",
            "235/235 [==============================] - 0s 2ms/step - loss: 0.4130 - accuracy: 0.8193 - val_loss: 0.4184 - val_accuracy: 0.8204\n",
            "Epoch 35/200\n",
            "235/235 [==============================] - 1s 2ms/step - loss: 0.4130 - accuracy: 0.8195 - val_loss: 0.4185 - val_accuracy: 0.8204\n",
            "Epoch 36/200\n",
            "235/235 [==============================] - 1s 2ms/step - loss: 0.4130 - accuracy: 0.8192 - val_loss: 0.4187 - val_accuracy: 0.8204\n",
            "Epoch 37/200\n",
            "235/235 [==============================] - 1s 2ms/step - loss: 0.4129 - accuracy: 0.8192 - val_loss: 0.4182 - val_accuracy: 0.8204\n",
            "Epoch 38/200\n",
            "235/235 [==============================] - 0s 2ms/step - loss: 0.4129 - accuracy: 0.8195 - val_loss: 0.4184 - val_accuracy: 0.8204\n",
            "Epoch 39/200\n",
            "235/235 [==============================] - 0s 2ms/step - loss: 0.4129 - accuracy: 0.8195 - val_loss: 0.4188 - val_accuracy: 0.8204\n",
            "Epoch 40/200\n",
            "235/235 [==============================] - 0s 2ms/step - loss: 0.4127 - accuracy: 0.8195 - val_loss: 0.4186 - val_accuracy: 0.8204\n",
            "Epoch 41/200\n",
            "235/235 [==============================] - 1s 2ms/step - loss: 0.4129 - accuracy: 0.8193 - val_loss: 0.4186 - val_accuracy: 0.8204\n",
            "Epoch 42/200\n",
            "235/235 [==============================] - 1s 2ms/step - loss: 0.4127 - accuracy: 0.8199 - val_loss: 0.4184 - val_accuracy: 0.8204\n",
            "Epoch 43/200\n",
            "235/235 [==============================] - 0s 2ms/step - loss: 0.4127 - accuracy: 0.8195 - val_loss: 0.4184 - val_accuracy: 0.8204\n",
            "Epoch 44/200\n",
            "235/235 [==============================] - 0s 2ms/step - loss: 0.4129 - accuracy: 0.8195 - val_loss: 0.4185 - val_accuracy: 0.8204\n",
            "Epoch 45/200\n",
            "235/235 [==============================] - 0s 2ms/step - loss: 0.4126 - accuracy: 0.8196 - val_loss: 0.4191 - val_accuracy: 0.8204\n",
            "Epoch 46/200\n",
            "235/235 [==============================] - 0s 2ms/step - loss: 0.4127 - accuracy: 0.8204 - val_loss: 0.4192 - val_accuracy: 0.8204\n",
            "Epoch 47/200\n",
            "235/235 [==============================] - 1s 2ms/step - loss: 0.4127 - accuracy: 0.8195 - val_loss: 0.4191 - val_accuracy: 0.8208\n",
            "Epoch 48/200\n",
            "235/235 [==============================] - 1s 2ms/step - loss: 0.4127 - accuracy: 0.8196 - val_loss: 0.4190 - val_accuracy: 0.8208\n",
            "Epoch 49/200\n",
            "235/235 [==============================] - 1s 3ms/step - loss: 0.4126 - accuracy: 0.8189 - val_loss: 0.4187 - val_accuracy: 0.8204\n",
            "Epoch 50/200\n",
            "235/235 [==============================] - 1s 3ms/step - loss: 0.4127 - accuracy: 0.8197 - val_loss: 0.4187 - val_accuracy: 0.8204\n",
            "Epoch 51/200\n",
            "235/235 [==============================] - 1s 3ms/step - loss: 0.4125 - accuracy: 0.8200 - val_loss: 0.4187 - val_accuracy: 0.8204\n",
            "Epoch 52/200\n",
            "235/235 [==============================] - 1s 3ms/step - loss: 0.4126 - accuracy: 0.8196 - val_loss: 0.4186 - val_accuracy: 0.8204\n",
            "Epoch 53/200\n",
            "235/235 [==============================] - 1s 2ms/step - loss: 0.4124 - accuracy: 0.8185 - val_loss: 0.4189 - val_accuracy: 0.8204\n",
            "Epoch 54/200\n",
            "235/235 [==============================] - 1s 2ms/step - loss: 0.4125 - accuracy: 0.8195 - val_loss: 0.4190 - val_accuracy: 0.8204\n",
            "Epoch 55/200\n",
            "235/235 [==============================] - 1s 2ms/step - loss: 0.4126 - accuracy: 0.8195 - val_loss: 0.4187 - val_accuracy: 0.8204\n",
            "Epoch 56/200\n",
            "235/235 [==============================] - 0s 2ms/step - loss: 0.4125 - accuracy: 0.8192 - val_loss: 0.4185 - val_accuracy: 0.8204\n",
            "Epoch 57/200\n",
            "235/235 [==============================] - 1s 2ms/step - loss: 0.4124 - accuracy: 0.8199 - val_loss: 0.4186 - val_accuracy: 0.8204\n",
            "Epoch 58/200\n",
            "235/235 [==============================] - 0s 2ms/step - loss: 0.4125 - accuracy: 0.8192 - val_loss: 0.4190 - val_accuracy: 0.8204\n",
            "Epoch 59/200\n",
            "235/235 [==============================] - 1s 2ms/step - loss: 0.4124 - accuracy: 0.8193 - val_loss: 0.4190 - val_accuracy: 0.8204\n",
            "Epoch 60/200\n",
            "235/235 [==============================] - 1s 2ms/step - loss: 0.4125 - accuracy: 0.8196 - val_loss: 0.4193 - val_accuracy: 0.8196\n",
            "Epoch 61/200\n",
            "235/235 [==============================] - 0s 2ms/step - loss: 0.4123 - accuracy: 0.8196 - val_loss: 0.4190 - val_accuracy: 0.8204\n",
            "Epoch 62/200\n",
            "235/235 [==============================] - 0s 2ms/step - loss: 0.4124 - accuracy: 0.8197 - val_loss: 0.4190 - val_accuracy: 0.8208\n",
            "Epoch 63/200\n",
            "235/235 [==============================] - 1s 2ms/step - loss: 0.4123 - accuracy: 0.8192 - val_loss: 0.4191 - val_accuracy: 0.8204\n",
            "Epoch 64/200\n",
            "235/235 [==============================] - 0s 2ms/step - loss: 0.4124 - accuracy: 0.8195 - val_loss: 0.4186 - val_accuracy: 0.8204\n",
            "Epoch 65/200\n",
            "235/235 [==============================] - 1s 2ms/step - loss: 0.4126 - accuracy: 0.8197 - val_loss: 0.4185 - val_accuracy: 0.8204\n",
            "Epoch 66/200\n",
            "235/235 [==============================] - 0s 2ms/step - loss: 0.4123 - accuracy: 0.8200 - val_loss: 0.4186 - val_accuracy: 0.8204\n",
            "Epoch 67/200\n",
            "235/235 [==============================] - 0s 2ms/step - loss: 0.4122 - accuracy: 0.8195 - val_loss: 0.4182 - val_accuracy: 0.8204\n",
            "Epoch 68/200\n",
            "235/235 [==============================] - 0s 2ms/step - loss: 0.4123 - accuracy: 0.8200 - val_loss: 0.4187 - val_accuracy: 0.8204\n",
            "Epoch 69/200\n",
            "235/235 [==============================] - 1s 2ms/step - loss: 0.4123 - accuracy: 0.8193 - val_loss: 0.4184 - val_accuracy: 0.8204\n",
            "Epoch 70/200\n",
            "235/235 [==============================] - 1s 2ms/step - loss: 0.4122 - accuracy: 0.8189 - val_loss: 0.4188 - val_accuracy: 0.8196\n",
            "Epoch 71/200\n",
            "235/235 [==============================] - 0s 2ms/step - loss: 0.4122 - accuracy: 0.8195 - val_loss: 0.4184 - val_accuracy: 0.8204\n",
            "Epoch 72/200\n",
            "235/235 [==============================] - 1s 2ms/step - loss: 0.4122 - accuracy: 0.8195 - val_loss: 0.4184 - val_accuracy: 0.8204\n",
            "Epoch 73/200\n",
            "235/235 [==============================] - 1s 3ms/step - loss: 0.4121 - accuracy: 0.8205 - val_loss: 0.4184 - val_accuracy: 0.8204\n",
            "Epoch 74/200\n",
            "235/235 [==============================] - 1s 3ms/step - loss: 0.4122 - accuracy: 0.8197 - val_loss: 0.4185 - val_accuracy: 0.8204\n",
            "Epoch 75/200\n",
            "235/235 [==============================] - 1s 3ms/step - loss: 0.4123 - accuracy: 0.8192 - val_loss: 0.4188 - val_accuracy: 0.8204\n",
            "Epoch 76/200\n",
            "235/235 [==============================] - 1s 3ms/step - loss: 0.4119 - accuracy: 0.8188 - val_loss: 0.4183 - val_accuracy: 0.8204\n",
            "Epoch 77/200\n",
            "235/235 [==============================] - 0s 2ms/step - loss: 0.4120 - accuracy: 0.8195 - val_loss: 0.4189 - val_accuracy: 0.8204\n",
            "Epoch 78/200\n",
            "235/235 [==============================] - 0s 2ms/step - loss: 0.4122 - accuracy: 0.8205 - val_loss: 0.4183 - val_accuracy: 0.8204\n",
            "Epoch 79/200\n",
            "235/235 [==============================] - 0s 2ms/step - loss: 0.4121 - accuracy: 0.8195 - val_loss: 0.4185 - val_accuracy: 0.8204\n",
            "Epoch 80/200\n",
            "235/235 [==============================] - 1s 2ms/step - loss: 0.4121 - accuracy: 0.8203 - val_loss: 0.4182 - val_accuracy: 0.8204\n",
            "Epoch 81/200\n",
            "235/235 [==============================] - 1s 2ms/step - loss: 0.4119 - accuracy: 0.8195 - val_loss: 0.4183 - val_accuracy: 0.8204\n",
            "Epoch 82/200\n",
            "235/235 [==============================] - 0s 2ms/step - loss: 0.4121 - accuracy: 0.8201 - val_loss: 0.4186 - val_accuracy: 0.8204\n",
            "Epoch 83/200\n",
            "235/235 [==============================] - 0s 2ms/step - loss: 0.4120 - accuracy: 0.8200 - val_loss: 0.4181 - val_accuracy: 0.8204\n",
            "Epoch 84/200\n",
            "235/235 [==============================] - 1s 2ms/step - loss: 0.4120 - accuracy: 0.8195 - val_loss: 0.4187 - val_accuracy: 0.8204\n",
            "Epoch 85/200\n",
            "235/235 [==============================] - 0s 2ms/step - loss: 0.4119 - accuracy: 0.8192 - val_loss: 0.4181 - val_accuracy: 0.8204\n",
            "Epoch 86/200\n",
            "235/235 [==============================] - 1s 2ms/step - loss: 0.4120 - accuracy: 0.8195 - val_loss: 0.4186 - val_accuracy: 0.8204\n",
            "Epoch 87/200\n",
            "235/235 [==============================] - 0s 2ms/step - loss: 0.4118 - accuracy: 0.8191 - val_loss: 0.4185 - val_accuracy: 0.8204\n",
            "Epoch 88/200\n",
            "235/235 [==============================] - 1s 2ms/step - loss: 0.4120 - accuracy: 0.8197 - val_loss: 0.4183 - val_accuracy: 0.8204\n",
            "Epoch 89/200\n",
            "235/235 [==============================] - 1s 2ms/step - loss: 0.4119 - accuracy: 0.8200 - val_loss: 0.4187 - val_accuracy: 0.8204\n",
            "Epoch 90/200\n",
            "235/235 [==============================] - 1s 2ms/step - loss: 0.4120 - accuracy: 0.8193 - val_loss: 0.4189 - val_accuracy: 0.8204\n",
            "Epoch 91/200\n",
            "235/235 [==============================] - 1s 2ms/step - loss: 0.4119 - accuracy: 0.8193 - val_loss: 0.4187 - val_accuracy: 0.8204\n",
            "Epoch 92/200\n",
            "235/235 [==============================] - 0s 2ms/step - loss: 0.4118 - accuracy: 0.8199 - val_loss: 0.4185 - val_accuracy: 0.8204\n",
            "Epoch 93/200\n",
            "235/235 [==============================] - 0s 2ms/step - loss: 0.4119 - accuracy: 0.8203 - val_loss: 0.4185 - val_accuracy: 0.8204\n",
            "Epoch 94/200\n",
            "235/235 [==============================] - 0s 2ms/step - loss: 0.4119 - accuracy: 0.8199 - val_loss: 0.4185 - val_accuracy: 0.8204\n",
            "Epoch 95/200\n",
            "235/235 [==============================] - 0s 2ms/step - loss: 0.4121 - accuracy: 0.8191 - val_loss: 0.4182 - val_accuracy: 0.8204\n",
            "Epoch 96/200\n",
            "235/235 [==============================] - 1s 2ms/step - loss: 0.4120 - accuracy: 0.8197 - val_loss: 0.4186 - val_accuracy: 0.8204\n",
            "Epoch 97/200\n",
            "235/235 [==============================] - 1s 3ms/step - loss: 0.4120 - accuracy: 0.8196 - val_loss: 0.4188 - val_accuracy: 0.8204\n",
            "Epoch 98/200\n",
            "235/235 [==============================] - 1s 3ms/step - loss: 0.4120 - accuracy: 0.8193 - val_loss: 0.4185 - val_accuracy: 0.8204\n",
            "Epoch 99/200\n",
            "235/235 [==============================] - 1s 3ms/step - loss: 0.4119 - accuracy: 0.8196 - val_loss: 0.4182 - val_accuracy: 0.8204\n",
            "Epoch 100/200\n",
            "235/235 [==============================] - 1s 3ms/step - loss: 0.4118 - accuracy: 0.8195 - val_loss: 0.4189 - val_accuracy: 0.8204\n",
            "Epoch 101/200\n",
            "235/235 [==============================] - 1s 2ms/step - loss: 0.4119 - accuracy: 0.8199 - val_loss: 0.4186 - val_accuracy: 0.8204\n",
            "Epoch 102/200\n",
            "235/235 [==============================] - 0s 2ms/step - loss: 0.4118 - accuracy: 0.8197 - val_loss: 0.4186 - val_accuracy: 0.8204\n",
            "Epoch 103/200\n",
            "235/235 [==============================] - 1s 2ms/step - loss: 0.4118 - accuracy: 0.8196 - val_loss: 0.4188 - val_accuracy: 0.8200\n",
            "Epoch 104/200\n",
            "235/235 [==============================] - 0s 2ms/step - loss: 0.4119 - accuracy: 0.8192 - val_loss: 0.4187 - val_accuracy: 0.8204\n",
            "Epoch 105/200\n",
            "235/235 [==============================] - 0s 2ms/step - loss: 0.4119 - accuracy: 0.8195 - val_loss: 0.4185 - val_accuracy: 0.8204\n",
            "Epoch 106/200\n",
            "235/235 [==============================] - 1s 2ms/step - loss: 0.4119 - accuracy: 0.8189 - val_loss: 0.4189 - val_accuracy: 0.8208\n",
            "Epoch 107/200\n",
            "235/235 [==============================] - 1s 2ms/step - loss: 0.4118 - accuracy: 0.8189 - val_loss: 0.4184 - val_accuracy: 0.8204\n",
            "Epoch 108/200\n",
            "235/235 [==============================] - 1s 2ms/step - loss: 0.4118 - accuracy: 0.8192 - val_loss: 0.4183 - val_accuracy: 0.8204\n",
            "Epoch 109/200\n",
            "235/235 [==============================] - 0s 2ms/step - loss: 0.4119 - accuracy: 0.8195 - val_loss: 0.4186 - val_accuracy: 0.8204\n",
            "Epoch 110/200\n",
            "235/235 [==============================] - 0s 2ms/step - loss: 0.4118 - accuracy: 0.8195 - val_loss: 0.4187 - val_accuracy: 0.8204\n",
            "Epoch 111/200\n",
            "235/235 [==============================] - 1s 2ms/step - loss: 0.4119 - accuracy: 0.8185 - val_loss: 0.4188 - val_accuracy: 0.8204\n",
            "Epoch 112/200\n",
            "235/235 [==============================] - 1s 2ms/step - loss: 0.4117 - accuracy: 0.8200 - val_loss: 0.4187 - val_accuracy: 0.8204\n",
            "Epoch 113/200\n",
            "235/235 [==============================] - 1s 2ms/step - loss: 0.4117 - accuracy: 0.8193 - val_loss: 0.4187 - val_accuracy: 0.8204\n",
            "Epoch 114/200\n",
            "235/235 [==============================] - 1s 4ms/step - loss: 0.4118 - accuracy: 0.8193 - val_loss: 0.4192 - val_accuracy: 0.8204\n",
            "Epoch 115/200\n",
            "235/235 [==============================] - 0s 2ms/step - loss: 0.4117 - accuracy: 0.8195 - val_loss: 0.4195 - val_accuracy: 0.8204\n",
            "Epoch 116/200\n",
            "235/235 [==============================] - 0s 2ms/step - loss: 0.4119 - accuracy: 0.8197 - val_loss: 0.4190 - val_accuracy: 0.8204\n",
            "Epoch 117/200\n",
            "235/235 [==============================] - 1s 2ms/step - loss: 0.4117 - accuracy: 0.8199 - val_loss: 0.4189 - val_accuracy: 0.8204\n",
            "Epoch 118/200\n",
            "235/235 [==============================] - 0s 2ms/step - loss: 0.4117 - accuracy: 0.8185 - val_loss: 0.4186 - val_accuracy: 0.8204\n",
            "Epoch 119/200\n",
            "235/235 [==============================] - 1s 3ms/step - loss: 0.4118 - accuracy: 0.8188 - val_loss: 0.4192 - val_accuracy: 0.8204\n",
            "Epoch 120/200\n",
            "235/235 [==============================] - 1s 3ms/step - loss: 0.4117 - accuracy: 0.8195 - val_loss: 0.4188 - val_accuracy: 0.8204\n",
            "Epoch 121/200\n",
            "235/235 [==============================] - 1s 3ms/step - loss: 0.4118 - accuracy: 0.8195 - val_loss: 0.4189 - val_accuracy: 0.8204\n",
            "Epoch 122/200\n",
            "235/235 [==============================] - 1s 3ms/step - loss: 0.4117 - accuracy: 0.8195 - val_loss: 0.4192 - val_accuracy: 0.8204\n",
            "Epoch 123/200\n",
            "235/235 [==============================] - 1s 2ms/step - loss: 0.4117 - accuracy: 0.8191 - val_loss: 0.4188 - val_accuracy: 0.8204\n",
            "Epoch 124/200\n",
            "235/235 [==============================] - 1s 2ms/step - loss: 0.4118 - accuracy: 0.8195 - val_loss: 0.4190 - val_accuracy: 0.8204\n",
            "Epoch 125/200\n",
            "235/235 [==============================] - 0s 2ms/step - loss: 0.4116 - accuracy: 0.8192 - val_loss: 0.4187 - val_accuracy: 0.8204\n",
            "Epoch 126/200\n",
            "235/235 [==============================] - 0s 2ms/step - loss: 0.4116 - accuracy: 0.8199 - val_loss: 0.4187 - val_accuracy: 0.8204\n",
            "Epoch 127/200\n",
            "235/235 [==============================] - 1s 2ms/step - loss: 0.4118 - accuracy: 0.8195 - val_loss: 0.4191 - val_accuracy: 0.8204\n",
            "Epoch 128/200\n",
            "235/235 [==============================] - 0s 2ms/step - loss: 0.4117 - accuracy: 0.8205 - val_loss: 0.4192 - val_accuracy: 0.8204\n",
            "Epoch 129/200\n",
            "235/235 [==============================] - 1s 4ms/step - loss: 0.4117 - accuracy: 0.8195 - val_loss: 0.4196 - val_accuracy: 0.8212\n",
            "Epoch 130/200\n",
            "235/235 [==============================] - 1s 2ms/step - loss: 0.4118 - accuracy: 0.8192 - val_loss: 0.4190 - val_accuracy: 0.8204\n",
            "Epoch 131/200\n",
            "235/235 [==============================] - 1s 4ms/step - loss: 0.4116 - accuracy: 0.8197 - val_loss: 0.4186 - val_accuracy: 0.8204\n",
            "Epoch 132/200\n",
            "235/235 [==============================] - 0s 2ms/step - loss: 0.4118 - accuracy: 0.8195 - val_loss: 0.4189 - val_accuracy: 0.8204\n",
            "Epoch 133/200\n",
            "235/235 [==============================] - 0s 2ms/step - loss: 0.4118 - accuracy: 0.8196 - val_loss: 0.4192 - val_accuracy: 0.8204\n",
            "Epoch 134/200\n",
            "235/235 [==============================] - 0s 2ms/step - loss: 0.4117 - accuracy: 0.8193 - val_loss: 0.4192 - val_accuracy: 0.8204\n",
            "Epoch 135/200\n",
            "235/235 [==============================] - 0s 2ms/step - loss: 0.4117 - accuracy: 0.8196 - val_loss: 0.4194 - val_accuracy: 0.8204\n",
            "Epoch 136/200\n",
            "235/235 [==============================] - 0s 2ms/step - loss: 0.4118 - accuracy: 0.8195 - val_loss: 0.4192 - val_accuracy: 0.8204\n",
            "Epoch 137/200\n",
            "235/235 [==============================] - 1s 2ms/step - loss: 0.4118 - accuracy: 0.8193 - val_loss: 0.4190 - val_accuracy: 0.8204\n",
            "Epoch 138/200\n",
            "235/235 [==============================] - 1s 2ms/step - loss: 0.4118 - accuracy: 0.8191 - val_loss: 0.4189 - val_accuracy: 0.8204\n",
            "Epoch 139/200\n",
            "235/235 [==============================] - 0s 2ms/step - loss: 0.4117 - accuracy: 0.8196 - val_loss: 0.4196 - val_accuracy: 0.8196\n",
            "Epoch 140/200\n",
            "235/235 [==============================] - 0s 2ms/step - loss: 0.4119 - accuracy: 0.8205 - val_loss: 0.4192 - val_accuracy: 0.8204\n",
            "Epoch 141/200\n",
            "235/235 [==============================] - 1s 3ms/step - loss: 0.4116 - accuracy: 0.8192 - val_loss: 0.4193 - val_accuracy: 0.8196\n",
            "Epoch 142/200\n",
            "235/235 [==============================] - 1s 3ms/step - loss: 0.4117 - accuracy: 0.8197 - val_loss: 0.4188 - val_accuracy: 0.8204\n",
            "Epoch 143/200\n",
            "235/235 [==============================] - 1s 3ms/step - loss: 0.4117 - accuracy: 0.8195 - val_loss: 0.4189 - val_accuracy: 0.8204\n",
            "Epoch 144/200\n",
            "235/235 [==============================] - 1s 3ms/step - loss: 0.4117 - accuracy: 0.8193 - val_loss: 0.4190 - val_accuracy: 0.8204\n",
            "Epoch 145/200\n",
            "235/235 [==============================] - 1s 3ms/step - loss: 0.4117 - accuracy: 0.8193 - val_loss: 0.4187 - val_accuracy: 0.8204\n",
            "Epoch 146/200\n",
            "235/235 [==============================] - 0s 2ms/step - loss: 0.4118 - accuracy: 0.8195 - val_loss: 0.4190 - val_accuracy: 0.8204\n",
            "Epoch 147/200\n",
            "235/235 [==============================] - 1s 2ms/step - loss: 0.4118 - accuracy: 0.8196 - val_loss: 0.4192 - val_accuracy: 0.8204\n",
            "Epoch 148/200\n",
            "235/235 [==============================] - 0s 2ms/step - loss: 0.4117 - accuracy: 0.8199 - val_loss: 0.4186 - val_accuracy: 0.8204\n",
            "Epoch 149/200\n",
            "235/235 [==============================] - 1s 2ms/step - loss: 0.4118 - accuracy: 0.8195 - val_loss: 0.4189 - val_accuracy: 0.8204\n",
            "Epoch 150/200\n",
            "235/235 [==============================] - 1s 2ms/step - loss: 0.4117 - accuracy: 0.8189 - val_loss: 0.4188 - val_accuracy: 0.8204\n",
            "Epoch 151/200\n",
            "235/235 [==============================] - 0s 2ms/step - loss: 0.4116 - accuracy: 0.8193 - val_loss: 0.4193 - val_accuracy: 0.8200\n",
            "Epoch 152/200\n",
            "235/235 [==============================] - 1s 2ms/step - loss: 0.4116 - accuracy: 0.8195 - val_loss: 0.4196 - val_accuracy: 0.8192\n",
            "Epoch 153/200\n",
            "235/235 [==============================] - 0s 2ms/step - loss: 0.4117 - accuracy: 0.8193 - val_loss: 0.4193 - val_accuracy: 0.8204\n",
            "Epoch 154/200\n",
            "235/235 [==============================] - 0s 2ms/step - loss: 0.4116 - accuracy: 0.8195 - val_loss: 0.4189 - val_accuracy: 0.8204\n",
            "Epoch 155/200\n",
            "235/235 [==============================] - 0s 2ms/step - loss: 0.4116 - accuracy: 0.8195 - val_loss: 0.4200 - val_accuracy: 0.8180\n",
            "Epoch 156/200\n",
            "235/235 [==============================] - 0s 2ms/step - loss: 0.4117 - accuracy: 0.8196 - val_loss: 0.4192 - val_accuracy: 0.8204\n",
            "Epoch 157/200\n",
            "235/235 [==============================] - 0s 2ms/step - loss: 0.4116 - accuracy: 0.8195 - val_loss: 0.4186 - val_accuracy: 0.8204\n",
            "Epoch 158/200\n",
            "235/235 [==============================] - 0s 2ms/step - loss: 0.4116 - accuracy: 0.8201 - val_loss: 0.4187 - val_accuracy: 0.8204\n",
            "Epoch 159/200\n",
            "235/235 [==============================] - 1s 2ms/step - loss: 0.4116 - accuracy: 0.8195 - val_loss: 0.4186 - val_accuracy: 0.8204\n",
            "Epoch 160/200\n",
            "235/235 [==============================] - 0s 2ms/step - loss: 0.4116 - accuracy: 0.8193 - val_loss: 0.4185 - val_accuracy: 0.8204\n",
            "Epoch 161/200\n",
            "235/235 [==============================] - 0s 2ms/step - loss: 0.4116 - accuracy: 0.8196 - val_loss: 0.4187 - val_accuracy: 0.8204\n",
            "Epoch 162/200\n",
            "235/235 [==============================] - 1s 2ms/step - loss: 0.4116 - accuracy: 0.8195 - val_loss: 0.4190 - val_accuracy: 0.8208\n",
            "Epoch 163/200\n",
            "235/235 [==============================] - 1s 5ms/step - loss: 0.4117 - accuracy: 0.8197 - val_loss: 0.4189 - val_accuracy: 0.8204\n",
            "Epoch 164/200\n",
            "235/235 [==============================] - 2s 10ms/step - loss: 0.4116 - accuracy: 0.8203 - val_loss: 0.4191 - val_accuracy: 0.8204\n",
            "Epoch 165/200\n",
            "235/235 [==============================] - 2s 7ms/step - loss: 0.4116 - accuracy: 0.8195 - val_loss: 0.4196 - val_accuracy: 0.8204\n",
            "Epoch 166/200\n",
            "235/235 [==============================] - 1s 4ms/step - loss: 0.4117 - accuracy: 0.8195 - val_loss: 0.4193 - val_accuracy: 0.8204\n",
            "Epoch 167/200\n",
            "235/235 [==============================] - 1s 2ms/step - loss: 0.4115 - accuracy: 0.8191 - val_loss: 0.4191 - val_accuracy: 0.8204\n",
            "Epoch 168/200\n",
            "235/235 [==============================] - 1s 2ms/step - loss: 0.4117 - accuracy: 0.8193 - val_loss: 0.4189 - val_accuracy: 0.8204\n",
            "Epoch 169/200\n",
            "235/235 [==============================] - 0s 2ms/step - loss: 0.4117 - accuracy: 0.8196 - val_loss: 0.4187 - val_accuracy: 0.8204\n",
            "Epoch 170/200\n",
            "235/235 [==============================] - 1s 2ms/step - loss: 0.4117 - accuracy: 0.8195 - val_loss: 0.4189 - val_accuracy: 0.8204\n",
            "Epoch 171/200\n",
            "235/235 [==============================] - 0s 2ms/step - loss: 0.4116 - accuracy: 0.8196 - val_loss: 0.4193 - val_accuracy: 0.8204\n",
            "Epoch 172/200\n",
            "235/235 [==============================] - 0s 2ms/step - loss: 0.4114 - accuracy: 0.8199 - val_loss: 0.4186 - val_accuracy: 0.8204\n",
            "Epoch 173/200\n",
            "235/235 [==============================] - 1s 2ms/step - loss: 0.4114 - accuracy: 0.8197 - val_loss: 0.4192 - val_accuracy: 0.8204\n",
            "Epoch 174/200\n",
            "235/235 [==============================] - 0s 2ms/step - loss: 0.4115 - accuracy: 0.8199 - val_loss: 0.4191 - val_accuracy: 0.8204\n",
            "Epoch 175/200\n",
            "235/235 [==============================] - 1s 2ms/step - loss: 0.4116 - accuracy: 0.8193 - val_loss: 0.4189 - val_accuracy: 0.8204\n",
            "Epoch 176/200\n",
            "235/235 [==============================] - 1s 2ms/step - loss: 0.4116 - accuracy: 0.8195 - val_loss: 0.4194 - val_accuracy: 0.8204\n",
            "Epoch 177/200\n",
            "235/235 [==============================] - 1s 2ms/step - loss: 0.4115 - accuracy: 0.8203 - val_loss: 0.4188 - val_accuracy: 0.8204\n",
            "Epoch 178/200\n",
            "235/235 [==============================] - 0s 2ms/step - loss: 0.4117 - accuracy: 0.8195 - val_loss: 0.4193 - val_accuracy: 0.8204\n",
            "Epoch 179/200\n",
            "235/235 [==============================] - 1s 2ms/step - loss: 0.4115 - accuracy: 0.8193 - val_loss: 0.4193 - val_accuracy: 0.8204\n",
            "Epoch 180/200\n",
            "235/235 [==============================] - 0s 2ms/step - loss: 0.4116 - accuracy: 0.8193 - val_loss: 0.4189 - val_accuracy: 0.8204\n",
            "Epoch 181/200\n",
            "235/235 [==============================] - 1s 2ms/step - loss: 0.4116 - accuracy: 0.8195 - val_loss: 0.4190 - val_accuracy: 0.8204\n",
            "Epoch 182/200\n",
            "235/235 [==============================] - 0s 2ms/step - loss: 0.4115 - accuracy: 0.8195 - val_loss: 0.4190 - val_accuracy: 0.8204\n",
            "Epoch 183/200\n",
            "235/235 [==============================] - 1s 3ms/step - loss: 0.4116 - accuracy: 0.8195 - val_loss: 0.4194 - val_accuracy: 0.8204\n",
            "Epoch 184/200\n",
            "235/235 [==============================] - 1s 3ms/step - loss: 0.4115 - accuracy: 0.8192 - val_loss: 0.4195 - val_accuracy: 0.8204\n",
            "Epoch 185/200\n",
            "235/235 [==============================] - 1s 3ms/step - loss: 0.4116 - accuracy: 0.8195 - val_loss: 0.4193 - val_accuracy: 0.8204\n",
            "Epoch 186/200\n",
            "235/235 [==============================] - 1s 3ms/step - loss: 0.4116 - accuracy: 0.8196 - val_loss: 0.4194 - val_accuracy: 0.8204\n",
            "Epoch 187/200\n",
            "235/235 [==============================] - 1s 3ms/step - loss: 0.4117 - accuracy: 0.8195 - val_loss: 0.4194 - val_accuracy: 0.8204\n",
            "Epoch 188/200\n",
            "235/235 [==============================] - 1s 2ms/step - loss: 0.4115 - accuracy: 0.8212 - val_loss: 0.4188 - val_accuracy: 0.8204\n",
            "Epoch 189/200\n",
            "235/235 [==============================] - 0s 2ms/step - loss: 0.4115 - accuracy: 0.8197 - val_loss: 0.4192 - val_accuracy: 0.8204\n",
            "Epoch 190/200\n",
            "235/235 [==============================] - 1s 2ms/step - loss: 0.4117 - accuracy: 0.8195 - val_loss: 0.4190 - val_accuracy: 0.8204\n",
            "Epoch 191/200\n",
            "235/235 [==============================] - 1s 2ms/step - loss: 0.4116 - accuracy: 0.8195 - val_loss: 0.4189 - val_accuracy: 0.8204\n",
            "Epoch 192/200\n",
            "235/235 [==============================] - 0s 2ms/step - loss: 0.4114 - accuracy: 0.8197 - val_loss: 0.4190 - val_accuracy: 0.8204\n",
            "Epoch 193/200\n",
            "235/235 [==============================] - 1s 2ms/step - loss: 0.4116 - accuracy: 0.8193 - val_loss: 0.4190 - val_accuracy: 0.8204\n",
            "Epoch 194/200\n",
            "235/235 [==============================] - 0s 2ms/step - loss: 0.4115 - accuracy: 0.8197 - val_loss: 0.4191 - val_accuracy: 0.8204\n",
            "Epoch 195/200\n",
            "235/235 [==============================] - 1s 2ms/step - loss: 0.4115 - accuracy: 0.8199 - val_loss: 0.4191 - val_accuracy: 0.8208\n",
            "Epoch 196/200\n",
            "235/235 [==============================] - 1s 2ms/step - loss: 0.4116 - accuracy: 0.8196 - val_loss: 0.4187 - val_accuracy: 0.8204\n",
            "Epoch 197/200\n",
            "235/235 [==============================] - 0s 2ms/step - loss: 0.4115 - accuracy: 0.8195 - val_loss: 0.4191 - val_accuracy: 0.8204\n",
            "Epoch 198/200\n",
            "235/235 [==============================] - 1s 2ms/step - loss: 0.4115 - accuracy: 0.8195 - val_loss: 0.4192 - val_accuracy: 0.8204\n",
            "Epoch 199/200\n",
            "235/235 [==============================] - 1s 2ms/step - loss: 0.4114 - accuracy: 0.8195 - val_loss: 0.4194 - val_accuracy: 0.8208\n",
            "Epoch 200/200\n",
            "235/235 [==============================] - 0s 2ms/step - loss: 0.4115 - accuracy: 0.8195 - val_loss: 0.4191 - val_accuracy: 0.8204\n"
          ]
        }
      ]
    },
    {
      "cell_type": "code",
      "source": [
        "y_pred1=model.predict(x_test)\n",
        "y_pred1"
      ],
      "metadata": {
        "colab": {
          "base_uri": "https://localhost:8080/"
        },
        "id": "FT-poEmKXTaj",
        "outputId": "8c422d35-2d10-412e-cd9e-2c851416f616"
      },
      "execution_count": null,
      "outputs": [
        {
          "output_type": "stream",
          "name": "stdout",
          "text": [
            "79/79 [==============================] - 0s 2ms/step\n"
          ]
        },
        {
          "output_type": "execute_result",
          "data": {
            "text/plain": [
              "array([[0.9325512 , 0.06744917],\n",
              "       [0.9803596 , 0.01964057],\n",
              "       [0.7794133 , 0.2205873 ],\n",
              "       ...,\n",
              "       [0.95330685, 0.04669331],\n",
              "       [0.89955187, 0.10044796],\n",
              "       [0.8442282 , 0.15577145]], dtype=float32)"
            ]
          },
          "metadata": {},
          "execution_count": 26
        }
      ]
    },
    {
      "cell_type": "code",
      "source": [
        "y_test_class=np.argmax(y_test,axis=1)\n",
        "y_pred1_class=np.argmax(y_pred1,axis=1)\n",
        "y_pred1_class,y_test_class"
      ],
      "metadata": {
        "colab": {
          "base_uri": "https://localhost:8080/"
        },
        "id": "xjEwzkkAX_w7",
        "outputId": "ed79126e-396c-4e00-be53-0be7d51f54fb"
      },
      "execution_count": null,
      "outputs": [
        {
          "output_type": "execute_result",
          "data": {
            "text/plain": [
              "(array([0, 0, 0, ..., 0, 0, 0]), array([0, 0, 0, ..., 0, 0, 0]))"
            ]
          },
          "metadata": {},
          "execution_count": 27
        }
      ]
    },
    {
      "cell_type": "markdown",
      "source": [
        "Model Evaluation"
      ],
      "metadata": {
        "id": "g2EyzF7sYE7j"
      }
    },
    {
      "cell_type": "code",
      "source": [
        "from sklearn.metrics import classification_report,confusion_matrix,accuracy_score"
      ],
      "metadata": {
        "id": "Rpf3SyNKYDLn"
      },
      "execution_count": null,
      "outputs": []
    },
    {
      "cell_type": "code",
      "source": [
        "print(confusion_matrix(y_test_class,y_pred1_class))\n",
        "print(classification_report(y_test_class,y_pred1_class))\n",
        "print(accuracy_score(y_test_class,y_pred1_class))"
      ],
      "metadata": {
        "colab": {
          "base_uri": "https://localhost:8080/"
        },
        "id": "Tb3Y7VeHYJ7V",
        "outputId": "4013daac-0a05-401c-e3f7-c5322f00e57e"
      },
      "execution_count": null,
      "outputs": [
        {
          "output_type": "stream",
          "name": "stdout",
          "text": [
            "[[1980   15]\n",
            " [ 434   71]]\n",
            "              precision    recall  f1-score   support\n",
            "\n",
            "           0       0.82      0.99      0.90      1995\n",
            "           1       0.83      0.14      0.24       505\n",
            "\n",
            "    accuracy                           0.82      2500\n",
            "   macro avg       0.82      0.57      0.57      2500\n",
            "weighted avg       0.82      0.82      0.77      2500\n",
            "\n",
            "0.8204\n"
          ]
        }
      ]
    },
    {
      "cell_type": "code",
      "source": [],
      "metadata": {
        "id": "unT-peEeYMJg"
      },
      "execution_count": null,
      "outputs": []
    }
  ]
}