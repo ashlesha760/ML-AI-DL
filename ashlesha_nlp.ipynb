{
  "nbformat": 4,
  "nbformat_minor": 0,
  "metadata": {
    "colab": {
      "provenance": [],
      "authorship_tag": "ABX9TyM7wejm7aWFAsCiEU8x2xSZ"
    },
    "kernelspec": {
      "name": "python3",
      "display_name": "Python 3"
    },
    "language_info": {
      "name": "python"
    }
  },
  "cells": [
    {
      "cell_type": "markdown",
      "source": [
        "## Data Acquisition"
      ],
      "metadata": {
        "id": "tJBOkz1xa8El"
      }
    },
    {
      "cell_type": "markdown",
      "source": [
        "## 2. Text Preperation"
      ],
      "metadata": {
        "id": "nmfv374xdFJv"
      }
    },
    {
      "cell_type": "markdown",
      "source": [
        "2.1. Text Cleanup"
      ],
      "metadata": {
        "id": "VL5nmLiadSFN"
      }
    },
    {
      "cell_type": "code",
      "execution_count": null,
      "metadata": {
        "id": "LqtuDmV_a3-q"
      },
      "outputs": [],
      "source": [
        "#2.1.a. HTML Tags\n",
        "text = '<h2> HTML Element</h2><p> <The Class\"w3> ,glt;supsgt'"
      ]
    },
    {
      "cell_type": "code",
      "source": [
        "#remove html tags\n",
        "import re\n",
        "def html(data):\n",
        "  p = re.compile('(<.*?>)')\n",
        "  return p.sub('',data)"
      ],
      "metadata": {
        "id": "nyQ0uk2MdqAG"
      },
      "execution_count": null,
      "outputs": []
    },
    {
      "cell_type": "code",
      "source": [
        "html(text)"
      ],
      "metadata": {
        "colab": {
          "base_uri": "https://localhost:8080/",
          "height": 35
        },
        "id": "3WTx8zkVd_iO",
        "outputId": "6989f5dc-8c02-4cf1-fdb9-0f7c8485b3e4"
      },
      "execution_count": null,
      "outputs": [
        {
          "output_type": "execute_result",
          "data": {
            "text/plain": [
              "' HTML Element  ,glt;supsgt'"
            ],
            "application/vnd.google.colaboratory.intrinsic+json": {
              "type": "string"
            }
          },
          "metadata": {},
          "execution_count": 39
        }
      ]
    },
    {
      "cell_type": "code",
      "source": [
        "#2.1.b. Emoji\n",
        "emoji = '😃💁‍♂People • 🐻🌻Animals •🍔🍹Food •🎷⚽Activities •🚘🌇Travel •🛏🛋Objects •❌❓Symbols •🚩🏳‍🌈Flags•'\n",
        "emoji.encode('utf-8')\n",
        "# to convert in machine understandable text"
      ],
      "metadata": {
        "colab": {
          "base_uri": "https://localhost:8080/"
        },
        "id": "A8YmTGJJeCg1",
        "outputId": "8660db8d-80a9-4093-c0cb-bdd7ee5ea270"
      },
      "execution_count": null,
      "outputs": [
        {
          "output_type": "execute_result",
          "data": {
            "text/plain": [
              "b'\\xf0\\x9f\\x98\\x83\\xf0\\x9f\\x92\\x81\\xe2\\x80\\x8d\\xe2\\x99\\x82People \\xe2\\x80\\xa2 \\xf0\\x9f\\x90\\xbb\\xf0\\x9f\\x8c\\xbbAnimals \\xe2\\x80\\xa2\\xf0\\x9f\\x8d\\x94\\xf0\\x9f\\x8d\\xb9Food \\xe2\\x80\\xa2\\xf0\\x9f\\x8e\\xb7\\xe2\\x9a\\xbdActivities \\xe2\\x80\\xa2\\xf0\\x9f\\x9a\\x98\\xf0\\x9f\\x8c\\x87Travel \\xe2\\x80\\xa2\\xf0\\x9f\\x9b\\x8f\\xf0\\x9f\\x9b\\x8bObjects \\xe2\\x80\\xa2\\xe2\\x9d\\x8c\\xe2\\x9d\\x93Symbols \\xe2\\x80\\xa2\\xf0\\x9f\\x9a\\xa9\\xf0\\x9f\\x8f\\xb3\\xe2\\x80\\x8d\\xf0\\x9f\\x8c\\x88Flags\\xe2\\x80\\xa2'"
            ]
          },
          "metadata": {},
          "execution_count": 40
        }
      ]
    },
    {
      "cell_type": "code",
      "source": [
        "!pip install textblob"
      ],
      "metadata": {
        "colab": {
          "base_uri": "https://localhost:8080/"
        },
        "id": "Z9oxxXa_iu3C",
        "outputId": "22f780ab-4c80-4f2f-b373-0bbfe1b824dc"
      },
      "execution_count": null,
      "outputs": [
        {
          "output_type": "stream",
          "name": "stdout",
          "text": [
            "Looking in indexes: https://pypi.org/simple, https://us-python.pkg.dev/colab-wheels/public/simple/\n",
            "Requirement already satisfied: textblob in /usr/local/lib/python3.9/dist-packages (0.17.1)\n",
            "Requirement already satisfied: nltk>=3.1 in /usr/local/lib/python3.9/dist-packages (from textblob) (3.8.1)\n",
            "Requirement already satisfied: joblib in /usr/local/lib/python3.9/dist-packages (from nltk>=3.1->textblob) (1.2.0)\n",
            "Requirement already satisfied: regex>=2021.8.3 in /usr/local/lib/python3.9/dist-packages (from nltk>=3.1->textblob) (2022.10.31)\n",
            "Requirement already satisfied: tqdm in /usr/local/lib/python3.9/dist-packages (from nltk>=3.1->textblob) (4.65.0)\n",
            "Requirement already satisfied: click in /usr/local/lib/python3.9/dist-packages (from nltk>=3.1->textblob) (8.1.3)\n"
          ]
        }
      ]
    },
    {
      "cell_type": "code",
      "source": [
        "#2.1.c. spelling check\n",
        "spelling_mistakes = 'hello, how aree you, what aree you doing these days'"
      ],
      "metadata": {
        "id": "61ufZKX7jNv5"
      },
      "execution_count": null,
      "outputs": []
    },
    {
      "cell_type": "code",
      "source": [
        "from textblob import TextBlob"
      ],
      "metadata": {
        "id": "wuk67ZKHkWr5"
      },
      "execution_count": null,
      "outputs": []
    },
    {
      "cell_type": "code",
      "source": [
        "correct_spelling = TextBlob(spelling_mistakes)"
      ],
      "metadata": {
        "id": "elMe08WfkbyS"
      },
      "execution_count": null,
      "outputs": []
    },
    {
      "cell_type": "code",
      "source": [
        "correct_spelling"
      ],
      "metadata": {
        "colab": {
          "base_uri": "https://localhost:8080/"
        },
        "id": "yuBwfigrkj7M",
        "outputId": "c08b5832-80d6-48c0-aa80-0d0fa6c4de69"
      },
      "execution_count": null,
      "outputs": [
        {
          "output_type": "execute_result",
          "data": {
            "text/plain": [
              "TextBlob(\"hello, how aree you, what aree you doing these days\")"
            ]
          },
          "metadata": {},
          "execution_count": 45
        }
      ]
    },
    {
      "cell_type": "code",
      "source": [
        "correct_spelling.correct()"
      ],
      "metadata": {
        "colab": {
          "base_uri": "https://localhost:8080/"
        },
        "id": "jUNGHypeknEr",
        "outputId": "f522a6c8-e930-4afd-d7d7-39d8f245d6af"
      },
      "execution_count": null,
      "outputs": [
        {
          "output_type": "execute_result",
          "data": {
            "text/plain": [
              "TextBlob(\"hello, how are you, what are you doing these days\")"
            ]
          },
          "metadata": {},
          "execution_count": 46
        }
      ]
    },
    {
      "cell_type": "markdown",
      "source": [
        "2.2. Basic Preprocessing"
      ],
      "metadata": {
        "id": "5RIDt5kYk3IP"
      }
    },
    {
      "cell_type": "code",
      "source": [
        "data = '''Text-based emoticons are great because they work on most devices and browsers. Whether you're commenting on a post or texting with a friend,they are handy if you're perfect response isn't a word but an emotion.'''"
      ],
      "metadata": {
        "id": "BnQjeHHokrPv"
      },
      "execution_count": null,
      "outputs": []
    },
    {
      "cell_type": "code",
      "source": [
        "import nltk\n",
        "nltk.download('punkt')"
      ],
      "metadata": {
        "colab": {
          "base_uri": "https://localhost:8080/"
        },
        "id": "ohPn7HV5mDcf",
        "outputId": "bd2e792e-b5e9-43f5-8ba5-d87b2dbc0f0a"
      },
      "execution_count": null,
      "outputs": [
        {
          "output_type": "stream",
          "name": "stderr",
          "text": [
            "[nltk_data] Downloading package punkt to /root/nltk_data...\n",
            "[nltk_data]   Package punkt is already up-to-date!\n"
          ]
        },
        {
          "output_type": "execute_result",
          "data": {
            "text/plain": [
              "True"
            ]
          },
          "metadata": {},
          "execution_count": 48
        }
      ]
    },
    {
      "cell_type": "code",
      "source": [
        "from nltk.tokenize import sent_tokenize, word_tokenize\n",
        "sents = sent_tokenize(data)"
      ],
      "metadata": {
        "id": "P2tP0Ixnlh7l"
      },
      "execution_count": null,
      "outputs": []
    },
    {
      "cell_type": "code",
      "source": [
        "sents"
      ],
      "metadata": {
        "colab": {
          "base_uri": "https://localhost:8080/"
        },
        "id": "hxj_iJxTl1Kd",
        "outputId": "04fc4fd5-fe69-4454-8d5b-78eb8019d0d5"
      },
      "execution_count": null,
      "outputs": [
        {
          "output_type": "execute_result",
          "data": {
            "text/plain": [
              "['Text-based emoticons are great because they work on most devices and browsers.',\n",
              " \"Whether you're commenting on a post or texting with a friend,they are handy if you're perfect response isn't a word but an emotion.\"]"
            ]
          },
          "metadata": {},
          "execution_count": 50
        }
      ]
    },
    {
      "cell_type": "code",
      "source": [
        "word = word_tokenize(data)\n",
        "word"
      ],
      "metadata": {
        "colab": {
          "base_uri": "https://localhost:8080/"
        },
        "id": "fKsgOA8JmMGH",
        "outputId": "6a573ac2-e8b1-4684-a090-2bb01a9c8afc"
      },
      "execution_count": null,
      "outputs": [
        {
          "output_type": "execute_result",
          "data": {
            "text/plain": [
              "['Text-based',\n",
              " 'emoticons',\n",
              " 'are',\n",
              " 'great',\n",
              " 'because',\n",
              " 'they',\n",
              " 'work',\n",
              " 'on',\n",
              " 'most',\n",
              " 'devices',\n",
              " 'and',\n",
              " 'browsers',\n",
              " '.',\n",
              " 'Whether',\n",
              " 'you',\n",
              " \"'re\",\n",
              " 'commenting',\n",
              " 'on',\n",
              " 'a',\n",
              " 'post',\n",
              " 'or',\n",
              " 'texting',\n",
              " 'with',\n",
              " 'a',\n",
              " 'friend',\n",
              " ',',\n",
              " 'they',\n",
              " 'are',\n",
              " 'handy',\n",
              " 'if',\n",
              " 'you',\n",
              " \"'re\",\n",
              " 'perfect',\n",
              " 'response',\n",
              " 'is',\n",
              " \"n't\",\n",
              " 'a',\n",
              " 'word',\n",
              " 'but',\n",
              " 'an',\n",
              " 'emotion',\n",
              " '.']"
            ]
          },
          "metadata": {},
          "execution_count": 51
        }
      ]
    },
    {
      "cell_type": "markdown",
      "source": [
        "2.3. Optimal/ Optional"
      ],
      "metadata": {
        "id": "_wzpieNjmdXs"
      }
    },
    {
      "cell_type": "code",
      "source": [
        "#2.3.1. Stop words remover\n",
        "import nltk\n",
        "nltk.download('stopwords')"
      ],
      "metadata": {
        "colab": {
          "base_uri": "https://localhost:8080/"
        },
        "id": "SxAg0aYvmXXI",
        "outputId": "75751c38-5048-460c-fa0f-627e60ffea54"
      },
      "execution_count": null,
      "outputs": [
        {
          "output_type": "stream",
          "name": "stderr",
          "text": [
            "[nltk_data] Downloading package stopwords to /root/nltk_data...\n",
            "[nltk_data]   Package stopwords is already up-to-date!\n"
          ]
        },
        {
          "output_type": "execute_result",
          "data": {
            "text/plain": [
              "True"
            ]
          },
          "metadata": {},
          "execution_count": 52
        }
      ]
    },
    {
      "cell_type": "code",
      "source": [
        "from nltk.corpus import stopwords\n",
        "stopwords = set(stopwords.words('english'))"
      ],
      "metadata": {
        "id": "0QSXhwfRm0Sf"
      },
      "execution_count": null,
      "outputs": []
    },
    {
      "cell_type": "code",
      "source": [
        "words = []\n",
        "for w in word:\n",
        "  if w not in stopwords:\n",
        "    print(w)\n",
        "    words.append(w)"
      ],
      "metadata": {
        "colab": {
          "base_uri": "https://localhost:8080/"
        },
        "id": "uSfhiDv1nNpB",
        "outputId": "79ae1b39-83fb-4d4a-f4b9-5a2bfc381262"
      },
      "execution_count": null,
      "outputs": [
        {
          "output_type": "stream",
          "name": "stdout",
          "text": [
            "Text-based\n",
            "emoticons\n",
            "great\n",
            "work\n",
            "devices\n",
            "browsers\n",
            ".\n",
            "Whether\n",
            "'re\n",
            "commenting\n",
            "post\n",
            "texting\n",
            "friend\n",
            ",\n",
            "handy\n",
            "'re\n",
            "perfect\n",
            "response\n",
            "n't\n",
            "word\n",
            "emotion\n",
            ".\n"
          ]
        }
      ]
    },
    {
      "cell_type": "code",
      "source": [
        "words"
      ],
      "metadata": {
        "colab": {
          "base_uri": "https://localhost:8080/"
        },
        "id": "_bCYnoown4IW",
        "outputId": "600d8e6c-e320-4762-c852-720fd07b3059"
      },
      "execution_count": null,
      "outputs": [
        {
          "output_type": "execute_result",
          "data": {
            "text/plain": [
              "['Text-based',\n",
              " 'emoticons',\n",
              " 'great',\n",
              " 'work',\n",
              " 'devices',\n",
              " 'browsers',\n",
              " '.',\n",
              " 'Whether',\n",
              " \"'re\",\n",
              " 'commenting',\n",
              " 'post',\n",
              " 'texting',\n",
              " 'friend',\n",
              " ',',\n",
              " 'handy',\n",
              " \"'re\",\n",
              " 'perfect',\n",
              " 'response',\n",
              " \"n't\",\n",
              " 'word',\n",
              " 'emotion',\n",
              " '.']"
            ]
          },
          "metadata": {},
          "execution_count": 55
        }
      ]
    },
    {
      "cell_type": "code",
      "source": [
        "#2.3.2. Stemming or Lamentization"
      ],
      "metadata": {
        "id": "67FW5WI1n8es"
      },
      "execution_count": null,
      "outputs": []
    },
    {
      "cell_type": "code",
      "source": [
        "from nltk.stem import PorterStemmer\n",
        "#create an object of class PorterStemmer\n",
        "porter = PorterStemmer()\n",
        "print(porter.stem(\"play\"))\n",
        "print(porter.stem(\"playing\"))\n",
        "print(porter.stem(\"plays\"))\n",
        "print(porter.stem(\"played\"))"
      ],
      "metadata": {
        "colab": {
          "base_uri": "https://localhost:8080/"
        },
        "id": "FyU3mzYpoFLO",
        "outputId": "b82e6d55-8fa1-47fb-e044-167b6c120739"
      },
      "execution_count": null,
      "outputs": [
        {
          "output_type": "stream",
          "name": "stdout",
          "text": [
            "play\n",
            "play\n",
            "play\n",
            "play\n"
          ]
        }
      ]
    },
    {
      "cell_type": "code",
      "source": [
        "from nltk.stem import PorterStemmer\n",
        "#create an object of class PorterStemmer\n",
        "porter = PorterStemmer()\n",
        "print(porter.stem(\"Communication\"))"
      ],
      "metadata": {
        "colab": {
          "base_uri": "https://localhost:8080/"
        },
        "id": "bS6AzPI1o3EB",
        "outputId": "38083e9b-123c-4aa8-a7f5-bd1baa26f349"
      },
      "execution_count": null,
      "outputs": [
        {
          "output_type": "stream",
          "name": "stdout",
          "text": [
            "commun\n"
          ]
        }
      ]
    },
    {
      "cell_type": "code",
      "source": [
        "import nltk\n",
        "from nltk.stem.porter import *\n",
        "p_stemmer = PorterStemmer()\n",
        "for word in words:\n",
        "  print(word+'-->'+p_stemmer.stem(word))"
      ],
      "metadata": {
        "colab": {
          "base_uri": "https://localhost:8080/"
        },
        "id": "C5CBYiHIpK8u",
        "outputId": "44be6e82-54b3-4cb9-dd67-0afbd3ebc04b"
      },
      "execution_count": null,
      "outputs": [
        {
          "output_type": "stream",
          "name": "stdout",
          "text": [
            "Text-based-->text-bas\n",
            "emoticons-->emoticon\n",
            "great-->great\n",
            "work-->work\n",
            "devices-->devic\n",
            "browsers-->browser\n",
            ".-->.\n",
            "Whether-->whether\n",
            "'re-->'re\n",
            "commenting-->comment\n",
            "post-->post\n",
            "texting-->text\n",
            "friend-->friend\n",
            ",-->,\n",
            "handy-->handi\n",
            "'re-->'re\n",
            "perfect-->perfect\n",
            "response-->respons\n",
            "n't-->n't\n",
            "word-->word\n",
            "emotion-->emot\n",
            ".-->.\n"
          ]
        }
      ]
    },
    {
      "cell_type": "code",
      "source": [
        "import nltk\n",
        "from nltk.stem.porter import *\n",
        "p_stemmer = PorterStemmer()\n",
        "for word in words:\n",
        "  print(p_stemmer.stem(word))"
      ],
      "metadata": {
        "colab": {
          "base_uri": "https://localhost:8080/"
        },
        "id": "06E_86FXplPr",
        "outputId": "cb9cf38e-4dbf-4255-ae63-c350bcb801e0"
      },
      "execution_count": null,
      "outputs": [
        {
          "output_type": "stream",
          "name": "stdout",
          "text": [
            "text-bas\n",
            "emoticon\n",
            "great\n",
            "work\n",
            "devic\n",
            "browser\n",
            ".\n",
            "whether\n",
            "'re\n",
            "comment\n",
            "post\n",
            "text\n",
            "friend\n",
            ",\n",
            "handi\n",
            "'re\n",
            "perfect\n",
            "respons\n",
            "n't\n",
            "word\n",
            "emot\n",
            ".\n"
          ]
        }
      ]
    },
    {
      "cell_type": "code",
      "source": [
        "import nltk\n",
        "nltk.download('wordnet')"
      ],
      "metadata": {
        "colab": {
          "base_uri": "https://localhost:8080/"
        },
        "id": "-QUXifj7qbAp",
        "outputId": "5b238800-6e5e-4712-c7d1-37c610d7b60f"
      },
      "execution_count": null,
      "outputs": [
        {
          "output_type": "stream",
          "name": "stderr",
          "text": [
            "[nltk_data] Downloading package wordnet to /root/nltk_data...\n",
            "[nltk_data]   Package wordnet is already up-to-date!\n"
          ]
        },
        {
          "output_type": "execute_result",
          "data": {
            "text/plain": [
              "True"
            ]
          },
          "metadata": {},
          "execution_count": 61
        }
      ]
    },
    {
      "cell_type": "code",
      "source": [
        "import nltk\n",
        "from nltk.stem import WordNetLemmatizer\n",
        "lemmatizer = WordNetLemmatizer()\n",
        "for word in words:\n",
        "  print(word+' --> '+lemmatizer.lemmatize(word))"
      ],
      "metadata": {
        "colab": {
          "base_uri": "https://localhost:8080/"
        },
        "id": "0v3eHH2Pp5N4",
        "outputId": "dda0b54d-e46b-41fc-cdf3-50ffc26b7157"
      },
      "execution_count": null,
      "outputs": [
        {
          "output_type": "stream",
          "name": "stdout",
          "text": [
            "Text-based --> Text-based\n",
            "emoticons --> emoticon\n",
            "great --> great\n",
            "work --> work\n",
            "devices --> device\n",
            "browsers --> browser\n",
            ". --> .\n",
            "Whether --> Whether\n",
            "'re --> 're\n",
            "commenting --> commenting\n",
            "post --> post\n",
            "texting --> texting\n",
            "friend --> friend\n",
            ", --> ,\n",
            "handy --> handy\n",
            "'re --> 're\n",
            "perfect --> perfect\n",
            "response --> response\n",
            "n't --> n't\n",
            "word --> word\n",
            "emotion --> emotion\n",
            ". --> .\n"
          ]
        }
      ]
    },
    {
      "cell_type": "code",
      "source": [
        "import nltk\n",
        "words_1 = []\n",
        "from nltk.stem import WordNetLemmatizer\n",
        "lemmatizer = WordNetLemmatizer()\n",
        "for word in words:\n",
        "  print(lemmatizer.lemmatize(word))\n",
        "  words_1.append(word)"
      ],
      "metadata": {
        "colab": {
          "base_uri": "https://localhost:8080/"
        },
        "id": "NzQ_A6tVqW0S",
        "outputId": "44227f58-1a8a-4079-ee61-52d4b95a10ef"
      },
      "execution_count": null,
      "outputs": [
        {
          "output_type": "stream",
          "name": "stdout",
          "text": [
            "Text-based\n",
            "emoticon\n",
            "great\n",
            "work\n",
            "device\n",
            "browser\n",
            ".\n",
            "Whether\n",
            "'re\n",
            "commenting\n",
            "post\n",
            "texting\n",
            "friend\n",
            ",\n",
            "handy\n",
            "'re\n",
            "perfect\n",
            "response\n",
            "n't\n",
            "word\n",
            "emotion\n",
            ".\n"
          ]
        }
      ]
    },
    {
      "cell_type": "code",
      "source": [
        "words_1"
      ],
      "metadata": {
        "colab": {
          "base_uri": "https://localhost:8080/"
        },
        "id": "5KsJ1G3VsSXM",
        "outputId": "1fb3ec1e-a8c3-4018-fc41-f465ecde9cc5"
      },
      "execution_count": null,
      "outputs": [
        {
          "output_type": "execute_result",
          "data": {
            "text/plain": [
              "['Text-based',\n",
              " 'emoticons',\n",
              " 'great',\n",
              " 'work',\n",
              " 'devices',\n",
              " 'browsers',\n",
              " '.',\n",
              " 'Whether',\n",
              " \"'re\",\n",
              " 'commenting',\n",
              " 'post',\n",
              " 'texting',\n",
              " 'friend',\n",
              " ',',\n",
              " 'handy',\n",
              " \"'re\",\n",
              " 'perfect',\n",
              " 'response',\n",
              " \"n't\",\n",
              " 'word',\n",
              " 'emotion',\n",
              " '.']"
            ]
          },
          "metadata": {},
          "execution_count": 64
        }
      ]
    },
    {
      "cell_type": "code",
      "source": [
        "#2.3.3. Removing digits and punctuations"
      ],
      "metadata": {
        "id": "E5yAtogzsU3c"
      },
      "execution_count": null,
      "outputs": []
    },
    {
      "cell_type": "code",
      "source": [
        "#defining punctuation\n",
        "punctuations = '''!()-{};:'\"\\,<>./?@#$%^&*_~'''\n",
        "\n",
        "#removing punctuations from the string\n",
        "no_punct =\"\"\n",
        "for char in words_1:\n",
        "  if char not in punctuations:\n",
        "    no_punct = no_punct + char\n",
        "\n",
        "#display the unpunctuated string\n",
        "print(no_punct)"
      ],
      "metadata": {
        "colab": {
          "base_uri": "https://localhost:8080/"
        },
        "id": "eG5dRN3HJWGe",
        "outputId": "8dac1109-6454-4428-9ca6-46fc679b22d0"
      },
      "execution_count": null,
      "outputs": [
        {
          "output_type": "stream",
          "name": "stdout",
          "text": [
            "Text-basedemoticonsgreatworkdevicesbrowsersWhether'recommentingposttextingfriendhandy'reperfectresponsen'twordemotion\n"
          ]
        }
      ]
    },
    {
      "cell_type": "code",
      "source": [
        "digit_1_10 = '''Text-basedemoticon1111sgreatworkdevices23brow45sersWhether'recommenti989ngposttextingfrie652ndhandy'reperfectres011ponsen'twordemotion'''\n",
        "\n",
        "digits = '''0-1'''\n",
        "#remove punctuation from the string\n",
        "no_digits = \"\"\n",
        "for char in words_1:\n",
        "  if char not in digits:\n",
        "    no_digits = no_digits + char\n",
        "\n",
        "#display the unpunctuated string\n",
        "print(no_digits)"
      ],
      "metadata": {
        "colab": {
          "base_uri": "https://localhost:8080/"
        },
        "id": "xUXoJY88KCNJ",
        "outputId": "57542ca3-b214-4e87-9a33-84e5d86d0d3c"
      },
      "execution_count": null,
      "outputs": [
        {
          "output_type": "stream",
          "name": "stdout",
          "text": [
            "Text-basedemoticonsgreatworkdevicesbrowsers.Whether'recommentingposttextingfriend,handy'reperfectresponsen'twordemotion.\n"
          ]
        }
      ]
    },
    {
      "cell_type": "markdown",
      "source": [
        "lowercase"
      ],
      "metadata": {
        "id": "UGvNrK3_L1Ho"
      }
    },
    {
      "cell_type": "code",
      "source": [
        "def wordlowercase():\n",
        "  text = 'An Easy Way To Change UpperCase To LowerCase And Title Capitalization'\n",
        "  return text.lower()"
      ],
      "metadata": {
        "id": "tDK47sCrLgG1"
      },
      "execution_count": null,
      "outputs": []
    },
    {
      "cell_type": "code",
      "source": [
        "wordlowercase()"
      ],
      "metadata": {
        "colab": {
          "base_uri": "https://localhost:8080/",
          "height": 35
        },
        "id": "QqN5jzOyML72",
        "outputId": "26be7946-0927-4b0f-d2e5-8ecf5222bf80"
      },
      "execution_count": null,
      "outputs": [
        {
          "output_type": "execute_result",
          "data": {
            "text/plain": [
              "'an easy way to change uppercase to lowercase and title capitalization'"
            ],
            "application/vnd.google.colaboratory.intrinsic+json": {
              "type": "string"
            }
          },
          "metadata": {},
          "execution_count": 69
        }
      ]
    },
    {
      "cell_type": "markdown",
      "source": [
        "## 2.3. Advance Preprocessing"
      ],
      "metadata": {
        "id": "gEm8Tli1MTQq"
      }
    },
    {
      "cell_type": "markdown",
      "source": [
        "## NLP Classification"
      ],
      "metadata": {
        "id": "9XJApQgoMbNu"
      }
    },
    {
      "cell_type": "code",
      "source": [
        "import numpy as np\n",
        "import pandas as pd\n",
        "df = pd.read_csv('/content/twitter_dataset_nlp.csv')\n",
        "df.head()"
      ],
      "metadata": {
        "colab": {
          "base_uri": "https://localhost:8080/",
          "height": 206
        },
        "id": "Q6QSYjuKMPaY",
        "outputId": "3af18e67-0572-4750-b672-ab4da1816cdf"
      },
      "execution_count": null,
      "outputs": [
        {
          "output_type": "execute_result",
          "data": {
            "text/plain": [
              "   Unnamed: 0                                               text label\n",
              "0           0  @Pericles216 @HierBeforeTheAC @Sachinettiyil T...  intj\n",
              "1           1  @Hispanthicckk Being you makes you look cute||...  intj\n",
              "2           2  @Alshymi Les balles sont réelles et sont tirée...  intj\n",
              "3           3  I'm like entp but idiotic|||Hey boy, do you wa...  intj\n",
              "4           4  @kaeshurr1 Give it to @ZargarShanif ... He has...  intj"
            ],
            "text/html": [
              "\n",
              "  <div id=\"df-445ed33b-40d7-41c0-82ce-5367e191bd74\">\n",
              "    <div class=\"colab-df-container\">\n",
              "      <div>\n",
              "<style scoped>\n",
              "    .dataframe tbody tr th:only-of-type {\n",
              "        vertical-align: middle;\n",
              "    }\n",
              "\n",
              "    .dataframe tbody tr th {\n",
              "        vertical-align: top;\n",
              "    }\n",
              "\n",
              "    .dataframe thead th {\n",
              "        text-align: right;\n",
              "    }\n",
              "</style>\n",
              "<table border=\"1\" class=\"dataframe\">\n",
              "  <thead>\n",
              "    <tr style=\"text-align: right;\">\n",
              "      <th></th>\n",
              "      <th>Unnamed: 0</th>\n",
              "      <th>text</th>\n",
              "      <th>label</th>\n",
              "    </tr>\n",
              "  </thead>\n",
              "  <tbody>\n",
              "    <tr>\n",
              "      <th>0</th>\n",
              "      <td>0</td>\n",
              "      <td>@Pericles216 @HierBeforeTheAC @Sachinettiyil T...</td>\n",
              "      <td>intj</td>\n",
              "    </tr>\n",
              "    <tr>\n",
              "      <th>1</th>\n",
              "      <td>1</td>\n",
              "      <td>@Hispanthicckk Being you makes you look cute||...</td>\n",
              "      <td>intj</td>\n",
              "    </tr>\n",
              "    <tr>\n",
              "      <th>2</th>\n",
              "      <td>2</td>\n",
              "      <td>@Alshymi Les balles sont réelles et sont tirée...</td>\n",
              "      <td>intj</td>\n",
              "    </tr>\n",
              "    <tr>\n",
              "      <th>3</th>\n",
              "      <td>3</td>\n",
              "      <td>I'm like entp but idiotic|||Hey boy, do you wa...</td>\n",
              "      <td>intj</td>\n",
              "    </tr>\n",
              "    <tr>\n",
              "      <th>4</th>\n",
              "      <td>4</td>\n",
              "      <td>@kaeshurr1 Give it to @ZargarShanif ... He has...</td>\n",
              "      <td>intj</td>\n",
              "    </tr>\n",
              "  </tbody>\n",
              "</table>\n",
              "</div>\n",
              "      <button class=\"colab-df-convert\" onclick=\"convertToInteractive('df-445ed33b-40d7-41c0-82ce-5367e191bd74')\"\n",
              "              title=\"Convert this dataframe to an interactive table.\"\n",
              "              style=\"display:none;\">\n",
              "        \n",
              "  <svg xmlns=\"http://www.w3.org/2000/svg\" height=\"24px\"viewBox=\"0 0 24 24\"\n",
              "       width=\"24px\">\n",
              "    <path d=\"M0 0h24v24H0V0z\" fill=\"none\"/>\n",
              "    <path d=\"M18.56 5.44l.94 2.06.94-2.06 2.06-.94-2.06-.94-.94-2.06-.94 2.06-2.06.94zm-11 1L8.5 8.5l.94-2.06 2.06-.94-2.06-.94L8.5 2.5l-.94 2.06-2.06.94zm10 10l.94 2.06.94-2.06 2.06-.94-2.06-.94-.94-2.06-.94 2.06-2.06.94z\"/><path d=\"M17.41 7.96l-1.37-1.37c-.4-.4-.92-.59-1.43-.59-.52 0-1.04.2-1.43.59L10.3 9.45l-7.72 7.72c-.78.78-.78 2.05 0 2.83L4 21.41c.39.39.9.59 1.41.59.51 0 1.02-.2 1.41-.59l7.78-7.78 2.81-2.81c.8-.78.8-2.07 0-2.86zM5.41 20L4 18.59l7.72-7.72 1.47 1.35L5.41 20z\"/>\n",
              "  </svg>\n",
              "      </button>\n",
              "      \n",
              "  <style>\n",
              "    .colab-df-container {\n",
              "      display:flex;\n",
              "      flex-wrap:wrap;\n",
              "      gap: 12px;\n",
              "    }\n",
              "\n",
              "    .colab-df-convert {\n",
              "      background-color: #E8F0FE;\n",
              "      border: none;\n",
              "      border-radius: 50%;\n",
              "      cursor: pointer;\n",
              "      display: none;\n",
              "      fill: #1967D2;\n",
              "      height: 32px;\n",
              "      padding: 0 0 0 0;\n",
              "      width: 32px;\n",
              "    }\n",
              "\n",
              "    .colab-df-convert:hover {\n",
              "      background-color: #E2EBFA;\n",
              "      box-shadow: 0px 1px 2px rgba(60, 64, 67, 0.3), 0px 1px 3px 1px rgba(60, 64, 67, 0.15);\n",
              "      fill: #174EA6;\n",
              "    }\n",
              "\n",
              "    [theme=dark] .colab-df-convert {\n",
              "      background-color: #3B4455;\n",
              "      fill: #D2E3FC;\n",
              "    }\n",
              "\n",
              "    [theme=dark] .colab-df-convert:hover {\n",
              "      background-color: #434B5C;\n",
              "      box-shadow: 0px 1px 3px 1px rgba(0, 0, 0, 0.15);\n",
              "      filter: drop-shadow(0px 1px 2px rgba(0, 0, 0, 0.3));\n",
              "      fill: #FFFFFF;\n",
              "    }\n",
              "  </style>\n",
              "\n",
              "      <script>\n",
              "        const buttonEl =\n",
              "          document.querySelector('#df-445ed33b-40d7-41c0-82ce-5367e191bd74 button.colab-df-convert');\n",
              "        buttonEl.style.display =\n",
              "          google.colab.kernel.accessAllowed ? 'block' : 'none';\n",
              "\n",
              "        async function convertToInteractive(key) {\n",
              "          const element = document.querySelector('#df-445ed33b-40d7-41c0-82ce-5367e191bd74');\n",
              "          const dataTable =\n",
              "            await google.colab.kernel.invokeFunction('convertToInteractive',\n",
              "                                                     [key], {});\n",
              "          if (!dataTable) return;\n",
              "\n",
              "          const docLinkHtml = 'Like what you see? Visit the ' +\n",
              "            '<a target=\"_blank\" href=https://colab.research.google.com/notebooks/data_table.ipynb>data table notebook</a>'\n",
              "            + ' to learn more about interactive tables.';\n",
              "          element.innerHTML = '';\n",
              "          dataTable['output_type'] = 'display_data';\n",
              "          await google.colab.output.renderOutput(dataTable, element);\n",
              "          const docLink = document.createElement('div');\n",
              "          docLink.innerHTML = docLinkHtml;\n",
              "          element.appendChild(docLink);\n",
              "        }\n",
              "      </script>\n",
              "    </div>\n",
              "  </div>\n",
              "  "
            ]
          },
          "metadata": {},
          "execution_count": 70
        }
      ]
    },
    {
      "cell_type": "code",
      "source": [
        "y = df['label']"
      ],
      "metadata": {
        "id": "Ka3kuU-6NbTN"
      },
      "execution_count": null,
      "outputs": []
    },
    {
      "cell_type": "code",
      "source": [
        "df['label'].value_counts(),df['label'].nunique()"
      ],
      "metadata": {
        "colab": {
          "base_uri": "https://localhost:8080/"
        },
        "id": "uHMoVTcdSiLV",
        "outputId": "055f420c-4c24-4964-cb61-32c73eadae2f"
      },
      "execution_count": null,
      "outputs": [
        {
          "output_type": "execute_result",
          "data": {
            "text/plain": [
              "(infp    1282\n",
              " infj    1057\n",
              " intp     811\n",
              " intj     781\n",
              " enfp     729\n",
              " entp     577\n",
              " enfj     518\n",
              " isfp     367\n",
              " isfj     364\n",
              " istp     327\n",
              " entj     279\n",
              " istj     259\n",
              " esfp     174\n",
              " esfj     105\n",
              " estp     100\n",
              " estj      81\n",
              " Name: label, dtype: int64,\n",
              " 16)"
            ]
          },
          "metadata": {},
          "execution_count": 72
        }
      ]
    },
    {
      "cell_type": "code",
      "source": [
        "from sklearn.preprocessing import LabelEncoder\n",
        "lb = LabelEncoder()\n",
        "y = lb.fit_transform(y)\n",
        "y"
      ],
      "metadata": {
        "colab": {
          "base_uri": "https://localhost:8080/"
        },
        "id": "WjniPx13Sr9C",
        "outputId": "05c2f9a3-5034-4ec4-d20b-a16473843fb2"
      },
      "execution_count": null,
      "outputs": [
        {
          "output_type": "execute_result",
          "data": {
            "text/plain": [
              "array([10, 10, 10, ...,  3,  8, 15])"
            ]
          },
          "metadata": {},
          "execution_count": 73
        }
      ]
    },
    {
      "cell_type": "code",
      "source": [
        "df.shape"
      ],
      "metadata": {
        "colab": {
          "base_uri": "https://localhost:8080/"
        },
        "id": "z8ydfSFGS5sh",
        "outputId": "8d0b4afd-4ab7-452f-e438-a36d703dfdb7"
      },
      "execution_count": null,
      "outputs": [
        {
          "output_type": "execute_result",
          "data": {
            "text/plain": [
              "(7811, 3)"
            ]
          },
          "metadata": {},
          "execution_count": 74
        }
      ]
    },
    {
      "cell_type": "code",
      "source": [
        "df.info()"
      ],
      "metadata": {
        "colab": {
          "base_uri": "https://localhost:8080/"
        },
        "id": "jqX2-JfdTCNI",
        "outputId": "11132607-4fa4-4ba6-b41a-9a083e36c461"
      },
      "execution_count": null,
      "outputs": [
        {
          "output_type": "stream",
          "name": "stdout",
          "text": [
            "<class 'pandas.core.frame.DataFrame'>\n",
            "RangeIndex: 7811 entries, 0 to 7810\n",
            "Data columns (total 3 columns):\n",
            " #   Column      Non-Null Count  Dtype \n",
            "---  ------      --------------  ----- \n",
            " 0   Unnamed: 0  7811 non-null   int64 \n",
            " 1   text        7811 non-null   object\n",
            " 2   label       7811 non-null   object\n",
            "dtypes: int64(1), object(2)\n",
            "memory usage: 183.2+ KB\n"
          ]
        }
      ]
    },
    {
      "cell_type": "code",
      "source": [
        "#lowercase for 4th row\n",
        "df['text'][4].lower()"
      ],
      "metadata": {
        "colab": {
          "base_uri": "https://localhost:8080/",
          "height": 139
        },
        "id": "cHd5VwVGTD8E",
        "outputId": "9548c4ec-1752-433a-b2d8-fe695d98c5ad"
      },
      "execution_count": null,
      "outputs": [
        {
          "output_type": "execute_result",
          "data": {
            "text/plain": [
              "\"@kaeshurr1 give it to @zargarshanif ... he has pica since childhood|||@dannnyaaaa say qubool hai in my dm ❤️|||@dannnyaaaa get married asap|||@ubaid_rasool two decades actually 🌚|||@kaeshurr1 @umer__ayoub subas ?|||@kaeshurr1 @umer__ayoub wayne kar niyiv meati panas seyt|||@kaeshurr1 @umer__ayoub mea gov akh hafte czeaf dith|||@kaeshurr1 @umer__ayoub meati niyziha panas seyt|||okay 🥺 https://t.co/3fh1tqbfl2|||@hareembhat_ https://t.co/0nve1cdbqd|||@pingaapongaa hye|||@bint_e_tasleem i had a lot to speak out, but you ignored me 🥺|||@whytaniya welcome back|||just a simple thought, what's stopping from having icu facilities at dh shopian? 50-70% deaths occur due to referra… https://t.co/wpcgmdzsar|||@toyibanabi laxmi chit fund bank|||same bro same 🥺🌚 https://t.co/2g5zorfhsf|||@yawar_banday expecting a grand opening soon in sha allah???|||@dannnyaaaa aameeeeeeeennnn|||@babra_yousuf mohabat|||@yawar_banday thanks for bringing the coolest place ever seen ❤️|||@aadilsam118 mujhe b le jao tandoori chicken khane...🥺|||#newprofilepic https://t.co/dcilyzkxkv|||@muskan_parhlo @2 @penstagrammer 🥺|||monro kellie hypothesis 🥺 https://t.co/olf8wldpuj|||@ruqayawar quch healthy sa khaya karo didi\\nkamzori bohot hai apko|||medicos use twitter and snapchat just to show their books, apron, stethoscope and college.\\n#crowning|||@bashir_zarnab ye lo https://t.co/wexbr3j8dr|||@urvaak_ @kaeshurr1 bull means saand 🥺|||@kaeshurr1 bell|||@kaeshurr1 hil bill 🥺|||@mir_reyazz badshah|||@shazilturey bhai toilet mai karleta|||@aadilsam118 looking new pandemic|||@d_otherkhaleesi effects of ignoring my hi 🥺|||@amnaghaffar777 me n who 🥺|||@waseems72520362 bellisa champ|||@penstagrammer inviting ?|||@bleeehh_ kaise bro kaise|||@penstagrammer https://t.co/wkwqccfdcf|||@_______alif get well soon 🙂|||@khargoooooosssh ok bye 👋|||@saniazehra123 ok|||@arshiequreshi bring some to delhi too 🥺|||@umi07khan @shazilturey hahahahaha bhai he's the best poser|||@shazilturey 13 khoon maaf|||@mehnaz077 pehle he bola tha 🥺|||@kaeshurr1 mumbai wala good job leaving leaving kese join karega 🥺|||@_cheese_corn @kalam_ki_noke 😊|||@__ali07 @2 @m_zainab_k 🥺|||@maham_32 @amnaghaffar777 astagfirullah 🙄|||@amnaghaffar777 @baezaarrr same dua for me too bro 🥺|||@kaeshurr1 bhai time travel kar k aaya mai tere bache khelte dikh gaye 😪|||@kaeshurr1 ok bye 👋 https://t.co/teihtevd2m|||@shinvanuk https://t.co/racxo2amr4|||@giggle_44 faridabad is green|||@giggle_44 no|||@umi07khan @_cheese_corn https://t.co/lgpeyrtulx|||@_cheese_corn send over 😪|||somewhere in world, someone is having toothache, headache, earache. some woman is undergoing labour pain, some male… https://t.co/zb7s9yq5du|||@giggle_44 dil wale nahi hai west delhi wale|||@kaeshurr1 hahahahaha you're his secret admirer 🤣🤣🤣|||@kaeshurr1 your workout reason 🤣 https://t.co/jkdorof4ih|||@jutti__hun @umi07khan kya bolte ho bhai|||@impov same bro same 🥺|||@nawab__zadiii @sakon_e_qalb naya lelo 🥺|||@uzma_nisar @warofchains masha allah|||@ammar_xaidi @1st @heya_ambivert 🥺|||@___maida__ wo kya hota hai 🥺|||@sarahsa62844321 text me once you reach home doc 🥺|||@kaiiiisus @ladygaga 🥺|||in aankhon ki masti mai .... dark circles hazaroon hai 🥲\\n#darkcirclesarehot|||@giggle_44 sikhao 🌚|||@giggle_44 what's cp 🥺|||@giggle_44 you can have 9 after 9 months 🌚|||they talk about golden or diamond rings.\\ni talk about fleischer ring, weiss ring and vossious ring.\\n#zlife\\U0001f979|||@toyibanabi credits \\U0001f979|||@sadiaakbarrr thanks (3)|||@hudaibaj left hand \\U0001f979|||@bint_e_tasleem tajamul soab \\U0001f979|||@_cheese_corn mirzapur|||@kifayat677671 saal kar chu kheon🌚|||@kifayat677671 mubarak|||@giggle_44 @ranamishka tumhe kab mili|||@d_otherkhaleesi astagfirullah|||@d_otherkhaleesi https://t.co/vbp0iwejee|||@d_otherkhaleesi alhamdulillah you don't talk anymore|||@d_otherkhaleesi no it's your current relationship status|||@d_otherkhaleesi alhamdulillah|||@muskurategham +1|||@d_otherkhaleesi @gowhar_ you're 29+ 😊|||@bhavyaxoxo @elonmusk bhai batao inko \\U0001f979|||@bhavyaxoxo okay|||@bint_e_tasleem \\U0001f979|||@_dabosschick chalo meaning samjhao sabka 🥺|||life was all good then \\naphagia, asphyxia, apraxia, aphasia, ageusia, dysphagia, dysarthria, dyspraxia happened. 🥺\\n#frigid_thoughts.|||@hudaibaj shaatiraana harkatein by @kaeshurr1 🥺|||@giggle_44 ye bhi theek hai 🥺|||@na_jao_na @1st @mir_reyazz|||@bakalhafsa @jandktourism @kashmir_weather @jktourism_corpn mai bhi 🥺🥺🥺|||@mir_reyazz @sadiyabhat_ @shazilturey it's haraam to text gair mehram 🥺|||@giggle_44 https://t.co/f72e8dkok3|||@giggle_44 ghar k bahar wali under 18 bachu ki park mai jane ko bahar jana bolte hai west delhi mai ? \\U0001f979|||@giggle_44 as if you're hanging out with friends. you just tweeted while brushing 🌚|||for pediatricians, the word baby isn't romantic at all. \\nthey will end up thinking whether you're talking about neo… https://t.co/1c5i8sofpx|||@___maida__ kaha 🌚|||@m_zainab_k paani bhi garam aaraha gaaaaaawwwaaaizzz 🌚|||@farkhanda_shah je veux m'enfuir que tout recommence\\noh ma douce souffrance \\U0001f979|||@theyluvvshine 6'1\\n27\\nwidower|||@nowreeeeeeeen https://t.co/rai0bvalyy|||@nowreeeeeeeen https://t.co/gwafdw3ptn|||@nowreeeeeeeen @giggle_44 https://t.co/dexau092zz|||@nowreeeeeeeen how much ? \\U0001f979|||@giggle_44 tab xxy or xyy hoga so in both cases extra x and y can come from male partner so de dana dhan \\U0001f979|||@giggle_44 you means parents or offspring?|||if you wanna beat someone because a girl is born, beat your son.\\n#girlaareablessing|||men have xy chromosomes and females have xx chromosomes. female always gives x and it is on the male genome which d… https://t.co/bu1s5v20n3|||@maham_32 @maybeeevirgo @amnaghaffar777 astagfirullah 🙄|||@sakon_e_qalb @3rd @afreenshowkat 🙄|||@theyluvvshine replied|||forget bad memories of life just like you forgot muscle attachments in anatomy and drug classification in pharma. \\U0001f979… https://t.co/jbca3bsjrl|||@altafg22 @4th @14harneet \\U0001f979|||@kaeshurr1 https://t.co/u5qvjdpfc2|||@kaeshurr1 as if you've plans for weekend \\U0001f979|||@toyibanabi @youtube give her ad free subscription \\U0001f979|||@aadilsam118 married tulips of shopian|||@giggle_44 padhai likhayi kro ashu\\nia y a s karo|||@kaeshurr1 😂|||@giggle_44 show off 🥺🥺🥺|||@kaeshurr1 pet mai kitne jayege bhai ... one tree produces 500 boxes on average|||@kaeshurr1 true that. but it's shelf life sucks|||@nowreeeeeeeen @noorhopes @3rd what's bt 😪|||@bint_e_tasleem sending hi from 46° 😊|||@_dabosschick 🥺|||@khanra_tiyasa ok bye 👋|||don't get attached to many people.\\nyou're human not humerus that can hold 13 muscle attachments alone.🌚\\n#mentalhealthawarenessweek|||@seydquraiba @sonusood bhai iske liye flight book krdo 😪|||@d_otherkhaleesi not again / not against 😪|||@umi07khan @shazilturey kanijung ka khatra 😪|||@nad1an4v33d not me 🥲|||@shazilturey looking omicron|||@noushibahilal i'm scared of email attachments 🥲|||@syed_shoiabb @minicotinee ok bhaijaan|||@minicotinee @syed_shoiabb toh mai best friend b ni hu 🙄|||@minicotinee mai kya hun fir 🥲|||@dissociativeee theek hai|||@_illusion98 your nails and pant are twinning 😊|||@minicotinee order from @amazonin|||@_dabosschick https://t.co/yklxw26q76|||@seydquraiba aunts 🤧|||@mussegareeb_ welcome to india|||@zaira_aaa @nowreeeeeeeen \\U0001f979|||@haddhai_ replied|||treat yourself like someone you loved \\U0001f979\\n#mood|||@itsbitchma you're pretty|||@itsbitchma ok|||@afaxima masha allah|||@m_zainab_k congratulations 👏|||@afaxima mujhe bhi sath lejate \\U0001f979|||@mir_reyazz @sheen_piipin wadnas ruduy na waar|||@bint_e_tasleem shall i recite bismillah and dm you then|||@mir_reyazz @sheen_piipin kya hamle kornay mulazim soaba \\U0001f979\\U0001f979|||@bint_e_tasleem i always fantasise dming you. but then i reject myself and stop fantasising even. \\ni've this inferiority complex.|||@asraafarooque we can be anything? 🙄|||@bint_e_tasleem reply my all pending dms|||@umi07khan @nun_chaai @isaguha while working in your apple orchard may be \\U0001f979|||@sheen_piipin zakhmi pipin|||@stanfordmbb @jameskeefe22 @brandon_angel3 goodluck❤️|||@youlovemeikthat ab may dump k sath krna|||@afaxima pray for me too|||@ammar_xaidi @2nd @_dabosschick|||@aadilsam118 covid baradari|||@dr_mun24 you want a doll? choti wali ?|||@kheramahira21 kyu \\U0001f979|||@kheramahira21 ap krte ho ? \\U0001f979|||@eramwani slapping is not good|||@nusrat193 beshak|||@rukhsanajalani tajamul islam|||@mir_reyazz @_maryambhat_ hahahahaha.... beha govus bore yeti wallah ....|||@irtiqaayoub keep smiling didi|||@mir_reyazz @_maryambhat_ yi kya waatiy mulazim soaba ?|||@_maryambhat_ how old are you|||@_cheese_corn separated ?|||@jaane_bhai_ tajamul___islam|||@minicotinee happy birthday 🎊🎁|||@theycallmepoem 👋|||@_illusion98 @sheen_piipin thanks|||@sheen_piipin nice wohvov \\U0001f979|||@sarahafreenmal1 what do you do on weekends?|||@sarahafreenmal1 still you said no to me ?|||@sarahafreenmal1 sarah afreen. lemme take you out someday. works ? \\U0001f979|||@sarahafreenmal1 so it's fact hot girls don't date ugly guys 🙂|||@sarahafreenmal1 agreed mam. so can we date or not ? \\U0001f979|||@sarahafreenmal1 so we can still date ?|||@themessybreeze congratulations|||@sarahafreenmal1 you're 35 and hot \\ni'm 27 and ugly. \\nlet's date and break the myth\\U0001f979|||@fasaadd khilao fir 😪|||@fasaadd https://t.co/v7qhurrehd|||@shazilturey looking new variant.|||\""
            ],
            "application/vnd.google.colaboratory.intrinsic+json": {
              "type": "string"
            }
          },
          "metadata": {},
          "execution_count": 76
        }
      ]
    },
    {
      "cell_type": "code",
      "source": [
        "text = df['text']"
      ],
      "metadata": {
        "id": "M8af6XxKTMYx"
      },
      "execution_count": null,
      "outputs": []
    },
    {
      "cell_type": "code",
      "source": [
        "#convert in lowercase\n",
        "text = text.str.lower()"
      ],
      "metadata": {
        "id": "O4JNcDmMTWFt"
      },
      "execution_count": null,
      "outputs": []
    },
    {
      "cell_type": "code",
      "source": [
        "#remove html tags\n",
        "import re\n",
        "def remove_html_tags(text):\n",
        "  pattern = re.compile('<.*?>')\n",
        "  return pattern.sub(r'',text)\n"
      ],
      "metadata": {
        "id": "G4cDcH0BTgR9"
      },
      "execution_count": null,
      "outputs": []
    },
    {
      "cell_type": "code",
      "source": [
        "text = text.apply(remove_html_tags)\n",
        "text\n"
      ],
      "metadata": {
        "colab": {
          "base_uri": "https://localhost:8080/"
        },
        "id": "Z2lcU8IuT48H",
        "outputId": "a7c923c8-5ad1-4d00-bbf5-ca23930d5d91"
      },
      "execution_count": null,
      "outputs": [
        {
          "output_type": "execute_result",
          "data": {
            "text/plain": [
              "0       @pericles216 @hierbeforetheac @sachinettiyil t...\n",
              "1       @hispanthicckk being you makes you look cute||...\n",
              "2       @alshymi les balles sont réelles et sont tirée...\n",
              "3       i'm like entp but idiotic|||hey boy, do you wa...\n",
              "4       @kaeshurr1 give it to @zargarshanif ... he has...\n",
              "                              ...                        \n",
              "7806    @sobsjjun god,,pls take care 😕|||@sobsjjun hir...\n",
              "7807    @ignis_02 wow last time i got intp https://t.c...\n",
              "7808    @akupilled a 100%|||@akupilled that someone wi...\n",
              "7809    if you’re #intj this one is for you | what is ...\n",
              "7810    @harry__lambert @gucci hey can you dm me a pic...\n",
              "Name: text, Length: 7811, dtype: object"
            ]
          },
          "metadata": {},
          "execution_count": 80
        }
      ]
    },
    {
      "cell_type": "code",
      "source": [
        "#clear url\n",
        "def remove_url(text):\n",
        "  pattern = re.compile(r'https?://\\S+|www\\.\\s+')\n",
        "  return pattern.sub(r'', text)"
      ],
      "metadata": {
        "id": "YOqhrvuiUAsL"
      },
      "execution_count": null,
      "outputs": []
    },
    {
      "cell_type": "code",
      "source": [
        "text = text.apply(remove_url)\n",
        "text"
      ],
      "metadata": {
        "colab": {
          "base_uri": "https://localhost:8080/"
        },
        "id": "-0NNfW4zUedR",
        "outputId": "89e49207-8c91-4299-b2c8-0d8dff46e8e3"
      },
      "execution_count": null,
      "outputs": [
        {
          "output_type": "execute_result",
          "data": {
            "text/plain": [
              "0       @pericles216 @hierbeforetheac @sachinettiyil t...\n",
              "1       @hispanthicckk being you makes you look cute||...\n",
              "2       @alshymi les balles sont réelles et sont tirée...\n",
              "3       i'm like entp but idiotic|||hey boy, do you wa...\n",
              "4       @kaeshurr1 give it to @zargarshanif ... he has...\n",
              "                              ...                        \n",
              "7806    @sobsjjun god,,pls take care 😕|||@sobsjjun hir...\n",
              "7807    @ignis_02 wow last time i got intp    i think ...\n",
              "7808    @akupilled a 100%|||@akupilled that someone wi...\n",
              "7809    if you’re #intj this one is for you | what is ...\n",
              "7810    @harry__lambert @gucci hey can you dm me a pic...\n",
              "Name: text, Length: 7811, dtype: object"
            ]
          },
          "metadata": {},
          "execution_count": 82
        }
      ]
    },
    {
      "cell_type": "code",
      "source": [
        "#remove punctuations - method 1\n",
        "\n",
        "import string,time\n",
        "string.punctuation"
      ],
      "metadata": {
        "colab": {
          "base_uri": "https://localhost:8080/",
          "height": 35
        },
        "id": "-3F2NQU_Ukyy",
        "outputId": "ce32b0d8-8622-47d7-dfcc-7c3d25ff3099"
      },
      "execution_count": null,
      "outputs": [
        {
          "output_type": "execute_result",
          "data": {
            "text/plain": [
              "'!\"#$%&\\'()*+,-./:;<=>?@[\\\\]^_`{|}~'"
            ],
            "application/vnd.google.colaboratory.intrinsic+json": {
              "type": "string"
            }
          },
          "metadata": {},
          "execution_count": 83
        }
      ]
    },
    {
      "cell_type": "code",
      "source": [
        "exclude = string.punctuation"
      ],
      "metadata": {
        "id": "-pONaqLAUu6C"
      },
      "execution_count": null,
      "outputs": []
    },
    {
      "cell_type": "code",
      "source": [
        "def remove_punctuation(text):\n",
        "  for char in exclude:\n",
        "    text = text.replace(char,'')\n",
        "  return text"
      ],
      "metadata": {
        "id": "WJR8zD4xUzIM"
      },
      "execution_count": null,
      "outputs": []
    },
    {
      "cell_type": "code",
      "source": [
        "start = time.time()\n",
        "print(remove_punctuation(text))\n",
        "time1 = time.time() - start\n",
        "print(time1)"
      ],
      "metadata": {
        "colab": {
          "base_uri": "https://localhost:8080/"
        },
        "id": "yvq7XxR7VDir",
        "outputId": "95a056c0-d5c6-4897-a044-c94ea8059459"
      },
      "execution_count": null,
      "outputs": [
        {
          "output_type": "stream",
          "name": "stdout",
          "text": [
            "0       @pericles216 @hierbeforetheac @sachinettiyil t...\n",
            "1       @hispanthicckk being you makes you look cute||...\n",
            "2       @alshymi les balles sont réelles et sont tirée...\n",
            "3       i'm like entp but idiotic|||hey boy, do you wa...\n",
            "4       @kaeshurr1 give it to @zargarshanif ... he has...\n",
            "                              ...                        \n",
            "7806    @sobsjjun god,,pls take care 😕|||@sobsjjun hir...\n",
            "7807    @ignis_02 wow last time i got intp    i think ...\n",
            "7808    @akupilled a 100%|||@akupilled that someone wi...\n",
            "7809    if you’re #intj this one is for you | what is ...\n",
            "7810    @harry__lambert @gucci hey can you dm me a pic...\n",
            "Name: text, Length: 7811, dtype: object\n",
            "0.041059255599975586\n"
          ]
        }
      ]
    },
    {
      "cell_type": "code",
      "source": [
        "#remove punctuation - method 2\n",
        "def remove_punc1(text):\n",
        "  return text.translate(str.maketrans('','',exclude))"
      ],
      "metadata": {
        "id": "nHKVmIhBVPkQ"
      },
      "execution_count": null,
      "outputs": []
    },
    {
      "cell_type": "code",
      "source": [
        "text = text.apply(remove_punc1)"
      ],
      "metadata": {
        "id": "eu7dOumfVg7G"
      },
      "execution_count": null,
      "outputs": []
    },
    {
      "cell_type": "code",
      "source": [
        "start = time.time()\n",
        "text = text.apply(remove_punc1)\n",
        "time2 = time.time() - start\n",
        "print(time2)"
      ],
      "metadata": {
        "colab": {
          "base_uri": "https://localhost:8080/"
        },
        "id": "VtqAvDH3VlZO",
        "outputId": "9e1923a6-7917-4d37-da30-1f365a13e49e"
      },
      "execution_count": null,
      "outputs": [
        {
          "output_type": "stream",
          "name": "stdout",
          "text": [
            "5.646285772323608\n"
          ]
        }
      ]
    },
    {
      "cell_type": "code",
      "source": [
        "time1/time2"
      ],
      "metadata": {
        "colab": {
          "base_uri": "https://localhost:8080/"
        },
        "id": "GwsTgZ9bV02x",
        "outputId": "ff90a5a4-3068-4d40-e819-d9bebb9f7a81"
      },
      "execution_count": null,
      "outputs": [
        {
          "output_type": "execute_result",
          "data": {
            "text/plain": [
              "0.007271905329559422"
            ]
          },
          "metadata": {},
          "execution_count": 90
        }
      ]
    },
    {
      "cell_type": "code",
      "source": [
        "#remove punctuations - method 3\n",
        "punc = '''!()-[]{};:'\"\\,<>./?|@#$%^&*_~'''\n",
        "\n",
        "def remove_punc(text):\n",
        "  for char in punc:\n",
        "    text = text.replace(char,'')\n",
        "  return text"
      ],
      "metadata": {
        "id": "O6-TayRcV6T6"
      },
      "execution_count": null,
      "outputs": []
    },
    {
      "cell_type": "code",
      "source": [
        "text = text.apply(remove_punc)\n",
        "text"
      ],
      "metadata": {
        "colab": {
          "base_uri": "https://localhost:8080/"
        },
        "id": "P5flRO19WcZD",
        "outputId": "848edb6b-e357-4ecb-e789-95a7aa7951f6"
      },
      "execution_count": null,
      "outputs": [
        {
          "output_type": "execute_result",
          "data": {
            "text/plain": [
              "0       pericles216 hierbeforetheac sachinettiyil the ...\n",
              "1       hispanthicckk being you makes you look cutethi...\n",
              "2       alshymi les balles sont réelles et sont tirées...\n",
              "3       im like entp but idiotichey boy do you want to...\n",
              "4       kaeshurr1 give it to zargarshanif  he has pica...\n",
              "                              ...                        \n",
              "7806    sobsjjun godpls take care 😕sobsjjun hiro emerg...\n",
              "7807    ignis02 wow last time i got intp    i think u ...\n",
              "7808    akupilled a 100akupilled that someone will get...\n",
              "7809    if you’re intj this one is for you  what is ne...\n",
              "7810    harrylambert gucci hey can you dm me a pic of ...\n",
              "Name: text, Length: 7811, dtype: object"
            ]
          },
          "metadata": {},
          "execution_count": 92
        }
      ]
    },
    {
      "cell_type": "code",
      "source": [
        "import time\n",
        "start = time.time()\n",
        "remove_punc(text)\n",
        "time3 = time.time() - start\n",
        "print(time3)"
      ],
      "metadata": {
        "colab": {
          "base_uri": "https://localhost:8080/"
        },
        "id": "deldr2G_WiZa",
        "outputId": "a4e0f7ea-2196-46dc-ed7c-8d80baa73985"
      },
      "execution_count": null,
      "outputs": [
        {
          "output_type": "stream",
          "name": "stdout",
          "text": [
            "0.04179644584655762\n"
          ]
        }
      ]
    },
    {
      "cell_type": "code",
      "source": [
        "time3/time2"
      ],
      "metadata": {
        "colab": {
          "base_uri": "https://localhost:8080/"
        },
        "id": "VgSKxmcgWvT0",
        "outputId": "76191c93-f3af-4870-8a1e-d900b6d9b41d"
      },
      "execution_count": null,
      "outputs": [
        {
          "output_type": "execute_result",
          "data": {
            "text/plain": [
              "0.007402467308939835"
            ]
          },
          "metadata": {},
          "execution_count": 94
        }
      ]
    },
    {
      "cell_type": "code",
      "source": [
        "text[7806]"
      ],
      "metadata": {
        "colab": {
          "base_uri": "https://localhost:8080/",
          "height": 139
        },
        "id": "bpqmPLJ0WxXh",
        "outputId": "5b6b7087-ba3f-437d-a890-7cedd5e9b51e"
      },
      "execution_count": null,
      "outputs": [
        {
          "output_type": "execute_result",
          "data": {
            "text/plain": [
              "'sobsjjun godpls take care 😕sobsjjun hiro emergency room are you okay waitdafahoe zeharrrrrrr😭😭😭😭😭😭😭😭txtlomlsss ye0nyang oh my god thats 💔ye0nyang txtlomlsss did i liesoobinspolaroid i knownano h—\\nsoule  grandma   r so cute😭my whole tl just 4 oomfs doing sum shit but i love itsoobinspolaroid is this u0x1bts plus i took a test yesterday and i am an intp ur so annoying0x1bts dude atleast speak in english what if he minds wtfsoobinspolaroid sobsjjun oh my godsoobinspolaroid sobsjjun who tf tells before stealing just steal when hes sleeping or sum shit 😭0x1bts soobinspolaroid what the fuck0x1bts soobinspolaroid  im intpi should stop making jokes  helpbeomthyusiast1 nooooo😭ye0nyang snakskdmkwkwmdmbeomthyusiast1 who said im jokingyeehawnjun im so funnytxtlomlsss rightt im so geniusox1gyuu sooo truecactigumi im so funnytxtlomlsss im geniuschoiseeker yesyuniberri yunnie twtstolen btwif a shark bites ubite back  youll still d1e but the shark would be like yo wtfinsoobinspolaroid i love kids too every kid i meet gets very attached to me and idk why😭yeonjun is no ones shadow shut the fuck up loser  guess whos the anonsoobinspolaroid im intp ✨soobinspolaroid anon ur so funnysoobinspolaroid wait fried  egg raw egg boiled egg or smthsoobinspolaroid eggsoobinspolaroid oh ny god samwsoobinspolaroid like yoursoobinspolaroid yes his name is sunoosoobinspolaroid sunoo lomlsoobinspolaroid vacations right same 💀dafahoe helpppbeomgyuspabomoa ok👁️👄👁️man i love him  did u try making pancakes againsobsjjun yes lmao im okay0x1bts teray pas aur kuch bolnay ko hi nahi hai 💀0x1bts darne do lawl0x1bts mein fazool baton pe nahi roti \\U0001faf6🏽sobsjjun buy a lot of snacks and eat a lotsobsjjun yeasssssobsjjun ps5sobsjjun shirt or smthdude me and my cousin were standing on the street and there was a big wild cat running towards us and it was fast a…  keep telling me that it wont effect me bc ur not my mom \\U0001faf6🏽forsseratxt wtf shes a whole minorhyyhkai exactly💀yawnzzniverted yesrkwnzzn exactly shes 15 like wtfbtxtrealm ikr likei hate yall leave them alonewho tf is shipping eunche and 🐻forsseratxt what happened 💀taehyun0x1bts ur a nuguur just like me  or let me carry these trash bags for yoy waitgjnzzn omg  noodiswifey fucj mathsrekimimi17 no its ewwwwww5oobinluv yes i oened weverse and boomodiswifey dpes this scare you   wtf is fhis  history science maths  ew maths5oobinluv noo i wont dont worry 😭😭5oobinluv yes we always watch thrillers 😭5oobinluv yeasss again 😼sobsjjun okay give them to me then 💀odiswifey yay thank u nona sobsjjun he is cooler than u \\U0001faf6🏼odiswifey i dont know yet but i watched the insidious yesterday \\U0001faf6🏼sobsjjun hes cuter than u 😕sobsjjun they do that one baby u posted was so cuteso im watching a horror movie again today 😼sobsjjun and tallsobsjjun ur so coolxcyj gm lovi have a great day good morning  yes yesi love u \\U0001faf6🏼 johncena hi non oomf pls fb actually u got caught in bl0ckchainsjjuniverses yesmy meows   i actually did notice but i thought ur sleeping sooooo☹️lol i want this or else ill make one myself  😭😭ningningie nauuryryrytried to pull my blanket but i hit my face insteadbeozip yawnwdz 2 likeyawnwdz why r random ppl retweeting my taemin tweets helloyawnwdz the rt 💀yawnwdz wait taemin from shineeyawnwdz i think its shinee from taeminsoobinspolaroid ikr like lmao😭the tweet that started it all   all know its odi  dudebeomgyuspabomoa block him these people r fucking annoyingbeomgyuspabomoa is that some localjafferyyy phir letay rahosaucegamez soobnf4iry ianndior  so jao omgiann wanted to collab with them     you too lucas 😔soobinspolaroid inoor will never let you flop and will defend u till i d1e cringessoobinspolaroid i will never let u flop gothic fontsoobinspolaroid luflop jtxtlomlsss same lmaotxtlomlsss helpppi miss yeonjundude  yes\\U0001faf6🏽  its not on nwtflix omg i love this\\n most disturbing movie i ever watchedwhy r the voices m0aning isnt this a horror moviethere are too many jumpscares in insidious im crydidbokay christians daughters r pretty not gonna liecreepy as fuckd sksim traumatizedglorysoob jkdkth you guys im watching insidious and im traumatizedelise ur sooh shit they found this whistleyeonkook7 yesthe woman is so creepysobsjjun im watching insidious right now \\U0001faf6🏼biych a fucking womab standing there and u dont see itjkdkth right the first few scenes were a bit scary but its a bit confusing 😭glorysoob omgyou guys im fucking screaming its so scary  oh😭yeonkook7 omg ok im watching right now 😭is insidious scaryguys is orphan scarymagnifityun yes lmskskdk with ny cousin though 😭yeonssim the movie exorcistmagnifityun yes the 1973 one omg i think i should watch ot tonightratio    omg is that scaryrkwnzzn yes yes ill wztch this thank yoult3my mom said its too scary☹️has anyone watched the exorcist 😕rkwnzzn omg yesis gram innocentsobsjjun oki lets intwract more \\U0001faf6🏼sobsjjun im so short wtf 💀28yeonsthetic ayeeee28yeonsthetic lmfao what happenedis this me ☹️  164cm'"
            ],
            "application/vnd.google.colaboratory.intrinsic+json": {
              "type": "string"
            }
          },
          "metadata": {},
          "execution_count": 95
        }
      ]
    },
    {
      "cell_type": "markdown",
      "source": [
        "## Handle Emoji"
      ],
      "metadata": {
        "id": "Eifd4iTYXCmC"
      }
    },
    {
      "cell_type": "code",
      "source": [
        "!pip install emoji"
      ],
      "metadata": {
        "colab": {
          "base_uri": "https://localhost:8080/"
        },
        "id": "wGO0THqxXaGg",
        "outputId": "3de12e90-0d5f-4a81-981c-3e6f37d8f1da"
      },
      "execution_count": null,
      "outputs": [
        {
          "output_type": "stream",
          "name": "stdout",
          "text": [
            "Looking in indexes: https://pypi.org/simple, https://us-python.pkg.dev/colab-wheels/public/simple/\n",
            "Collecting emoji\n",
            "  Downloading emoji-2.2.0.tar.gz (240 kB)\n",
            "\u001b[2K     \u001b[90m━━━━━━━━━━━━━━━━━━━━━━━━━━━━━━━━━━━━━━━\u001b[0m \u001b[32m240.9/240.9 kB\u001b[0m \u001b[31m5.7 MB/s\u001b[0m eta \u001b[36m0:00:00\u001b[0m\n",
            "\u001b[?25h  Preparing metadata (setup.py) ... \u001b[?25l\u001b[?25hdone\n",
            "Building wheels for collected packages: emoji\n",
            "  Building wheel for emoji (setup.py) ... \u001b[?25l\u001b[?25hdone\n",
            "  Created wheel for emoji: filename=emoji-2.2.0-py3-none-any.whl size=234926 sha256=37a2732f9bdee6b3c8e8654e785863550e7f7b8033a73864d710408471f7f5a9\n",
            "  Stored in directory: /root/.cache/pip/wheels/9a/b8/0f/f580817231cbf59f6ade9fd132ff60ada1de9f7dc85521f857\n",
            "Successfully built emoji\n",
            "Installing collected packages: emoji\n",
            "Successfully installed emoji-2.2.0\n"
          ]
        }
      ]
    },
    {
      "cell_type": "code",
      "source": [
        "!pip install emoji --upgrade"
      ],
      "metadata": {
        "colab": {
          "base_uri": "https://localhost:8080/"
        },
        "id": "a7ukxiavXVN9",
        "outputId": "457f6deb-e429-4244-9aba-04b1857c5f73"
      },
      "execution_count": null,
      "outputs": [
        {
          "output_type": "stream",
          "name": "stdout",
          "text": [
            "Looking in indexes: https://pypi.org/simple, https://us-python.pkg.dev/colab-wheels/public/simple/\n",
            "Requirement already satisfied: emoji in /usr/local/lib/python3.9/dist-packages (2.2.0)\n"
          ]
        }
      ]
    },
    {
      "cell_type": "code",
      "source": [
        "import emoji\n",
        "print(emoji.demojize(text[7606]))"
      ],
      "metadata": {
        "colab": {
          "base_uri": "https://localhost:8080/"
        },
        "id": "vt2bHTX_W88E",
        "outputId": "e0db606e-13fd-47bf-cf65-7c2dec806a7a"
      },
      "execution_count": null,
      "outputs": [
        {
          "output_type": "stream",
          "name": "stdout",
          "text": [
            "guys omg  so happy they got to meet again  sayangku :loudly_crying_face::loudly_crying_face::loudly_crying_face::loudly_crying_face:wetheboyz sayangi hope their arms is the last thing i see before i sleep and then i will be dreaming about sanghak arms toogoing crazy  one chance please give me one chance :face_with_hand_over_mouth::grinning_face_with_smiling_eyes::rolling_on_the_floor_laughing::beaming_face_with_smiling_eyes::face_holding_back_tears::grinning_squinting_face:guys i love haknyeon so muchsanghaakkkkkkkkkkkkk armsssssssssss:grinning_face_with_smiling_eyes::grinning_face_with_smiling_eyes::grinning_face_with_smiling_eyes::grinning_face_with_smiling_eyes::grinning_face_with_smiling_eyes::grinning_face_with_smiling_eyes::grinning_face_with_smiling_eyes:  ilywetheboyz omgwetheboyz juyeonliterally what the fucklord  shut up  hak ily:grinning_face_with_smiling_eyes::grinning_face_with_smiling_eyes:  i love youwetheboyz omgoh my bbangnyuman…   am i suppose to move on what   baby  i love you so muchcravitystarship thank you youngtae :heart_hands::heart_hands::heart_hands:hey god its me again  my loveswetheboyz thank youwetheboyz oh my godbbangnyuanother win for me today as a fengfan and juyeon enthusiast  way   my god  my god  :heart_hands::heart_hands::heart_hands::heart_hands::heart_hands::heart_hands:  i love him so much   yay so proud of everyone today :heart_hands::heart_hands:couldn’t watch dream concert earlier when it was streaming but i just watch cix performance and they served once again :heart_hands::heart_hands:seungyounification of juyeon :heart_hands::heart_hands:  i dont miss when cix is on the red carpet im not home and my data is :face_holding_back_tears:i really hope hes doing well   boyz served once againsweet :heart_hands::heart_hands::heart_hands::heart_hands::heart_hands:bloom bloom 20 :heart_hands::heart_hands::heart_hands::heart_hands:ist i need you to announce literally right now if the boyz is coming to sg so i can find money and plan my timelomlllllll  lomlhappy seeun day lt3  cannot do this today…  have hope for the boyz coming to sg plsplsplsplsplsplsnct 127 in sg… so tempted to buy the tickets :loudly_crying_face::loudly_crying_face:love   well soon jacob good morning to me  omg   for juyeon kevin and changmin fast recovery no way omgwhat…because like wtf   morning to me what the fuck did i just wake up towetheboyz qtqueen  congrats loves so proud of everyoneso proud of them they deserve it so much lt3  omg hi :heart_hands::heart_hands::heart_hands:my love   omgwetheboyz goodnight kev lt3spent an hour watching bbangnyu vlive i think life is at its peakvityprnt happy birthday cor doh my  i love youwetheboyz youmy bbangnyuwhat the fuckshut up  morning to me  yay sunwoowetheboyz ilyisttheboyz thank you hyunjaeoh my god world stop  omgisttheboyz whati love him  my hak  yay hakwetheboyz my loveforever 11 lt3okay but no bloom bloom :face_holding_back_tears::face_holding_back_tears:i would have fucking collapsed what  proud of thembet on youddd my belovedtheyre the cutest fr actually gonna cry  bloom bloom… no bloom bloomthis   :face_holding_back_tears::face_holding_back_tears::face_holding_back_tears::face_holding_back_tears::beaming_face_with_smiling_eyes:also the birthday surprise for jacob thats so cutei keep on saying that i will log off for my mental health but the thought of missing out when they are in the red o…  have survived this irl  red outfits are so prettywhat  my chanhee  cannot i cannot i cannot  checkmate omgi need to see haklord  juyeon:face_holding_back_tears:  off :loudly_crying_face::loudly_crying_face::loudly_crying_face::loudly_crying_face::loudly_crying_face::loudly_crying_face::loudly_crying_face::loudly_crying_face:may we get a lot of haknyeon pics today or i will screamone day one day they will come to singapore  jacob day :red_heart:\n",
            "\n",
            "따스함으로물든제이콥의스물여섯\n",
            "ourangeljacobdayhappy jacob day lt3  going to sleep through the whole theb zone concert tmr definitely not because i cannot go to oneokay younghoon has an undercut and i only know about it nowkev hyunjae younghoon :face_holding_back_tears::face_holding_back_tears::face_holding_back_tears:not now please why is always when im outside:loudly_crying_face::loudly_crying_face::loudly_crying_face::loudly_crying_face:  my god prettiest hak  hak my favourite hakcherry hak wdym wdym wdymmy loves  the prettiest  mf late to the pink chanhee but omg pink chanheewetheboyz i love you so so much :heart_hands::heart_hands::heart_hands:jichang  ily\n"
          ]
        }
      ]
    },
    {
      "cell_type": "code",
      "source": [
        "text[7606].encode('utf-8')"
      ],
      "metadata": {
        "colab": {
          "base_uri": "https://localhost:8080/"
        },
        "id": "KYulQQf3XopU",
        "outputId": "8cfadc7f-24ff-4fcb-f3dd-b6826371d0e7"
      },
      "execution_count": null,
      "outputs": [
        {
          "output_type": "execute_result",
          "data": {
            "text/plain": [
              "b'guys omg  so happy they got to meet again  sayangku \\xf0\\x9f\\x98\\xad\\xf0\\x9f\\x98\\xad\\xf0\\x9f\\x98\\xad\\xf0\\x9f\\x98\\xadwetheboyz sayangi hope their arms is the last thing i see before i sleep and then i will be dreaming about sanghak arms toogoing crazy  one chance please give me one chance \\xf0\\x9f\\xa4\\xad\\xf0\\x9f\\x98\\x84\\xf0\\x9f\\xa4\\xa3\\xf0\\x9f\\x98\\x81\\xf0\\x9f\\xa5\\xb9\\xf0\\x9f\\x98\\x86guys i love haknyeon so muchsanghaakkkkkkkkkkkkk armsssssssssss\\xf0\\x9f\\x98\\x84\\xf0\\x9f\\x98\\x84\\xf0\\x9f\\x98\\x84\\xf0\\x9f\\x98\\x84\\xf0\\x9f\\x98\\x84\\xf0\\x9f\\x98\\x84\\xf0\\x9f\\x98\\x84  ilywetheboyz omgwetheboyz juyeonliterally what the fucklord  shut up  hak ily\\xf0\\x9f\\x98\\x84\\xf0\\x9f\\x98\\x84  i love youwetheboyz omgoh my bbangnyuman\\xe2\\x80\\xa6   am i suppose to move on what   baby  i love you so muchcravitystarship thank you youngtae \\xf0\\x9f\\xab\\xb6\\xf0\\x9f\\xab\\xb6\\xf0\\x9f\\xab\\xb6hey god its me again  my loveswetheboyz thank youwetheboyz oh my godbbangnyuanother win for me today as a fengfan and juyeon enthusiast  way   my god  my god  \\xf0\\x9f\\xab\\xb6\\xf0\\x9f\\xab\\xb6\\xf0\\x9f\\xab\\xb6\\xf0\\x9f\\xab\\xb6\\xf0\\x9f\\xab\\xb6\\xf0\\x9f\\xab\\xb6  i love him so much   yay so proud of everyone today \\xf0\\x9f\\xab\\xb6\\xf0\\x9f\\xab\\xb6couldn\\xe2\\x80\\x99t watch dream concert earlier when it was streaming but i just watch cix performance and they served once again \\xf0\\x9f\\xab\\xb6\\xf0\\x9f\\xab\\xb6seungyounification of juyeon \\xf0\\x9f\\xab\\xb6\\xf0\\x9f\\xab\\xb6  i dont miss when cix is on the red carpet im not home and my data is \\xf0\\x9f\\xa5\\xb9i really hope hes doing well   boyz served once againsweet \\xf0\\x9f\\xab\\xb6\\xf0\\x9f\\xab\\xb6\\xf0\\x9f\\xab\\xb6\\xf0\\x9f\\xab\\xb6\\xf0\\x9f\\xab\\xb6bloom bloom 20 \\xf0\\x9f\\xab\\xb6\\xf0\\x9f\\xab\\xb6\\xf0\\x9f\\xab\\xb6\\xf0\\x9f\\xab\\xb6ist i need you to announce literally right now if the boyz is coming to sg so i can find money and plan my timelomlllllll  lomlhappy seeun day lt3  cannot do this today\\xe2\\x80\\xa6  have hope for the boyz coming to sg plsplsplsplsplsplsnct 127 in sg\\xe2\\x80\\xa6 so tempted to buy the tickets \\xf0\\x9f\\x98\\xad\\xf0\\x9f\\x98\\xadlove   well soon jacob good morning to me  omg   for juyeon kevin and changmin fast recovery no way omgwhat\\xe2\\x80\\xa6because like wtf   morning to me what the fuck did i just wake up towetheboyz qtqueen  congrats loves so proud of everyoneso proud of them they deserve it so much lt3  omg hi \\xf0\\x9f\\xab\\xb6\\xf0\\x9f\\xab\\xb6\\xf0\\x9f\\xab\\xb6my love   omgwetheboyz goodnight kev lt3spent an hour watching bbangnyu vlive i think life is at its peakvityprnt happy birthday cor doh my  i love youwetheboyz youmy bbangnyuwhat the fuckshut up  morning to me  yay sunwoowetheboyz ilyisttheboyz thank you hyunjaeoh my god world stop  omgisttheboyz whati love him  my hak  yay hakwetheboyz my loveforever 11 lt3okay but no bloom bloom \\xf0\\x9f\\xa5\\xb9\\xf0\\x9f\\xa5\\xb9i would have fucking collapsed what  proud of thembet on youddd my belovedtheyre the cutest fr actually gonna cry  bloom bloom\\xe2\\x80\\xa6 no bloom bloomthis   \\xf0\\x9f\\xa5\\xb9\\xf0\\x9f\\xa5\\xb9\\xf0\\x9f\\xa5\\xb9\\xf0\\x9f\\xa5\\xb9\\xf0\\x9f\\x98\\x81also the birthday surprise for jacob thats so cutei keep on saying that i will log off for my mental health but the thought of missing out when they are in the red o\\xe2\\x80\\xa6  have survived this irl  red outfits are so prettywhat  my chanhee  cannot i cannot i cannot  checkmate omgi need to see haklord  juyeon\\xf0\\x9f\\xa5\\xb9  off \\xf0\\x9f\\x98\\xad\\xf0\\x9f\\x98\\xad\\xf0\\x9f\\x98\\xad\\xf0\\x9f\\x98\\xad\\xf0\\x9f\\x98\\xad\\xf0\\x9f\\x98\\xad\\xf0\\x9f\\x98\\xad\\xf0\\x9f\\x98\\xadmay we get a lot of haknyeon pics today or i will screamone day one day they will come to singapore  jacob day \\xe2\\x9d\\xa4\\xef\\xb8\\x8f\\n\\n\\xeb\\x94\\xb0\\xec\\x8a\\xa4\\xed\\x95\\xa8\\xec\\x9c\\xbc\\xeb\\xa1\\x9c\\xeb\\xac\\xbc\\xeb\\x93\\xa0\\xec\\xa0\\x9c\\xec\\x9d\\xb4\\xec\\xbd\\xa5\\xec\\x9d\\x98\\xec\\x8a\\xa4\\xeb\\xac\\xbc\\xec\\x97\\xac\\xec\\x84\\xaf\\nourangeljacobdayhappy jacob day lt3  going to sleep through the whole theb zone concert tmr definitely not because i cannot go to oneokay younghoon has an undercut and i only know about it nowkev hyunjae younghoon \\xf0\\x9f\\xa5\\xb9\\xf0\\x9f\\xa5\\xb9\\xf0\\x9f\\xa5\\xb9not now please why is always when im outside\\xf0\\x9f\\x98\\xad\\xf0\\x9f\\x98\\xad\\xf0\\x9f\\x98\\xad\\xf0\\x9f\\x98\\xad  my god prettiest hak  hak my favourite hakcherry hak wdym wdym wdymmy loves  the prettiest  mf late to the pink chanhee but omg pink chanheewetheboyz i love you so so much \\xf0\\x9f\\xab\\xb6\\xf0\\x9f\\xab\\xb6\\xf0\\x9f\\xab\\xb6jichang  ily'"
            ]
          },
          "metadata": {},
          "execution_count": 99
        }
      ]
    },
    {
      "cell_type": "code",
      "source": [
        "type(text)"
      ],
      "metadata": {
        "colab": {
          "base_uri": "https://localhost:8080/"
        },
        "id": "dldUUshwXzjc",
        "outputId": "1d16e257-a8ca-4647-cc2e-7e2cefc4b96d"
      },
      "execution_count": null,
      "outputs": [
        {
          "output_type": "execute_result",
          "data": {
            "text/plain": [
              "pandas.core.series.Series"
            ]
          },
          "metadata": {},
          "execution_count": 100
        }
      ]
    },
    {
      "cell_type": "code",
      "source": [
        "test = [[text]]"
      ],
      "metadata": {
        "id": "ajxyR6ksX7E5"
      },
      "execution_count": null,
      "outputs": []
    },
    {
      "cell_type": "code",
      "source": [
        "text"
      ],
      "metadata": {
        "colab": {
          "base_uri": "https://localhost:8080/"
        },
        "id": "sfe8Yd6mX-5P",
        "outputId": "6692be06-cc55-4037-f99f-c3f432be815b"
      },
      "execution_count": null,
      "outputs": [
        {
          "output_type": "execute_result",
          "data": {
            "text/plain": [
              "0       pericles216 hierbeforetheac sachinettiyil the ...\n",
              "1       hispanthicckk being you makes you look cutethi...\n",
              "2       alshymi les balles sont réelles et sont tirées...\n",
              "3       im like entp but idiotichey boy do you want to...\n",
              "4       kaeshurr1 give it to zargarshanif  he has pica...\n",
              "                              ...                        \n",
              "7806    sobsjjun godpls take care 😕sobsjjun hiro emerg...\n",
              "7807    ignis02 wow last time i got intp    i think u ...\n",
              "7808    akupilled a 100akupilled that someone will get...\n",
              "7809    if you’re intj this one is for you  what is ne...\n",
              "7810    harrylambert gucci hey can you dm me a pic of ...\n",
              "Name: text, Length: 7811, dtype: object"
            ]
          },
          "metadata": {},
          "execution_count": 102
        }
      ]
    },
    {
      "cell_type": "code",
      "source": [
        "text = pd.DataFrame(text)\n",
        "text"
      ],
      "metadata": {
        "colab": {
          "base_uri": "https://localhost:8080/",
          "height": 423
        },
        "id": "W9mK4W_yX_hj",
        "outputId": "685b107a-bc1c-4412-b34e-1dfbdbabd704"
      },
      "execution_count": null,
      "outputs": [
        {
          "output_type": "execute_result",
          "data": {
            "text/plain": [
              "                                                   text\n",
              "0     pericles216 hierbeforetheac sachinettiyil the ...\n",
              "1     hispanthicckk being you makes you look cutethi...\n",
              "2     alshymi les balles sont réelles et sont tirées...\n",
              "3     im like entp but idiotichey boy do you want to...\n",
              "4     kaeshurr1 give it to zargarshanif  he has pica...\n",
              "...                                                 ...\n",
              "7806  sobsjjun godpls take care 😕sobsjjun hiro emerg...\n",
              "7807  ignis02 wow last time i got intp    i think u ...\n",
              "7808  akupilled a 100akupilled that someone will get...\n",
              "7809  if you’re intj this one is for you  what is ne...\n",
              "7810  harrylambert gucci hey can you dm me a pic of ...\n",
              "\n",
              "[7811 rows x 1 columns]"
            ],
            "text/html": [
              "\n",
              "  <div id=\"df-d5df8c7a-d8c3-4508-afcd-1ce43dd09978\">\n",
              "    <div class=\"colab-df-container\">\n",
              "      <div>\n",
              "<style scoped>\n",
              "    .dataframe tbody tr th:only-of-type {\n",
              "        vertical-align: middle;\n",
              "    }\n",
              "\n",
              "    .dataframe tbody tr th {\n",
              "        vertical-align: top;\n",
              "    }\n",
              "\n",
              "    .dataframe thead th {\n",
              "        text-align: right;\n",
              "    }\n",
              "</style>\n",
              "<table border=\"1\" class=\"dataframe\">\n",
              "  <thead>\n",
              "    <tr style=\"text-align: right;\">\n",
              "      <th></th>\n",
              "      <th>text</th>\n",
              "    </tr>\n",
              "  </thead>\n",
              "  <tbody>\n",
              "    <tr>\n",
              "      <th>0</th>\n",
              "      <td>pericles216 hierbeforetheac sachinettiyil the ...</td>\n",
              "    </tr>\n",
              "    <tr>\n",
              "      <th>1</th>\n",
              "      <td>hispanthicckk being you makes you look cutethi...</td>\n",
              "    </tr>\n",
              "    <tr>\n",
              "      <th>2</th>\n",
              "      <td>alshymi les balles sont réelles et sont tirées...</td>\n",
              "    </tr>\n",
              "    <tr>\n",
              "      <th>3</th>\n",
              "      <td>im like entp but idiotichey boy do you want to...</td>\n",
              "    </tr>\n",
              "    <tr>\n",
              "      <th>4</th>\n",
              "      <td>kaeshurr1 give it to zargarshanif  he has pica...</td>\n",
              "    </tr>\n",
              "    <tr>\n",
              "      <th>...</th>\n",
              "      <td>...</td>\n",
              "    </tr>\n",
              "    <tr>\n",
              "      <th>7806</th>\n",
              "      <td>sobsjjun godpls take care 😕sobsjjun hiro emerg...</td>\n",
              "    </tr>\n",
              "    <tr>\n",
              "      <th>7807</th>\n",
              "      <td>ignis02 wow last time i got intp    i think u ...</td>\n",
              "    </tr>\n",
              "    <tr>\n",
              "      <th>7808</th>\n",
              "      <td>akupilled a 100akupilled that someone will get...</td>\n",
              "    </tr>\n",
              "    <tr>\n",
              "      <th>7809</th>\n",
              "      <td>if you’re intj this one is for you  what is ne...</td>\n",
              "    </tr>\n",
              "    <tr>\n",
              "      <th>7810</th>\n",
              "      <td>harrylambert gucci hey can you dm me a pic of ...</td>\n",
              "    </tr>\n",
              "  </tbody>\n",
              "</table>\n",
              "<p>7811 rows × 1 columns</p>\n",
              "</div>\n",
              "      <button class=\"colab-df-convert\" onclick=\"convertToInteractive('df-d5df8c7a-d8c3-4508-afcd-1ce43dd09978')\"\n",
              "              title=\"Convert this dataframe to an interactive table.\"\n",
              "              style=\"display:none;\">\n",
              "        \n",
              "  <svg xmlns=\"http://www.w3.org/2000/svg\" height=\"24px\"viewBox=\"0 0 24 24\"\n",
              "       width=\"24px\">\n",
              "    <path d=\"M0 0h24v24H0V0z\" fill=\"none\"/>\n",
              "    <path d=\"M18.56 5.44l.94 2.06.94-2.06 2.06-.94-2.06-.94-.94-2.06-.94 2.06-2.06.94zm-11 1L8.5 8.5l.94-2.06 2.06-.94-2.06-.94L8.5 2.5l-.94 2.06-2.06.94zm10 10l.94 2.06.94-2.06 2.06-.94-2.06-.94-.94-2.06-.94 2.06-2.06.94z\"/><path d=\"M17.41 7.96l-1.37-1.37c-.4-.4-.92-.59-1.43-.59-.52 0-1.04.2-1.43.59L10.3 9.45l-7.72 7.72c-.78.78-.78 2.05 0 2.83L4 21.41c.39.39.9.59 1.41.59.51 0 1.02-.2 1.41-.59l7.78-7.78 2.81-2.81c.8-.78.8-2.07 0-2.86zM5.41 20L4 18.59l7.72-7.72 1.47 1.35L5.41 20z\"/>\n",
              "  </svg>\n",
              "      </button>\n",
              "      \n",
              "  <style>\n",
              "    .colab-df-container {\n",
              "      display:flex;\n",
              "      flex-wrap:wrap;\n",
              "      gap: 12px;\n",
              "    }\n",
              "\n",
              "    .colab-df-convert {\n",
              "      background-color: #E8F0FE;\n",
              "      border: none;\n",
              "      border-radius: 50%;\n",
              "      cursor: pointer;\n",
              "      display: none;\n",
              "      fill: #1967D2;\n",
              "      height: 32px;\n",
              "      padding: 0 0 0 0;\n",
              "      width: 32px;\n",
              "    }\n",
              "\n",
              "    .colab-df-convert:hover {\n",
              "      background-color: #E2EBFA;\n",
              "      box-shadow: 0px 1px 2px rgba(60, 64, 67, 0.3), 0px 1px 3px 1px rgba(60, 64, 67, 0.15);\n",
              "      fill: #174EA6;\n",
              "    }\n",
              "\n",
              "    [theme=dark] .colab-df-convert {\n",
              "      background-color: #3B4455;\n",
              "      fill: #D2E3FC;\n",
              "    }\n",
              "\n",
              "    [theme=dark] .colab-df-convert:hover {\n",
              "      background-color: #434B5C;\n",
              "      box-shadow: 0px 1px 3px 1px rgba(0, 0, 0, 0.15);\n",
              "      filter: drop-shadow(0px 1px 2px rgba(0, 0, 0, 0.3));\n",
              "      fill: #FFFFFF;\n",
              "    }\n",
              "  </style>\n",
              "\n",
              "      <script>\n",
              "        const buttonEl =\n",
              "          document.querySelector('#df-d5df8c7a-d8c3-4508-afcd-1ce43dd09978 button.colab-df-convert');\n",
              "        buttonEl.style.display =\n",
              "          google.colab.kernel.accessAllowed ? 'block' : 'none';\n",
              "\n",
              "        async function convertToInteractive(key) {\n",
              "          const element = document.querySelector('#df-d5df8c7a-d8c3-4508-afcd-1ce43dd09978');\n",
              "          const dataTable =\n",
              "            await google.colab.kernel.invokeFunction('convertToInteractive',\n",
              "                                                     [key], {});\n",
              "          if (!dataTable) return;\n",
              "\n",
              "          const docLinkHtml = 'Like what you see? Visit the ' +\n",
              "            '<a target=\"_blank\" href=https://colab.research.google.com/notebooks/data_table.ipynb>data table notebook</a>'\n",
              "            + ' to learn more about interactive tables.';\n",
              "          element.innerHTML = '';\n",
              "          dataTable['output_type'] = 'display_data';\n",
              "          await google.colab.output.renderOutput(dataTable, element);\n",
              "          const docLink = document.createElement('div');\n",
              "          docLink.innerHTML = docLinkHtml;\n",
              "          element.appendChild(docLink);\n",
              "        }\n",
              "      </script>\n",
              "    </div>\n",
              "  </div>\n",
              "  "
            ]
          },
          "metadata": {},
          "execution_count": 103
        }
      ]
    },
    {
      "cell_type": "code",
      "source": [
        "type(text)"
      ],
      "metadata": {
        "colab": {
          "base_uri": "https://localhost:8080/"
        },
        "id": "__cKo0SRYFN3",
        "outputId": "ead7ffd2-a22a-494c-8ee2-464b8eb970ec"
      },
      "execution_count": null,
      "outputs": [
        {
          "output_type": "execute_result",
          "data": {
            "text/plain": [
              "pandas.core.frame.DataFrame"
            ]
          },
          "metadata": {},
          "execution_count": 104
        }
      ]
    },
    {
      "cell_type": "code",
      "source": [
        "import emoji\n",
        "text = text.astype(str).apply(lambda x: x.str.encode('ascii', 'ignore').str.decode('latin-1'))"
      ],
      "metadata": {
        "id": "_kYUEhEBYJDh"
      },
      "execution_count": null,
      "outputs": []
    },
    {
      "cell_type": "code",
      "source": [
        "text.shape"
      ],
      "metadata": {
        "colab": {
          "base_uri": "https://localhost:8080/"
        },
        "id": "P0bZp-egZU76",
        "outputId": "c7db0725-170a-42e8-b485-eebaf1ae4c09"
      },
      "execution_count": null,
      "outputs": [
        {
          "output_type": "execute_result",
          "data": {
            "text/plain": [
              "(7811, 1)"
            ]
          },
          "metadata": {},
          "execution_count": 106
        }
      ]
    },
    {
      "cell_type": "code",
      "source": [
        "text[7606:7607]"
      ],
      "metadata": {
        "colab": {
          "base_uri": "https://localhost:8080/",
          "height": 80
        },
        "id": "WLxJq9hNZYBE",
        "outputId": "0ec54b04-367c-4ba3-f128-ec389bb4ca05"
      },
      "execution_count": null,
      "outputs": [
        {
          "output_type": "execute_result",
          "data": {
            "text/plain": [
              "                                                   text\n",
              "7606  guys omg  so happy they got to meet again  say..."
            ],
            "text/html": [
              "\n",
              "  <div id=\"df-5d5e5ccc-8748-482f-970a-2d8f497b0e74\">\n",
              "    <div class=\"colab-df-container\">\n",
              "      <div>\n",
              "<style scoped>\n",
              "    .dataframe tbody tr th:only-of-type {\n",
              "        vertical-align: middle;\n",
              "    }\n",
              "\n",
              "    .dataframe tbody tr th {\n",
              "        vertical-align: top;\n",
              "    }\n",
              "\n",
              "    .dataframe thead th {\n",
              "        text-align: right;\n",
              "    }\n",
              "</style>\n",
              "<table border=\"1\" class=\"dataframe\">\n",
              "  <thead>\n",
              "    <tr style=\"text-align: right;\">\n",
              "      <th></th>\n",
              "      <th>text</th>\n",
              "    </tr>\n",
              "  </thead>\n",
              "  <tbody>\n",
              "    <tr>\n",
              "      <th>7606</th>\n",
              "      <td>guys omg  so happy they got to meet again  say...</td>\n",
              "    </tr>\n",
              "  </tbody>\n",
              "</table>\n",
              "</div>\n",
              "      <button class=\"colab-df-convert\" onclick=\"convertToInteractive('df-5d5e5ccc-8748-482f-970a-2d8f497b0e74')\"\n",
              "              title=\"Convert this dataframe to an interactive table.\"\n",
              "              style=\"display:none;\">\n",
              "        \n",
              "  <svg xmlns=\"http://www.w3.org/2000/svg\" height=\"24px\"viewBox=\"0 0 24 24\"\n",
              "       width=\"24px\">\n",
              "    <path d=\"M0 0h24v24H0V0z\" fill=\"none\"/>\n",
              "    <path d=\"M18.56 5.44l.94 2.06.94-2.06 2.06-.94-2.06-.94-.94-2.06-.94 2.06-2.06.94zm-11 1L8.5 8.5l.94-2.06 2.06-.94-2.06-.94L8.5 2.5l-.94 2.06-2.06.94zm10 10l.94 2.06.94-2.06 2.06-.94-2.06-.94-.94-2.06-.94 2.06-2.06.94z\"/><path d=\"M17.41 7.96l-1.37-1.37c-.4-.4-.92-.59-1.43-.59-.52 0-1.04.2-1.43.59L10.3 9.45l-7.72 7.72c-.78.78-.78 2.05 0 2.83L4 21.41c.39.39.9.59 1.41.59.51 0 1.02-.2 1.41-.59l7.78-7.78 2.81-2.81c.8-.78.8-2.07 0-2.86zM5.41 20L4 18.59l7.72-7.72 1.47 1.35L5.41 20z\"/>\n",
              "  </svg>\n",
              "      </button>\n",
              "      \n",
              "  <style>\n",
              "    .colab-df-container {\n",
              "      display:flex;\n",
              "      flex-wrap:wrap;\n",
              "      gap: 12px;\n",
              "    }\n",
              "\n",
              "    .colab-df-convert {\n",
              "      background-color: #E8F0FE;\n",
              "      border: none;\n",
              "      border-radius: 50%;\n",
              "      cursor: pointer;\n",
              "      display: none;\n",
              "      fill: #1967D2;\n",
              "      height: 32px;\n",
              "      padding: 0 0 0 0;\n",
              "      width: 32px;\n",
              "    }\n",
              "\n",
              "    .colab-df-convert:hover {\n",
              "      background-color: #E2EBFA;\n",
              "      box-shadow: 0px 1px 2px rgba(60, 64, 67, 0.3), 0px 1px 3px 1px rgba(60, 64, 67, 0.15);\n",
              "      fill: #174EA6;\n",
              "    }\n",
              "\n",
              "    [theme=dark] .colab-df-convert {\n",
              "      background-color: #3B4455;\n",
              "      fill: #D2E3FC;\n",
              "    }\n",
              "\n",
              "    [theme=dark] .colab-df-convert:hover {\n",
              "      background-color: #434B5C;\n",
              "      box-shadow: 0px 1px 3px 1px rgba(0, 0, 0, 0.15);\n",
              "      filter: drop-shadow(0px 1px 2px rgba(0, 0, 0, 0.3));\n",
              "      fill: #FFFFFF;\n",
              "    }\n",
              "  </style>\n",
              "\n",
              "      <script>\n",
              "        const buttonEl =\n",
              "          document.querySelector('#df-5d5e5ccc-8748-482f-970a-2d8f497b0e74 button.colab-df-convert');\n",
              "        buttonEl.style.display =\n",
              "          google.colab.kernel.accessAllowed ? 'block' : 'none';\n",
              "\n",
              "        async function convertToInteractive(key) {\n",
              "          const element = document.querySelector('#df-5d5e5ccc-8748-482f-970a-2d8f497b0e74');\n",
              "          const dataTable =\n",
              "            await google.colab.kernel.invokeFunction('convertToInteractive',\n",
              "                                                     [key], {});\n",
              "          if (!dataTable) return;\n",
              "\n",
              "          const docLinkHtml = 'Like what you see? Visit the ' +\n",
              "            '<a target=\"_blank\" href=https://colab.research.google.com/notebooks/data_table.ipynb>data table notebook</a>'\n",
              "            + ' to learn more about interactive tables.';\n",
              "          element.innerHTML = '';\n",
              "          dataTable['output_type'] = 'display_data';\n",
              "          await google.colab.output.renderOutput(dataTable, element);\n",
              "          const docLink = document.createElement('div');\n",
              "          docLink.innerHTML = docLinkHtml;\n",
              "          element.appendChild(docLink);\n",
              "        }\n",
              "      </script>\n",
              "    </div>\n",
              "  </div>\n",
              "  "
            ]
          },
          "metadata": {},
          "execution_count": 107
        }
      ]
    },
    {
      "cell_type": "code",
      "source": [
        "text = text['text']"
      ],
      "metadata": {
        "id": "qCwHG93WZdoT"
      },
      "execution_count": null,
      "outputs": []
    },
    {
      "cell_type": "code",
      "source": [
        "text.shape"
      ],
      "metadata": {
        "colab": {
          "base_uri": "https://localhost:8080/"
        },
        "id": "1cQVMLG_Zh6c",
        "outputId": "bcb46dc2-6348-47f0-c774-0a2779fd70fd"
      },
      "execution_count": null,
      "outputs": [
        {
          "output_type": "execute_result",
          "data": {
            "text/plain": [
              "(7811,)"
            ]
          },
          "metadata": {},
          "execution_count": 109
        }
      ]
    },
    {
      "cell_type": "code",
      "source": [
        "type(text)"
      ],
      "metadata": {
        "colab": {
          "base_uri": "https://localhost:8080/"
        },
        "id": "UxIH75vBZjL7",
        "outputId": "92e2beb4-35f9-46e0-a1c8-d537967c2aa7"
      },
      "execution_count": null,
      "outputs": [
        {
          "output_type": "execute_result",
          "data": {
            "text/plain": [
              "pandas.core.series.Series"
            ]
          },
          "metadata": {},
          "execution_count": 110
        }
      ]
    },
    {
      "cell_type": "code",
      "source": [
        "text"
      ],
      "metadata": {
        "colab": {
          "base_uri": "https://localhost:8080/"
        },
        "id": "IDDP3zneZlRN",
        "outputId": "a6df9a78-15a2-4b98-a487-0c4ead08676b"
      },
      "execution_count": null,
      "outputs": [
        {
          "output_type": "execute_result",
          "data": {
            "text/plain": [
              "0       pericles216 hierbeforetheac sachinettiyil the ...\n",
              "1       hispanthicckk being you makes you look cutethi...\n",
              "2       alshymi les balles sont relles et sont tires t...\n",
              "3       im like entp but idiotichey boy do you want to...\n",
              "4       kaeshurr1 give it to zargarshanif  he has pica...\n",
              "                              ...                        \n",
              "7806    sobsjjun godpls take care sobsjjun hiro emerge...\n",
              "7807    ignis02 wow last time i got intp    i think u ...\n",
              "7808    akupilled a 100akupilled that someone will get...\n",
              "7809    if youre intj this one is for you  what is nev...\n",
              "7810    harrylambert gucci hey can you dm me a pic of ...\n",
              "Name: text, Length: 7811, dtype: object"
            ]
          },
          "metadata": {},
          "execution_count": 111
        }
      ]
    },
    {
      "cell_type": "code",
      "source": [
        "df['text']"
      ],
      "metadata": {
        "colab": {
          "base_uri": "https://localhost:8080/"
        },
        "id": "ahJto--1ZmvY",
        "outputId": "89bb8404-713f-4e84-b611-87261f7f599c"
      },
      "execution_count": null,
      "outputs": [
        {
          "output_type": "execute_result",
          "data": {
            "text/plain": [
              "0       @Pericles216 @HierBeforeTheAC @Sachinettiyil T...\n",
              "1       @Hispanthicckk Being you makes you look cute||...\n",
              "2       @Alshymi Les balles sont réelles et sont tirée...\n",
              "3       I'm like entp but idiotic|||Hey boy, do you wa...\n",
              "4       @kaeshurr1 Give it to @ZargarShanif ... He has...\n",
              "                              ...                        \n",
              "7806    @sobsjjun God,,pls take care 😕|||@sobsjjun Hir...\n",
              "7807    @Ignis_02 wow last time i got intp https://t.c...\n",
              "7808    @akupilled A 100%|||@akupilled That SOMEONE wi...\n",
              "7809    If you’re #INTJ this one is for you | What is ...\n",
              "7810    @harry__lambert @gucci hey can you dm me a pic...\n",
              "Name: text, Length: 7811, dtype: object"
            ]
          },
          "metadata": {},
          "execution_count": 112
        }
      ]
    },
    {
      "cell_type": "markdown",
      "source": [
        "## Tokenization"
      ],
      "metadata": {
        "id": "yAUSgnMHZsST"
      }
    },
    {
      "cell_type": "code",
      "source": [
        "from nltk.tokenize import word_tokenize,sent_tokenize"
      ],
      "metadata": {
        "id": "0xWymCanZqhp"
      },
      "execution_count": null,
      "outputs": []
    },
    {
      "cell_type": "code",
      "source": [
        "text = pd.DataFrame(text)\n",
        "text"
      ],
      "metadata": {
        "colab": {
          "base_uri": "https://localhost:8080/",
          "height": 423
        },
        "id": "nzowGl4tZ2se",
        "outputId": "86e49db3-a2e8-4442-c12d-4ba2234b1ed6"
      },
      "execution_count": null,
      "outputs": [
        {
          "output_type": "execute_result",
          "data": {
            "text/plain": [
              "                                                   text\n",
              "0     pericles216 hierbeforetheac sachinettiyil the ...\n",
              "1     hispanthicckk being you makes you look cutethi...\n",
              "2     alshymi les balles sont relles et sont tires t...\n",
              "3     im like entp but idiotichey boy do you want to...\n",
              "4     kaeshurr1 give it to zargarshanif  he has pica...\n",
              "...                                                 ...\n",
              "7806  sobsjjun godpls take care sobsjjun hiro emerge...\n",
              "7807  ignis02 wow last time i got intp    i think u ...\n",
              "7808  akupilled a 100akupilled that someone will get...\n",
              "7809  if youre intj this one is for you  what is nev...\n",
              "7810  harrylambert gucci hey can you dm me a pic of ...\n",
              "\n",
              "[7811 rows x 1 columns]"
            ],
            "text/html": [
              "\n",
              "  <div id=\"df-dcc10223-eada-4569-b6dd-546141057f41\">\n",
              "    <div class=\"colab-df-container\">\n",
              "      <div>\n",
              "<style scoped>\n",
              "    .dataframe tbody tr th:only-of-type {\n",
              "        vertical-align: middle;\n",
              "    }\n",
              "\n",
              "    .dataframe tbody tr th {\n",
              "        vertical-align: top;\n",
              "    }\n",
              "\n",
              "    .dataframe thead th {\n",
              "        text-align: right;\n",
              "    }\n",
              "</style>\n",
              "<table border=\"1\" class=\"dataframe\">\n",
              "  <thead>\n",
              "    <tr style=\"text-align: right;\">\n",
              "      <th></th>\n",
              "      <th>text</th>\n",
              "    </tr>\n",
              "  </thead>\n",
              "  <tbody>\n",
              "    <tr>\n",
              "      <th>0</th>\n",
              "      <td>pericles216 hierbeforetheac sachinettiyil the ...</td>\n",
              "    </tr>\n",
              "    <tr>\n",
              "      <th>1</th>\n",
              "      <td>hispanthicckk being you makes you look cutethi...</td>\n",
              "    </tr>\n",
              "    <tr>\n",
              "      <th>2</th>\n",
              "      <td>alshymi les balles sont relles et sont tires t...</td>\n",
              "    </tr>\n",
              "    <tr>\n",
              "      <th>3</th>\n",
              "      <td>im like entp but idiotichey boy do you want to...</td>\n",
              "    </tr>\n",
              "    <tr>\n",
              "      <th>4</th>\n",
              "      <td>kaeshurr1 give it to zargarshanif  he has pica...</td>\n",
              "    </tr>\n",
              "    <tr>\n",
              "      <th>...</th>\n",
              "      <td>...</td>\n",
              "    </tr>\n",
              "    <tr>\n",
              "      <th>7806</th>\n",
              "      <td>sobsjjun godpls take care sobsjjun hiro emerge...</td>\n",
              "    </tr>\n",
              "    <tr>\n",
              "      <th>7807</th>\n",
              "      <td>ignis02 wow last time i got intp    i think u ...</td>\n",
              "    </tr>\n",
              "    <tr>\n",
              "      <th>7808</th>\n",
              "      <td>akupilled a 100akupilled that someone will get...</td>\n",
              "    </tr>\n",
              "    <tr>\n",
              "      <th>7809</th>\n",
              "      <td>if youre intj this one is for you  what is nev...</td>\n",
              "    </tr>\n",
              "    <tr>\n",
              "      <th>7810</th>\n",
              "      <td>harrylambert gucci hey can you dm me a pic of ...</td>\n",
              "    </tr>\n",
              "  </tbody>\n",
              "</table>\n",
              "<p>7811 rows × 1 columns</p>\n",
              "</div>\n",
              "      <button class=\"colab-df-convert\" onclick=\"convertToInteractive('df-dcc10223-eada-4569-b6dd-546141057f41')\"\n",
              "              title=\"Convert this dataframe to an interactive table.\"\n",
              "              style=\"display:none;\">\n",
              "        \n",
              "  <svg xmlns=\"http://www.w3.org/2000/svg\" height=\"24px\"viewBox=\"0 0 24 24\"\n",
              "       width=\"24px\">\n",
              "    <path d=\"M0 0h24v24H0V0z\" fill=\"none\"/>\n",
              "    <path d=\"M18.56 5.44l.94 2.06.94-2.06 2.06-.94-2.06-.94-.94-2.06-.94 2.06-2.06.94zm-11 1L8.5 8.5l.94-2.06 2.06-.94-2.06-.94L8.5 2.5l-.94 2.06-2.06.94zm10 10l.94 2.06.94-2.06 2.06-.94-2.06-.94-.94-2.06-.94 2.06-2.06.94z\"/><path d=\"M17.41 7.96l-1.37-1.37c-.4-.4-.92-.59-1.43-.59-.52 0-1.04.2-1.43.59L10.3 9.45l-7.72 7.72c-.78.78-.78 2.05 0 2.83L4 21.41c.39.39.9.59 1.41.59.51 0 1.02-.2 1.41-.59l7.78-7.78 2.81-2.81c.8-.78.8-2.07 0-2.86zM5.41 20L4 18.59l7.72-7.72 1.47 1.35L5.41 20z\"/>\n",
              "  </svg>\n",
              "      </button>\n",
              "      \n",
              "  <style>\n",
              "    .colab-df-container {\n",
              "      display:flex;\n",
              "      flex-wrap:wrap;\n",
              "      gap: 12px;\n",
              "    }\n",
              "\n",
              "    .colab-df-convert {\n",
              "      background-color: #E8F0FE;\n",
              "      border: none;\n",
              "      border-radius: 50%;\n",
              "      cursor: pointer;\n",
              "      display: none;\n",
              "      fill: #1967D2;\n",
              "      height: 32px;\n",
              "      padding: 0 0 0 0;\n",
              "      width: 32px;\n",
              "    }\n",
              "\n",
              "    .colab-df-convert:hover {\n",
              "      background-color: #E2EBFA;\n",
              "      box-shadow: 0px 1px 2px rgba(60, 64, 67, 0.3), 0px 1px 3px 1px rgba(60, 64, 67, 0.15);\n",
              "      fill: #174EA6;\n",
              "    }\n",
              "\n",
              "    [theme=dark] .colab-df-convert {\n",
              "      background-color: #3B4455;\n",
              "      fill: #D2E3FC;\n",
              "    }\n",
              "\n",
              "    [theme=dark] .colab-df-convert:hover {\n",
              "      background-color: #434B5C;\n",
              "      box-shadow: 0px 1px 3px 1px rgba(0, 0, 0, 0.15);\n",
              "      filter: drop-shadow(0px 1px 2px rgba(0, 0, 0, 0.3));\n",
              "      fill: #FFFFFF;\n",
              "    }\n",
              "  </style>\n",
              "\n",
              "      <script>\n",
              "        const buttonEl =\n",
              "          document.querySelector('#df-dcc10223-eada-4569-b6dd-546141057f41 button.colab-df-convert');\n",
              "        buttonEl.style.display =\n",
              "          google.colab.kernel.accessAllowed ? 'block' : 'none';\n",
              "\n",
              "        async function convertToInteractive(key) {\n",
              "          const element = document.querySelector('#df-dcc10223-eada-4569-b6dd-546141057f41');\n",
              "          const dataTable =\n",
              "            await google.colab.kernel.invokeFunction('convertToInteractive',\n",
              "                                                     [key], {});\n",
              "          if (!dataTable) return;\n",
              "\n",
              "          const docLinkHtml = 'Like what you see? Visit the ' +\n",
              "            '<a target=\"_blank\" href=https://colab.research.google.com/notebooks/data_table.ipynb>data table notebook</a>'\n",
              "            + ' to learn more about interactive tables.';\n",
              "          element.innerHTML = '';\n",
              "          dataTable['output_type'] = 'display_data';\n",
              "          await google.colab.output.renderOutput(dataTable, element);\n",
              "          const docLink = document.createElement('div');\n",
              "          docLink.innerHTML = docLinkHtml;\n",
              "          element.appendChild(docLink);\n",
              "        }\n",
              "      </script>\n",
              "    </div>\n",
              "  </div>\n",
              "  "
            ]
          },
          "metadata": {},
          "execution_count": 114
        }
      ]
    },
    {
      "cell_type": "code",
      "source": [
        "text['text']"
      ],
      "metadata": {
        "colab": {
          "base_uri": "https://localhost:8080/"
        },
        "id": "wQxa3demZ9iw",
        "outputId": "d9909a0d-8628-4a47-b04f-c1ea9d5e11a7"
      },
      "execution_count": null,
      "outputs": [
        {
          "output_type": "execute_result",
          "data": {
            "text/plain": [
              "0       pericles216 hierbeforetheac sachinettiyil the ...\n",
              "1       hispanthicckk being you makes you look cutethi...\n",
              "2       alshymi les balles sont relles et sont tires t...\n",
              "3       im like entp but idiotichey boy do you want to...\n",
              "4       kaeshurr1 give it to zargarshanif  he has pica...\n",
              "                              ...                        \n",
              "7806    sobsjjun godpls take care sobsjjun hiro emerge...\n",
              "7807    ignis02 wow last time i got intp    i think u ...\n",
              "7808    akupilled a 100akupilled that someone will get...\n",
              "7809    if youre intj this one is for you  what is nev...\n",
              "7810    harrylambert gucci hey can you dm me a pic of ...\n",
              "Name: text, Length: 7811, dtype: object"
            ]
          },
          "metadata": {},
          "execution_count": 115
        }
      ]
    },
    {
      "cell_type": "code",
      "source": [
        "sent_tokenize"
      ],
      "metadata": {
        "colab": {
          "base_uri": "https://localhost:8080/"
        },
        "id": "sGjdtbV5aDEf",
        "outputId": "d2e39547-2731-4fa7-83b0-692db1b1cbc8"
      },
      "execution_count": null,
      "outputs": [
        {
          "output_type": "execute_result",
          "data": {
            "text/plain": [
              "<function nltk.tokenize.sent_tokenize(text, language='english')>"
            ]
          },
          "metadata": {},
          "execution_count": 116
        }
      ]
    },
    {
      "cell_type": "code",
      "source": [
        "text['text']"
      ],
      "metadata": {
        "colab": {
          "base_uri": "https://localhost:8080/"
        },
        "id": "ODVccU0FaGNB",
        "outputId": "f73ccade-1f28-4b4d-c243-ebc9e0e4aad3"
      },
      "execution_count": null,
      "outputs": [
        {
          "output_type": "execute_result",
          "data": {
            "text/plain": [
              "0       pericles216 hierbeforetheac sachinettiyil the ...\n",
              "1       hispanthicckk being you makes you look cutethi...\n",
              "2       alshymi les balles sont relles et sont tires t...\n",
              "3       im like entp but idiotichey boy do you want to...\n",
              "4       kaeshurr1 give it to zargarshanif  he has pica...\n",
              "                              ...                        \n",
              "7806    sobsjjun godpls take care sobsjjun hiro emerge...\n",
              "7807    ignis02 wow last time i got intp    i think u ...\n",
              "7808    akupilled a 100akupilled that someone will get...\n",
              "7809    if youre intj this one is for you  what is nev...\n",
              "7810    harrylambert gucci hey can you dm me a pic of ...\n",
              "Name: text, Length: 7811, dtype: object"
            ]
          },
          "metadata": {},
          "execution_count": 117
        }
      ]
    },
    {
      "cell_type": "code",
      "source": [
        "word_tokenize = text['text'].apply(word_tokenize)"
      ],
      "metadata": {
        "id": "XKuOxvylayjt"
      },
      "execution_count": null,
      "outputs": []
    },
    {
      "cell_type": "code",
      "source": [
        "word_tokenize"
      ],
      "metadata": {
        "colab": {
          "base_uri": "https://localhost:8080/"
        },
        "id": "lxZqEJi0bACP",
        "outputId": "2de5d4b0-2e07-40ce-d857-6306745de388"
      },
      "execution_count": null,
      "outputs": [
        {
          "output_type": "execute_result",
          "data": {
            "text/plain": [
              "0       [pericles216, hierbeforetheac, sachinettiyil, ...\n",
              "1       [hispanthicckk, being, you, makes, you, look, ...\n",
              "2       [alshymi, les, balles, sont, relles, et, sont,...\n",
              "3       [im, like, entp, but, idiotichey, boy, do, you...\n",
              "4       [kaeshurr1, give, it, to, zargarshanif, he, ha...\n",
              "                              ...                        \n",
              "7806    [sobsjjun, godpls, take, care, sobsjjun, hiro,...\n",
              "7807    [ignis02, wow, last, time, i, got, intp, i, th...\n",
              "7808    [akupilled, a, 100akupilled, that, someone, wi...\n",
              "7809    [if, youre, intj, this, one, is, for, you, wha...\n",
              "7810    [harrylambert, gucci, hey, can, you, dm, me, a...\n",
              "Name: text, Length: 7811, dtype: object"
            ]
          },
          "metadata": {},
          "execution_count": 119
        }
      ]
    },
    {
      "cell_type": "code",
      "source": [
        "text1 = pd.DataFrame(word_tokenize)\n",
        "text['text']"
      ],
      "metadata": {
        "colab": {
          "base_uri": "https://localhost:8080/"
        },
        "id": "IH9BeoVNbKUH",
        "outputId": "f7ba9054-be95-4b65-d076-26f5fa982db0"
      },
      "execution_count": null,
      "outputs": [
        {
          "output_type": "execute_result",
          "data": {
            "text/plain": [
              "0       pericles216 hierbeforetheac sachinettiyil the ...\n",
              "1       hispanthicckk being you makes you look cutethi...\n",
              "2       alshymi les balles sont relles et sont tires t...\n",
              "3       im like entp but idiotichey boy do you want to...\n",
              "4       kaeshurr1 give it to zargarshanif  he has pica...\n",
              "                              ...                        \n",
              "7806    sobsjjun godpls take care sobsjjun hiro emerge...\n",
              "7807    ignis02 wow last time i got intp    i think u ...\n",
              "7808    akupilled a 100akupilled that someone will get...\n",
              "7809    if youre intj this one is for you  what is nev...\n",
              "7810    harrylambert gucci hey can you dm me a pic of ...\n",
              "Name: text, Length: 7811, dtype: object"
            ]
          },
          "metadata": {},
          "execution_count": 120
        }
      ]
    },
    {
      "cell_type": "markdown",
      "source": [
        "## Stop Words"
      ],
      "metadata": {
        "id": "6iqn9OOkbZfE"
      }
    },
    {
      "cell_type": "code",
      "source": [
        "from nltk.corpus import stopwords"
      ],
      "metadata": {
        "id": "w9ggMbiObSE0"
      },
      "execution_count": null,
      "outputs": []
    },
    {
      "cell_type": "code",
      "source": [
        "stopwords.words('english')"
      ],
      "metadata": {
        "colab": {
          "base_uri": "https://localhost:8080/"
        },
        "id": "dwMcedvhbgRG",
        "outputId": "371880fc-30bb-4f81-9f87-af41fa405c32"
      },
      "execution_count": null,
      "outputs": [
        {
          "output_type": "execute_result",
          "data": {
            "text/plain": [
              "['i',\n",
              " 'me',\n",
              " 'my',\n",
              " 'myself',\n",
              " 'we',\n",
              " 'our',\n",
              " 'ours',\n",
              " 'ourselves',\n",
              " 'you',\n",
              " \"you're\",\n",
              " \"you've\",\n",
              " \"you'll\",\n",
              " \"you'd\",\n",
              " 'your',\n",
              " 'yours',\n",
              " 'yourself',\n",
              " 'yourselves',\n",
              " 'he',\n",
              " 'him',\n",
              " 'his',\n",
              " 'himself',\n",
              " 'she',\n",
              " \"she's\",\n",
              " 'her',\n",
              " 'hers',\n",
              " 'herself',\n",
              " 'it',\n",
              " \"it's\",\n",
              " 'its',\n",
              " 'itself',\n",
              " 'they',\n",
              " 'them',\n",
              " 'their',\n",
              " 'theirs',\n",
              " 'themselves',\n",
              " 'what',\n",
              " 'which',\n",
              " 'who',\n",
              " 'whom',\n",
              " 'this',\n",
              " 'that',\n",
              " \"that'll\",\n",
              " 'these',\n",
              " 'those',\n",
              " 'am',\n",
              " 'is',\n",
              " 'are',\n",
              " 'was',\n",
              " 'were',\n",
              " 'be',\n",
              " 'been',\n",
              " 'being',\n",
              " 'have',\n",
              " 'has',\n",
              " 'had',\n",
              " 'having',\n",
              " 'do',\n",
              " 'does',\n",
              " 'did',\n",
              " 'doing',\n",
              " 'a',\n",
              " 'an',\n",
              " 'the',\n",
              " 'and',\n",
              " 'but',\n",
              " 'if',\n",
              " 'or',\n",
              " 'because',\n",
              " 'as',\n",
              " 'until',\n",
              " 'while',\n",
              " 'of',\n",
              " 'at',\n",
              " 'by',\n",
              " 'for',\n",
              " 'with',\n",
              " 'about',\n",
              " 'against',\n",
              " 'between',\n",
              " 'into',\n",
              " 'through',\n",
              " 'during',\n",
              " 'before',\n",
              " 'after',\n",
              " 'above',\n",
              " 'below',\n",
              " 'to',\n",
              " 'from',\n",
              " 'up',\n",
              " 'down',\n",
              " 'in',\n",
              " 'out',\n",
              " 'on',\n",
              " 'off',\n",
              " 'over',\n",
              " 'under',\n",
              " 'again',\n",
              " 'further',\n",
              " 'then',\n",
              " 'once',\n",
              " 'here',\n",
              " 'there',\n",
              " 'when',\n",
              " 'where',\n",
              " 'why',\n",
              " 'how',\n",
              " 'all',\n",
              " 'any',\n",
              " 'both',\n",
              " 'each',\n",
              " 'few',\n",
              " 'more',\n",
              " 'most',\n",
              " 'other',\n",
              " 'some',\n",
              " 'such',\n",
              " 'no',\n",
              " 'nor',\n",
              " 'not',\n",
              " 'only',\n",
              " 'own',\n",
              " 'same',\n",
              " 'so',\n",
              " 'than',\n",
              " 'too',\n",
              " 'very',\n",
              " 's',\n",
              " 't',\n",
              " 'can',\n",
              " 'will',\n",
              " 'just',\n",
              " 'don',\n",
              " \"don't\",\n",
              " 'should',\n",
              " \"should've\",\n",
              " 'now',\n",
              " 'd',\n",
              " 'll',\n",
              " 'm',\n",
              " 'o',\n",
              " 're',\n",
              " 've',\n",
              " 'y',\n",
              " 'ain',\n",
              " 'aren',\n",
              " \"aren't\",\n",
              " 'couldn',\n",
              " \"couldn't\",\n",
              " 'didn',\n",
              " \"didn't\",\n",
              " 'doesn',\n",
              " \"doesn't\",\n",
              " 'hadn',\n",
              " \"hadn't\",\n",
              " 'hasn',\n",
              " \"hasn't\",\n",
              " 'haven',\n",
              " \"haven't\",\n",
              " 'isn',\n",
              " \"isn't\",\n",
              " 'ma',\n",
              " 'mightn',\n",
              " \"mightn't\",\n",
              " 'mustn',\n",
              " \"mustn't\",\n",
              " 'needn',\n",
              " \"needn't\",\n",
              " 'shan',\n",
              " \"shan't\",\n",
              " 'shouldn',\n",
              " \"shouldn't\",\n",
              " 'wasn',\n",
              " \"wasn't\",\n",
              " 'weren',\n",
              " \"weren't\",\n",
              " 'won',\n",
              " \"won't\",\n",
              " 'wouldn',\n",
              " \"wouldn't\"]"
            ]
          },
          "metadata": {},
          "execution_count": 122
        }
      ]
    },
    {
      "cell_type": "code",
      "source": [
        "def remove_stopwords(text):\n",
        "  for char in stopwords.words('english'):\n",
        "    text = text.replace(char,'')\n",
        "  return text\n",
        "\n",
        "text.apply(remove_stopwords)"
      ],
      "metadata": {
        "colab": {
          "base_uri": "https://localhost:8080/",
          "height": 423
        },
        "id": "HEFCcrpLbjNN",
        "outputId": "0fe57c96-a2b9-428b-cd76-cf922af38f15"
      },
      "execution_count": null,
      "outputs": [
        {
          "output_type": "execute_result",
          "data": {
            "text/plain": [
              "                                                   text\n",
              "0     pericles216 hierbeforetheac sachinettiyil the ...\n",
              "1     hispanthicckk being you makes you look cutethi...\n",
              "2     alshymi les balles sont relles et sont tires t...\n",
              "3     im like entp but idiotichey boy do you want to...\n",
              "4     kaeshurr1 give it to zargarshanif  he has pica...\n",
              "...                                                 ...\n",
              "7806  sobsjjun godpls take care sobsjjun hiro emerge...\n",
              "7807  ignis02 wow last time i got intp    i think u ...\n",
              "7808  akupilled a 100akupilled that someone will get...\n",
              "7809  if youre intj this one is for you  what is nev...\n",
              "7810  harrylambert gucci hey can you dm me a pic of ...\n",
              "\n",
              "[7811 rows x 1 columns]"
            ],
            "text/html": [
              "\n",
              "  <div id=\"df-a1c5131a-6146-426d-b063-e74030c8edc4\">\n",
              "    <div class=\"colab-df-container\">\n",
              "      <div>\n",
              "<style scoped>\n",
              "    .dataframe tbody tr th:only-of-type {\n",
              "        vertical-align: middle;\n",
              "    }\n",
              "\n",
              "    .dataframe tbody tr th {\n",
              "        vertical-align: top;\n",
              "    }\n",
              "\n",
              "    .dataframe thead th {\n",
              "        text-align: right;\n",
              "    }\n",
              "</style>\n",
              "<table border=\"1\" class=\"dataframe\">\n",
              "  <thead>\n",
              "    <tr style=\"text-align: right;\">\n",
              "      <th></th>\n",
              "      <th>text</th>\n",
              "    </tr>\n",
              "  </thead>\n",
              "  <tbody>\n",
              "    <tr>\n",
              "      <th>0</th>\n",
              "      <td>pericles216 hierbeforetheac sachinettiyil the ...</td>\n",
              "    </tr>\n",
              "    <tr>\n",
              "      <th>1</th>\n",
              "      <td>hispanthicckk being you makes you look cutethi...</td>\n",
              "    </tr>\n",
              "    <tr>\n",
              "      <th>2</th>\n",
              "      <td>alshymi les balles sont relles et sont tires t...</td>\n",
              "    </tr>\n",
              "    <tr>\n",
              "      <th>3</th>\n",
              "      <td>im like entp but idiotichey boy do you want to...</td>\n",
              "    </tr>\n",
              "    <tr>\n",
              "      <th>4</th>\n",
              "      <td>kaeshurr1 give it to zargarshanif  he has pica...</td>\n",
              "    </tr>\n",
              "    <tr>\n",
              "      <th>...</th>\n",
              "      <td>...</td>\n",
              "    </tr>\n",
              "    <tr>\n",
              "      <th>7806</th>\n",
              "      <td>sobsjjun godpls take care sobsjjun hiro emerge...</td>\n",
              "    </tr>\n",
              "    <tr>\n",
              "      <th>7807</th>\n",
              "      <td>ignis02 wow last time i got intp    i think u ...</td>\n",
              "    </tr>\n",
              "    <tr>\n",
              "      <th>7808</th>\n",
              "      <td>akupilled a 100akupilled that someone will get...</td>\n",
              "    </tr>\n",
              "    <tr>\n",
              "      <th>7809</th>\n",
              "      <td>if youre intj this one is for you  what is nev...</td>\n",
              "    </tr>\n",
              "    <tr>\n",
              "      <th>7810</th>\n",
              "      <td>harrylambert gucci hey can you dm me a pic of ...</td>\n",
              "    </tr>\n",
              "  </tbody>\n",
              "</table>\n",
              "<p>7811 rows × 1 columns</p>\n",
              "</div>\n",
              "      <button class=\"colab-df-convert\" onclick=\"convertToInteractive('df-a1c5131a-6146-426d-b063-e74030c8edc4')\"\n",
              "              title=\"Convert this dataframe to an interactive table.\"\n",
              "              style=\"display:none;\">\n",
              "        \n",
              "  <svg xmlns=\"http://www.w3.org/2000/svg\" height=\"24px\"viewBox=\"0 0 24 24\"\n",
              "       width=\"24px\">\n",
              "    <path d=\"M0 0h24v24H0V0z\" fill=\"none\"/>\n",
              "    <path d=\"M18.56 5.44l.94 2.06.94-2.06 2.06-.94-2.06-.94-.94-2.06-.94 2.06-2.06.94zm-11 1L8.5 8.5l.94-2.06 2.06-.94-2.06-.94L8.5 2.5l-.94 2.06-2.06.94zm10 10l.94 2.06.94-2.06 2.06-.94-2.06-.94-.94-2.06-.94 2.06-2.06.94z\"/><path d=\"M17.41 7.96l-1.37-1.37c-.4-.4-.92-.59-1.43-.59-.52 0-1.04.2-1.43.59L10.3 9.45l-7.72 7.72c-.78.78-.78 2.05 0 2.83L4 21.41c.39.39.9.59 1.41.59.51 0 1.02-.2 1.41-.59l7.78-7.78 2.81-2.81c.8-.78.8-2.07 0-2.86zM5.41 20L4 18.59l7.72-7.72 1.47 1.35L5.41 20z\"/>\n",
              "  </svg>\n",
              "      </button>\n",
              "      \n",
              "  <style>\n",
              "    .colab-df-container {\n",
              "      display:flex;\n",
              "      flex-wrap:wrap;\n",
              "      gap: 12px;\n",
              "    }\n",
              "\n",
              "    .colab-df-convert {\n",
              "      background-color: #E8F0FE;\n",
              "      border: none;\n",
              "      border-radius: 50%;\n",
              "      cursor: pointer;\n",
              "      display: none;\n",
              "      fill: #1967D2;\n",
              "      height: 32px;\n",
              "      padding: 0 0 0 0;\n",
              "      width: 32px;\n",
              "    }\n",
              "\n",
              "    .colab-df-convert:hover {\n",
              "      background-color: #E2EBFA;\n",
              "      box-shadow: 0px 1px 2px rgba(60, 64, 67, 0.3), 0px 1px 3px 1px rgba(60, 64, 67, 0.15);\n",
              "      fill: #174EA6;\n",
              "    }\n",
              "\n",
              "    [theme=dark] .colab-df-convert {\n",
              "      background-color: #3B4455;\n",
              "      fill: #D2E3FC;\n",
              "    }\n",
              "\n",
              "    [theme=dark] .colab-df-convert:hover {\n",
              "      background-color: #434B5C;\n",
              "      box-shadow: 0px 1px 3px 1px rgba(0, 0, 0, 0.15);\n",
              "      filter: drop-shadow(0px 1px 2px rgba(0, 0, 0, 0.3));\n",
              "      fill: #FFFFFF;\n",
              "    }\n",
              "  </style>\n",
              "\n",
              "      <script>\n",
              "        const buttonEl =\n",
              "          document.querySelector('#df-a1c5131a-6146-426d-b063-e74030c8edc4 button.colab-df-convert');\n",
              "        buttonEl.style.display =\n",
              "          google.colab.kernel.accessAllowed ? 'block' : 'none';\n",
              "\n",
              "        async function convertToInteractive(key) {\n",
              "          const element = document.querySelector('#df-a1c5131a-6146-426d-b063-e74030c8edc4');\n",
              "          const dataTable =\n",
              "            await google.colab.kernel.invokeFunction('convertToInteractive',\n",
              "                                                     [key], {});\n",
              "          if (!dataTable) return;\n",
              "\n",
              "          const docLinkHtml = 'Like what you see? Visit the ' +\n",
              "            '<a target=\"_blank\" href=https://colab.research.google.com/notebooks/data_table.ipynb>data table notebook</a>'\n",
              "            + ' to learn more about interactive tables.';\n",
              "          element.innerHTML = '';\n",
              "          dataTable['output_type'] = 'display_data';\n",
              "          await google.colab.output.renderOutput(dataTable, element);\n",
              "          const docLink = document.createElement('div');\n",
              "          docLink.innerHTML = docLinkHtml;\n",
              "          element.appendChild(docLink);\n",
              "        }\n",
              "      </script>\n",
              "    </div>\n",
              "  </div>\n",
              "  "
            ]
          },
          "metadata": {},
          "execution_count": 123
        }
      ]
    },
    {
      "cell_type": "code",
      "source": [
        "text"
      ],
      "metadata": {
        "colab": {
          "base_uri": "https://localhost:8080/",
          "height": 423
        },
        "id": "p5y59WJzcB7N",
        "outputId": "92f23f65-3f5c-4f40-821c-276e31f319f0"
      },
      "execution_count": null,
      "outputs": [
        {
          "output_type": "execute_result",
          "data": {
            "text/plain": [
              "                                                   text\n",
              "0     pericles216 hierbeforetheac sachinettiyil the ...\n",
              "1     hispanthicckk being you makes you look cutethi...\n",
              "2     alshymi les balles sont relles et sont tires t...\n",
              "3     im like entp but idiotichey boy do you want to...\n",
              "4     kaeshurr1 give it to zargarshanif  he has pica...\n",
              "...                                                 ...\n",
              "7806  sobsjjun godpls take care sobsjjun hiro emerge...\n",
              "7807  ignis02 wow last time i got intp    i think u ...\n",
              "7808  akupilled a 100akupilled that someone will get...\n",
              "7809  if youre intj this one is for you  what is nev...\n",
              "7810  harrylambert gucci hey can you dm me a pic of ...\n",
              "\n",
              "[7811 rows x 1 columns]"
            ],
            "text/html": [
              "\n",
              "  <div id=\"df-f75db1e5-57dc-4e99-9717-0bcf84482b42\">\n",
              "    <div class=\"colab-df-container\">\n",
              "      <div>\n",
              "<style scoped>\n",
              "    .dataframe tbody tr th:only-of-type {\n",
              "        vertical-align: middle;\n",
              "    }\n",
              "\n",
              "    .dataframe tbody tr th {\n",
              "        vertical-align: top;\n",
              "    }\n",
              "\n",
              "    .dataframe thead th {\n",
              "        text-align: right;\n",
              "    }\n",
              "</style>\n",
              "<table border=\"1\" class=\"dataframe\">\n",
              "  <thead>\n",
              "    <tr style=\"text-align: right;\">\n",
              "      <th></th>\n",
              "      <th>text</th>\n",
              "    </tr>\n",
              "  </thead>\n",
              "  <tbody>\n",
              "    <tr>\n",
              "      <th>0</th>\n",
              "      <td>pericles216 hierbeforetheac sachinettiyil the ...</td>\n",
              "    </tr>\n",
              "    <tr>\n",
              "      <th>1</th>\n",
              "      <td>hispanthicckk being you makes you look cutethi...</td>\n",
              "    </tr>\n",
              "    <tr>\n",
              "      <th>2</th>\n",
              "      <td>alshymi les balles sont relles et sont tires t...</td>\n",
              "    </tr>\n",
              "    <tr>\n",
              "      <th>3</th>\n",
              "      <td>im like entp but idiotichey boy do you want to...</td>\n",
              "    </tr>\n",
              "    <tr>\n",
              "      <th>4</th>\n",
              "      <td>kaeshurr1 give it to zargarshanif  he has pica...</td>\n",
              "    </tr>\n",
              "    <tr>\n",
              "      <th>...</th>\n",
              "      <td>...</td>\n",
              "    </tr>\n",
              "    <tr>\n",
              "      <th>7806</th>\n",
              "      <td>sobsjjun godpls take care sobsjjun hiro emerge...</td>\n",
              "    </tr>\n",
              "    <tr>\n",
              "      <th>7807</th>\n",
              "      <td>ignis02 wow last time i got intp    i think u ...</td>\n",
              "    </tr>\n",
              "    <tr>\n",
              "      <th>7808</th>\n",
              "      <td>akupilled a 100akupilled that someone will get...</td>\n",
              "    </tr>\n",
              "    <tr>\n",
              "      <th>7809</th>\n",
              "      <td>if youre intj this one is for you  what is nev...</td>\n",
              "    </tr>\n",
              "    <tr>\n",
              "      <th>7810</th>\n",
              "      <td>harrylambert gucci hey can you dm me a pic of ...</td>\n",
              "    </tr>\n",
              "  </tbody>\n",
              "</table>\n",
              "<p>7811 rows × 1 columns</p>\n",
              "</div>\n",
              "      <button class=\"colab-df-convert\" onclick=\"convertToInteractive('df-f75db1e5-57dc-4e99-9717-0bcf84482b42')\"\n",
              "              title=\"Convert this dataframe to an interactive table.\"\n",
              "              style=\"display:none;\">\n",
              "        \n",
              "  <svg xmlns=\"http://www.w3.org/2000/svg\" height=\"24px\"viewBox=\"0 0 24 24\"\n",
              "       width=\"24px\">\n",
              "    <path d=\"M0 0h24v24H0V0z\" fill=\"none\"/>\n",
              "    <path d=\"M18.56 5.44l.94 2.06.94-2.06 2.06-.94-2.06-.94-.94-2.06-.94 2.06-2.06.94zm-11 1L8.5 8.5l.94-2.06 2.06-.94-2.06-.94L8.5 2.5l-.94 2.06-2.06.94zm10 10l.94 2.06.94-2.06 2.06-.94-2.06-.94-.94-2.06-.94 2.06-2.06.94z\"/><path d=\"M17.41 7.96l-1.37-1.37c-.4-.4-.92-.59-1.43-.59-.52 0-1.04.2-1.43.59L10.3 9.45l-7.72 7.72c-.78.78-.78 2.05 0 2.83L4 21.41c.39.39.9.59 1.41.59.51 0 1.02-.2 1.41-.59l7.78-7.78 2.81-2.81c.8-.78.8-2.07 0-2.86zM5.41 20L4 18.59l7.72-7.72 1.47 1.35L5.41 20z\"/>\n",
              "  </svg>\n",
              "      </button>\n",
              "      \n",
              "  <style>\n",
              "    .colab-df-container {\n",
              "      display:flex;\n",
              "      flex-wrap:wrap;\n",
              "      gap: 12px;\n",
              "    }\n",
              "\n",
              "    .colab-df-convert {\n",
              "      background-color: #E8F0FE;\n",
              "      border: none;\n",
              "      border-radius: 50%;\n",
              "      cursor: pointer;\n",
              "      display: none;\n",
              "      fill: #1967D2;\n",
              "      height: 32px;\n",
              "      padding: 0 0 0 0;\n",
              "      width: 32px;\n",
              "    }\n",
              "\n",
              "    .colab-df-convert:hover {\n",
              "      background-color: #E2EBFA;\n",
              "      box-shadow: 0px 1px 2px rgba(60, 64, 67, 0.3), 0px 1px 3px 1px rgba(60, 64, 67, 0.15);\n",
              "      fill: #174EA6;\n",
              "    }\n",
              "\n",
              "    [theme=dark] .colab-df-convert {\n",
              "      background-color: #3B4455;\n",
              "      fill: #D2E3FC;\n",
              "    }\n",
              "\n",
              "    [theme=dark] .colab-df-convert:hover {\n",
              "      background-color: #434B5C;\n",
              "      box-shadow: 0px 1px 3px 1px rgba(0, 0, 0, 0.15);\n",
              "      filter: drop-shadow(0px 1px 2px rgba(0, 0, 0, 0.3));\n",
              "      fill: #FFFFFF;\n",
              "    }\n",
              "  </style>\n",
              "\n",
              "      <script>\n",
              "        const buttonEl =\n",
              "          document.querySelector('#df-f75db1e5-57dc-4e99-9717-0bcf84482b42 button.colab-df-convert');\n",
              "        buttonEl.style.display =\n",
              "          google.colab.kernel.accessAllowed ? 'block' : 'none';\n",
              "\n",
              "        async function convertToInteractive(key) {\n",
              "          const element = document.querySelector('#df-f75db1e5-57dc-4e99-9717-0bcf84482b42');\n",
              "          const dataTable =\n",
              "            await google.colab.kernel.invokeFunction('convertToInteractive',\n",
              "                                                     [key], {});\n",
              "          if (!dataTable) return;\n",
              "\n",
              "          const docLinkHtml = 'Like what you see? Visit the ' +\n",
              "            '<a target=\"_blank\" href=https://colab.research.google.com/notebooks/data_table.ipynb>data table notebook</a>'\n",
              "            + ' to learn more about interactive tables.';\n",
              "          element.innerHTML = '';\n",
              "          dataTable['output_type'] = 'display_data';\n",
              "          await google.colab.output.renderOutput(dataTable, element);\n",
              "          const docLink = document.createElement('div');\n",
              "          docLink.innerHTML = docLinkHtml;\n",
              "          element.appendChild(docLink);\n",
              "        }\n",
              "      </script>\n",
              "    </div>\n",
              "  </div>\n",
              "  "
            ]
          },
          "metadata": {},
          "execution_count": 124
        }
      ]
    },
    {
      "cell_type": "markdown",
      "source": [
        "## Feature Engineering"
      ],
      "metadata": {
        "id": "7VYjw2MFzHjL"
      }
    },
    {
      "cell_type": "markdown",
      "source": [
        "Count Vectorizer"
      ],
      "metadata": {
        "id": "QYTxEbSXzM73"
      }
    },
    {
      "cell_type": "code",
      "source": [
        "text[7809:7810]"
      ],
      "metadata": {
        "id": "LM51MxfIcEEa",
        "colab": {
          "base_uri": "https://localhost:8080/",
          "height": 80
        },
        "outputId": "7cc7243d-c04f-4d4b-a289-f765d76d2e92"
      },
      "execution_count": null,
      "outputs": [
        {
          "output_type": "execute_result",
          "data": {
            "text/plain": [
              "                                                   text\n",
              "7809  if youre intj this one is for you  what is nev..."
            ],
            "text/html": [
              "\n",
              "  <div id=\"df-5056873b-369e-4b4d-b5a0-70b50b73c67b\">\n",
              "    <div class=\"colab-df-container\">\n",
              "      <div>\n",
              "<style scoped>\n",
              "    .dataframe tbody tr th:only-of-type {\n",
              "        vertical-align: middle;\n",
              "    }\n",
              "\n",
              "    .dataframe tbody tr th {\n",
              "        vertical-align: top;\n",
              "    }\n",
              "\n",
              "    .dataframe thead th {\n",
              "        text-align: right;\n",
              "    }\n",
              "</style>\n",
              "<table border=\"1\" class=\"dataframe\">\n",
              "  <thead>\n",
              "    <tr style=\"text-align: right;\">\n",
              "      <th></th>\n",
              "      <th>text</th>\n",
              "    </tr>\n",
              "  </thead>\n",
              "  <tbody>\n",
              "    <tr>\n",
              "      <th>7809</th>\n",
              "      <td>if youre intj this one is for you  what is nev...</td>\n",
              "    </tr>\n",
              "  </tbody>\n",
              "</table>\n",
              "</div>\n",
              "      <button class=\"colab-df-convert\" onclick=\"convertToInteractive('df-5056873b-369e-4b4d-b5a0-70b50b73c67b')\"\n",
              "              title=\"Convert this dataframe to an interactive table.\"\n",
              "              style=\"display:none;\">\n",
              "        \n",
              "  <svg xmlns=\"http://www.w3.org/2000/svg\" height=\"24px\"viewBox=\"0 0 24 24\"\n",
              "       width=\"24px\">\n",
              "    <path d=\"M0 0h24v24H0V0z\" fill=\"none\"/>\n",
              "    <path d=\"M18.56 5.44l.94 2.06.94-2.06 2.06-.94-2.06-.94-.94-2.06-.94 2.06-2.06.94zm-11 1L8.5 8.5l.94-2.06 2.06-.94-2.06-.94L8.5 2.5l-.94 2.06-2.06.94zm10 10l.94 2.06.94-2.06 2.06-.94-2.06-.94-.94-2.06-.94 2.06-2.06.94z\"/><path d=\"M17.41 7.96l-1.37-1.37c-.4-.4-.92-.59-1.43-.59-.52 0-1.04.2-1.43.59L10.3 9.45l-7.72 7.72c-.78.78-.78 2.05 0 2.83L4 21.41c.39.39.9.59 1.41.59.51 0 1.02-.2 1.41-.59l7.78-7.78 2.81-2.81c.8-.78.8-2.07 0-2.86zM5.41 20L4 18.59l7.72-7.72 1.47 1.35L5.41 20z\"/>\n",
              "  </svg>\n",
              "      </button>\n",
              "      \n",
              "  <style>\n",
              "    .colab-df-container {\n",
              "      display:flex;\n",
              "      flex-wrap:wrap;\n",
              "      gap: 12px;\n",
              "    }\n",
              "\n",
              "    .colab-df-convert {\n",
              "      background-color: #E8F0FE;\n",
              "      border: none;\n",
              "      border-radius: 50%;\n",
              "      cursor: pointer;\n",
              "      display: none;\n",
              "      fill: #1967D2;\n",
              "      height: 32px;\n",
              "      padding: 0 0 0 0;\n",
              "      width: 32px;\n",
              "    }\n",
              "\n",
              "    .colab-df-convert:hover {\n",
              "      background-color: #E2EBFA;\n",
              "      box-shadow: 0px 1px 2px rgba(60, 64, 67, 0.3), 0px 1px 3px 1px rgba(60, 64, 67, 0.15);\n",
              "      fill: #174EA6;\n",
              "    }\n",
              "\n",
              "    [theme=dark] .colab-df-convert {\n",
              "      background-color: #3B4455;\n",
              "      fill: #D2E3FC;\n",
              "    }\n",
              "\n",
              "    [theme=dark] .colab-df-convert:hover {\n",
              "      background-color: #434B5C;\n",
              "      box-shadow: 0px 1px 3px 1px rgba(0, 0, 0, 0.15);\n",
              "      filter: drop-shadow(0px 1px 2px rgba(0, 0, 0, 0.3));\n",
              "      fill: #FFFFFF;\n",
              "    }\n",
              "  </style>\n",
              "\n",
              "      <script>\n",
              "        const buttonEl =\n",
              "          document.querySelector('#df-5056873b-369e-4b4d-b5a0-70b50b73c67b button.colab-df-convert');\n",
              "        buttonEl.style.display =\n",
              "          google.colab.kernel.accessAllowed ? 'block' : 'none';\n",
              "\n",
              "        async function convertToInteractive(key) {\n",
              "          const element = document.querySelector('#df-5056873b-369e-4b4d-b5a0-70b50b73c67b');\n",
              "          const dataTable =\n",
              "            await google.colab.kernel.invokeFunction('convertToInteractive',\n",
              "                                                     [key], {});\n",
              "          if (!dataTable) return;\n",
              "\n",
              "          const docLinkHtml = 'Like what you see? Visit the ' +\n",
              "            '<a target=\"_blank\" href=https://colab.research.google.com/notebooks/data_table.ipynb>data table notebook</a>'\n",
              "            + ' to learn more about interactive tables.';\n",
              "          element.innerHTML = '';\n",
              "          dataTable['output_type'] = 'display_data';\n",
              "          await google.colab.output.renderOutput(dataTable, element);\n",
              "          const docLink = document.createElement('div');\n",
              "          docLink.innerHTML = docLinkHtml;\n",
              "          element.appendChild(docLink);\n",
              "        }\n",
              "      </script>\n",
              "    </div>\n",
              "  </div>\n",
              "  "
            ]
          },
          "metadata": {},
          "execution_count": 125
        }
      ]
    },
    {
      "cell_type": "code",
      "source": [
        "#count vectorizer\n",
        "from sklearn.feature_extraction.text import CountVectorizer\n",
        "cv = CountVectorizer()\n",
        "x1 = cv.fit_transform(text[7809:7810])\n",
        "x1.shape"
      ],
      "metadata": {
        "colab": {
          "base_uri": "https://localhost:8080/"
        },
        "id": "0TgrzpL1zUY7",
        "outputId": "84f1511b-201a-4f38-a1fa-40f0bd645919"
      },
      "execution_count": null,
      "outputs": [
        {
          "output_type": "execute_result",
          "data": {
            "text/plain": [
              "(1, 1)"
            ]
          },
          "metadata": {},
          "execution_count": 126
        }
      ]
    },
    {
      "cell_type": "code",
      "source": [
        "x1"
      ],
      "metadata": {
        "colab": {
          "base_uri": "https://localhost:8080/"
        },
        "id": "dnE76aXTzqs8",
        "outputId": "23236d94-6d4a-4dcf-d5bf-f0528c24e939"
      },
      "execution_count": null,
      "outputs": [
        {
          "output_type": "execute_result",
          "data": {
            "text/plain": [
              "<1x1 sparse matrix of type '<class 'numpy.int64'>'\n",
              "\twith 1 stored elements in Compressed Sparse Row format>"
            ]
          },
          "metadata": {},
          "execution_count": 127
        }
      ]
    },
    {
      "cell_type": "code",
      "source": [
        "text[['text']]"
      ],
      "metadata": {
        "colab": {
          "base_uri": "https://localhost:8080/",
          "height": 423
        },
        "id": "0NR0xDpszsRx",
        "outputId": "d28f5063-c86f-4cfd-a440-59bee946dd09"
      },
      "execution_count": null,
      "outputs": [
        {
          "output_type": "execute_result",
          "data": {
            "text/plain": [
              "                                                   text\n",
              "0     pericles216 hierbeforetheac sachinettiyil the ...\n",
              "1     hispanthicckk being you makes you look cutethi...\n",
              "2     alshymi les balles sont relles et sont tires t...\n",
              "3     im like entp but idiotichey boy do you want to...\n",
              "4     kaeshurr1 give it to zargarshanif  he has pica...\n",
              "...                                                 ...\n",
              "7806  sobsjjun godpls take care sobsjjun hiro emerge...\n",
              "7807  ignis02 wow last time i got intp    i think u ...\n",
              "7808  akupilled a 100akupilled that someone will get...\n",
              "7809  if youre intj this one is for you  what is nev...\n",
              "7810  harrylambert gucci hey can you dm me a pic of ...\n",
              "\n",
              "[7811 rows x 1 columns]"
            ],
            "text/html": [
              "\n",
              "  <div id=\"df-05c98e01-511b-4888-863a-f78849f89ff6\">\n",
              "    <div class=\"colab-df-container\">\n",
              "      <div>\n",
              "<style scoped>\n",
              "    .dataframe tbody tr th:only-of-type {\n",
              "        vertical-align: middle;\n",
              "    }\n",
              "\n",
              "    .dataframe tbody tr th {\n",
              "        vertical-align: top;\n",
              "    }\n",
              "\n",
              "    .dataframe thead th {\n",
              "        text-align: right;\n",
              "    }\n",
              "</style>\n",
              "<table border=\"1\" class=\"dataframe\">\n",
              "  <thead>\n",
              "    <tr style=\"text-align: right;\">\n",
              "      <th></th>\n",
              "      <th>text</th>\n",
              "    </tr>\n",
              "  </thead>\n",
              "  <tbody>\n",
              "    <tr>\n",
              "      <th>0</th>\n",
              "      <td>pericles216 hierbeforetheac sachinettiyil the ...</td>\n",
              "    </tr>\n",
              "    <tr>\n",
              "      <th>1</th>\n",
              "      <td>hispanthicckk being you makes you look cutethi...</td>\n",
              "    </tr>\n",
              "    <tr>\n",
              "      <th>2</th>\n",
              "      <td>alshymi les balles sont relles et sont tires t...</td>\n",
              "    </tr>\n",
              "    <tr>\n",
              "      <th>3</th>\n",
              "      <td>im like entp but idiotichey boy do you want to...</td>\n",
              "    </tr>\n",
              "    <tr>\n",
              "      <th>4</th>\n",
              "      <td>kaeshurr1 give it to zargarshanif  he has pica...</td>\n",
              "    </tr>\n",
              "    <tr>\n",
              "      <th>...</th>\n",
              "      <td>...</td>\n",
              "    </tr>\n",
              "    <tr>\n",
              "      <th>7806</th>\n",
              "      <td>sobsjjun godpls take care sobsjjun hiro emerge...</td>\n",
              "    </tr>\n",
              "    <tr>\n",
              "      <th>7807</th>\n",
              "      <td>ignis02 wow last time i got intp    i think u ...</td>\n",
              "    </tr>\n",
              "    <tr>\n",
              "      <th>7808</th>\n",
              "      <td>akupilled a 100akupilled that someone will get...</td>\n",
              "    </tr>\n",
              "    <tr>\n",
              "      <th>7809</th>\n",
              "      <td>if youre intj this one is for you  what is nev...</td>\n",
              "    </tr>\n",
              "    <tr>\n",
              "      <th>7810</th>\n",
              "      <td>harrylambert gucci hey can you dm me a pic of ...</td>\n",
              "    </tr>\n",
              "  </tbody>\n",
              "</table>\n",
              "<p>7811 rows × 1 columns</p>\n",
              "</div>\n",
              "      <button class=\"colab-df-convert\" onclick=\"convertToInteractive('df-05c98e01-511b-4888-863a-f78849f89ff6')\"\n",
              "              title=\"Convert this dataframe to an interactive table.\"\n",
              "              style=\"display:none;\">\n",
              "        \n",
              "  <svg xmlns=\"http://www.w3.org/2000/svg\" height=\"24px\"viewBox=\"0 0 24 24\"\n",
              "       width=\"24px\">\n",
              "    <path d=\"M0 0h24v24H0V0z\" fill=\"none\"/>\n",
              "    <path d=\"M18.56 5.44l.94 2.06.94-2.06 2.06-.94-2.06-.94-.94-2.06-.94 2.06-2.06.94zm-11 1L8.5 8.5l.94-2.06 2.06-.94-2.06-.94L8.5 2.5l-.94 2.06-2.06.94zm10 10l.94 2.06.94-2.06 2.06-.94-2.06-.94-.94-2.06-.94 2.06-2.06.94z\"/><path d=\"M17.41 7.96l-1.37-1.37c-.4-.4-.92-.59-1.43-.59-.52 0-1.04.2-1.43.59L10.3 9.45l-7.72 7.72c-.78.78-.78 2.05 0 2.83L4 21.41c.39.39.9.59 1.41.59.51 0 1.02-.2 1.41-.59l7.78-7.78 2.81-2.81c.8-.78.8-2.07 0-2.86zM5.41 20L4 18.59l7.72-7.72 1.47 1.35L5.41 20z\"/>\n",
              "  </svg>\n",
              "      </button>\n",
              "      \n",
              "  <style>\n",
              "    .colab-df-container {\n",
              "      display:flex;\n",
              "      flex-wrap:wrap;\n",
              "      gap: 12px;\n",
              "    }\n",
              "\n",
              "    .colab-df-convert {\n",
              "      background-color: #E8F0FE;\n",
              "      border: none;\n",
              "      border-radius: 50%;\n",
              "      cursor: pointer;\n",
              "      display: none;\n",
              "      fill: #1967D2;\n",
              "      height: 32px;\n",
              "      padding: 0 0 0 0;\n",
              "      width: 32px;\n",
              "    }\n",
              "\n",
              "    .colab-df-convert:hover {\n",
              "      background-color: #E2EBFA;\n",
              "      box-shadow: 0px 1px 2px rgba(60, 64, 67, 0.3), 0px 1px 3px 1px rgba(60, 64, 67, 0.15);\n",
              "      fill: #174EA6;\n",
              "    }\n",
              "\n",
              "    [theme=dark] .colab-df-convert {\n",
              "      background-color: #3B4455;\n",
              "      fill: #D2E3FC;\n",
              "    }\n",
              "\n",
              "    [theme=dark] .colab-df-convert:hover {\n",
              "      background-color: #434B5C;\n",
              "      box-shadow: 0px 1px 3px 1px rgba(0, 0, 0, 0.15);\n",
              "      filter: drop-shadow(0px 1px 2px rgba(0, 0, 0, 0.3));\n",
              "      fill: #FFFFFF;\n",
              "    }\n",
              "  </style>\n",
              "\n",
              "      <script>\n",
              "        const buttonEl =\n",
              "          document.querySelector('#df-05c98e01-511b-4888-863a-f78849f89ff6 button.colab-df-convert');\n",
              "        buttonEl.style.display =\n",
              "          google.colab.kernel.accessAllowed ? 'block' : 'none';\n",
              "\n",
              "        async function convertToInteractive(key) {\n",
              "          const element = document.querySelector('#df-05c98e01-511b-4888-863a-f78849f89ff6');\n",
              "          const dataTable =\n",
              "            await google.colab.kernel.invokeFunction('convertToInteractive',\n",
              "                                                     [key], {});\n",
              "          if (!dataTable) return;\n",
              "\n",
              "          const docLinkHtml = 'Like what you see? Visit the ' +\n",
              "            '<a target=\"_blank\" href=https://colab.research.google.com/notebooks/data_table.ipynb>data table notebook</a>'\n",
              "            + ' to learn more about interactive tables.';\n",
              "          element.innerHTML = '';\n",
              "          dataTable['output_type'] = 'display_data';\n",
              "          await google.colab.output.renderOutput(dataTable, element);\n",
              "          const docLink = document.createElement('div');\n",
              "          docLink.innerHTML = docLinkHtml;\n",
              "          element.appendChild(docLink);\n",
              "        }\n",
              "      </script>\n",
              "    </div>\n",
              "  </div>\n",
              "  "
            ]
          },
          "metadata": {},
          "execution_count": 128
        }
      ]
    },
    {
      "cell_type": "code",
      "source": [
        "from sklearn.feature_extraction.text import CountVectorizer\n",
        "cv = CountVectorizer()\n",
        "x1 = cv.fit_transform(text['text'])\n",
        "x1.shape"
      ],
      "metadata": {
        "colab": {
          "base_uri": "https://localhost:8080/"
        },
        "id": "IgLt4U4TzwIu",
        "outputId": "9c128f38-cf82-4b22-b414-b9230ac74b72"
      },
      "execution_count": null,
      "outputs": [
        {
          "output_type": "execute_result",
          "data": {
            "text/plain": [
              "(7811, 736582)"
            ]
          },
          "metadata": {},
          "execution_count": 130
        }
      ]
    },
    {
      "cell_type": "code",
      "source": [
        "x1"
      ],
      "metadata": {
        "colab": {
          "base_uri": "https://localhost:8080/"
        },
        "id": "knVBmMez0Bcz",
        "outputId": "59926c39-0026-401a-f9eb-4b09577ef175"
      },
      "execution_count": null,
      "outputs": [
        {
          "output_type": "execute_result",
          "data": {
            "text/plain": [
              "<7811x736582 sparse matrix of type '<class 'numpy.int64'>'\n",
              "\twith 4425658 stored elements in Compressed Sparse Row format>"
            ]
          },
          "metadata": {},
          "execution_count": 131
        }
      ]
    },
    {
      "cell_type": "markdown",
      "source": [
        "## TF-IDF"
      ],
      "metadata": {
        "id": "twR63LvW0O7J"
      }
    },
    {
      "cell_type": "code",
      "source": [
        "from sklearn.feature_extraction.text import TfidfVectorizer\n"
      ],
      "metadata": {
        "id": "vQdXuaKb0JWA"
      },
      "execution_count": null,
      "outputs": []
    },
    {
      "cell_type": "code",
      "source": [
        "tr_idf_model = TfidfVectorizer()\n",
        "tf_idf = tr_idf_model.fit_transform(text['text'])"
      ],
      "metadata": {
        "id": "r24g3c8g0jv8"
      },
      "execution_count": null,
      "outputs": []
    },
    {
      "cell_type": "code",
      "source": [
        "tf_idf.size"
      ],
      "metadata": {
        "colab": {
          "base_uri": "https://localhost:8080/"
        },
        "id": "Jsjdws_w08_-",
        "outputId": "fe57a1c3-b87a-4696-dc22-26845e1c694e"
      },
      "execution_count": null,
      "outputs": [
        {
          "output_type": "execute_result",
          "data": {
            "text/plain": [
              "4425658"
            ]
          },
          "metadata": {},
          "execution_count": 134
        }
      ]
    },
    {
      "cell_type": "code",
      "source": [
        "print(type(tf_idf), tf_idf.shape)"
      ],
      "metadata": {
        "colab": {
          "base_uri": "https://localhost:8080/"
        },
        "id": "9HD8GQvz1EiL",
        "outputId": "c899361c-1637-4b79-958c-9e85f0783e46"
      },
      "execution_count": null,
      "outputs": [
        {
          "output_type": "stream",
          "name": "stdout",
          "text": [
            "<class 'scipy.sparse._csr.csr_matrix'> (7811, 736582)\n"
          ]
        }
      ]
    },
    {
      "cell_type": "code",
      "source": [
        "from keras.utils import np_utils\n",
        "npy = np_utils.to_categorical(y)\n",
        "print(npy[:5])"
      ],
      "metadata": {
        "colab": {
          "base_uri": "https://localhost:8080/"
        },
        "id": "W2Nk_gHp1O3I",
        "outputId": "568d0ac0-0792-4921-97aa-540c1bd6f189"
      },
      "execution_count": null,
      "outputs": [
        {
          "output_type": "stream",
          "name": "stdout",
          "text": [
            "[[0. 0. 0. 0. 0. 0. 0. 0. 0. 0. 1. 0. 0. 0. 0. 0.]\n",
            " [0. 0. 0. 0. 0. 0. 0. 0. 0. 0. 1. 0. 0. 0. 0. 0.]\n",
            " [0. 0. 0. 0. 0. 0. 0. 0. 0. 0. 1. 0. 0. 0. 0. 0.]\n",
            " [0. 0. 0. 0. 0. 0. 0. 0. 0. 0. 1. 0. 0. 0. 0. 0.]\n",
            " [0. 0. 0. 0. 0. 0. 0. 0. 0. 0. 1. 0. 0. 0. 0. 0.]]\n"
          ]
        }
      ]
    },
    {
      "cell_type": "code",
      "source": [
        "from sklearn.model_selection import train_test_split\n",
        "x_train,x_test,y_train,y_test = train_test_split(x1,npy,test_size=.25,random_state=1)"
      ],
      "metadata": {
        "id": "0hh7lyW71ss4"
      },
      "execution_count": null,
      "outputs": []
    },
    {
      "cell_type": "code",
      "source": [
        "print(x_train.shape)\n",
        "print(x_test.shape)\n",
        "print(y_train.shape)\n",
        "print(y_test.shape)"
      ],
      "metadata": {
        "colab": {
          "base_uri": "https://localhost:8080/"
        },
        "id": "K_VrCXkL23Kd",
        "outputId": "30d4e04b-01ce-4f51-9673-7955cd78119c"
      },
      "execution_count": null,
      "outputs": [
        {
          "output_type": "stream",
          "name": "stdout",
          "text": [
            "(5858, 736582)\n",
            "(1953, 736582)\n",
            "(5858, 16)\n",
            "(1953, 16)\n"
          ]
        }
      ]
    },
    {
      "cell_type": "code",
      "source": [
        "from sklearn.preprocessing import StandardScaler\n",
        "sc = StandardScaler(with_mean=False)\n",
        "x_train = sc.fit_transform(x_train)\n",
        "x_test = sc.transform(x_test)"
      ],
      "metadata": {
        "id": "jC1bKQBc3Psl"
      },
      "execution_count": null,
      "outputs": []
    },
    {
      "cell_type": "code",
      "source": [
        "print(x_train.shape)\n",
        "print(x_test.shape)\n",
        "print(y_train.shape)\n",
        "print(y_test.shape)"
      ],
      "metadata": {
        "colab": {
          "base_uri": "https://localhost:8080/"
        },
        "id": "DlXpL8Rf3zGZ",
        "outputId": "faeda2df-4041-49e4-b132-9f4c6962be50"
      },
      "execution_count": null,
      "outputs": [
        {
          "output_type": "stream",
          "name": "stdout",
          "text": [
            "(5858, 736582)\n",
            "(1953, 736582)\n",
            "(5858, 16)\n",
            "(1953, 16)\n"
          ]
        }
      ]
    },
    {
      "cell_type": "code",
      "source": [
        "import tensorflow as tf\n",
        "from tensorflow import keras\n",
        "from keras.models import Sequential\n",
        "from keras.layers import Dense,Activation,Dropout\n",
        "from keras.optimizers import adam\n",
        "from keras.metrics import categorical_crossentropy"
      ],
      "metadata": {
        "id": "FIgzNLow4A4B"
      },
      "execution_count": null,
      "outputs": []
    },
    {
      "cell_type": "code",
      "source": [
        "model = Sequential()\n",
        "model.add(Dense(units=160,activation='relu',input_dim=736582))\n",
        "model.add(Dropout(0.1))\n",
        "model.add(Dense(units=16,activation='relu'))\n",
        "model.add(Dropout(0.1))\n",
        "model.add(Dense(units=16,activation='sigmoid'))"
      ],
      "metadata": {
        "id": "Z2YKjQiH4-c1"
      },
      "execution_count": null,
      "outputs": []
    },
    {
      "cell_type": "code",
      "source": [
        "model.compile(optimizer= 'Adam', loss='categorical_crossentropy', metrics=['accuracy'])"
      ],
      "metadata": {
        "id": "ZPda7J7l6N13"
      },
      "execution_count": null,
      "outputs": []
    },
    {
      "cell_type": "code",
      "source": [
        "model.summary()"
      ],
      "metadata": {
        "colab": {
          "base_uri": "https://localhost:8080/"
        },
        "id": "t_iaq-E_6gUk",
        "outputId": "57233f12-4300-45cb-95e6-5e8746f74dc8"
      },
      "execution_count": null,
      "outputs": [
        {
          "output_type": "stream",
          "name": "stdout",
          "text": [
            "Model: \"sequential\"\n",
            "_________________________________________________________________\n",
            " Layer (type)                Output Shape              Param #   \n",
            "=================================================================\n",
            " dense (Dense)               (None, 160)               117853280 \n",
            "                                                                 \n",
            " dropout (Dropout)           (None, 160)               0         \n",
            "                                                                 \n",
            " dense_1 (Dense)             (None, 16)                2576      \n",
            "                                                                 \n",
            " dropout_1 (Dropout)         (None, 16)                0         \n",
            "                                                                 \n",
            " dense_2 (Dense)             (None, 16)                272       \n",
            "                                                                 \n",
            "=================================================================\n",
            "Total params: 117,856,128\n",
            "Trainable params: 117,856,128\n",
            "Non-trainable params: 0\n",
            "_________________________________________________________________\n"
          ]
        }
      ]
    },
    {
      "cell_type": "code",
      "source": [
        "model.fit(x_train,y_train,epochs=1,verbose=1)"
      ],
      "metadata": {
        "colab": {
          "base_uri": "https://localhost:8080/"
        },
        "id": "6msE3fwh6mcF",
        "outputId": "774cdded-4552-4f17-b6f6-9b38df1b6f4a"
      },
      "execution_count": null,
      "outputs": [
        {
          "output_type": "stream",
          "name": "stdout",
          "text": [
            "184/184 [==============================] - 469s 3s/step - loss: 2.8088 - accuracy: 0.1571\n"
          ]
        },
        {
          "output_type": "execute_result",
          "data": {
            "text/plain": [
              "<keras.callbacks.History at 0x7f8c40dcd5e0>"
            ]
          },
          "metadata": {},
          "execution_count": 148
        }
      ]
    },
    {
      "cell_type": "code",
      "source": [
        "import numpy as np\n",
        "import pandas as pd"
      ],
      "metadata": {
        "id": "RnNHPixj6ur7"
      },
      "execution_count": null,
      "outputs": []
    },
    {
      "cell_type": "code",
      "source": [
        "df = pd.read_csv('/content/twitter_dataset_nlp.csv')\n",
        "df.head()\n",
        "y = df['label']"
      ],
      "metadata": {
        "id": "VNoc2AXn8v6d"
      },
      "execution_count": null,
      "outputs": []
    },
    {
      "cell_type": "code",
      "source": [
        "from sklearn.feature_extraction.text import CountVectorizer\n",
        "from nltk.tokenize import RegexpTokenizer\n",
        "token = RegexpTokenizer(r'[a-zA-Z0-9]+')\n",
        "cv = CountVectorizer(lowercase = True,stop_words='english',ngram_range=(1,1), tokenizer = None)\n",
        "x = cv.fit_transform(text['text'])\n",
        "x"
      ],
      "metadata": {
        "colab": {
          "base_uri": "https://localhost:8080/"
        },
        "id": "7_l2fZIB9DqR",
        "outputId": "9b01dd2d-eead-4d29-9cb9-52b5717097b2"
      },
      "execution_count": null,
      "outputs": [
        {
          "output_type": "execute_result",
          "data": {
            "text/plain": [
              "<7811x736274 sparse matrix of type '<class 'numpy.int64'>'\n",
              "\twith 3612805 stored elements in Compressed Sparse Row format>"
            ]
          },
          "metadata": {},
          "execution_count": 151
        }
      ]
    },
    {
      "cell_type": "code",
      "source": [
        "from sklearn.feature_extraction.text import TfidfVectorizer\n",
        "tf = TfidfVectorizer()\n",
        "x = tf.fit_transform(text['text'])\n",
        "x"
      ],
      "metadata": {
        "colab": {
          "base_uri": "https://localhost:8080/"
        },
        "id": "UVKVR7Hg-eLw",
        "outputId": "1bfb85ac-d31f-4fc7-b62b-82f1c2f0c376"
      },
      "execution_count": null,
      "outputs": [
        {
          "output_type": "execute_result",
          "data": {
            "text/plain": [
              "<7811x736582 sparse matrix of type '<class 'numpy.float64'>'\n",
              "\twith 4425658 stored elements in Compressed Sparse Row format>"
            ]
          },
          "metadata": {},
          "execution_count": 152
        }
      ]
    },
    {
      "cell_type": "code",
      "source": [
        "from sklearn.preprocessing import LabelEncoder\n",
        "lb = LabelEncoder()\n",
        "y = lb.fit_transform(df['label'])\n",
        "y"
      ],
      "metadata": {
        "colab": {
          "base_uri": "https://localhost:8080/"
        },
        "id": "0TuI6056-0ay",
        "outputId": "41523b59-b770-4576-b182-f0097a08b5f1"
      },
      "execution_count": null,
      "outputs": [
        {
          "output_type": "execute_result",
          "data": {
            "text/plain": [
              "array([10, 10, 10, ...,  3,  8, 15])"
            ]
          },
          "metadata": {},
          "execution_count": 153
        }
      ]
    },
    {
      "cell_type": "code",
      "source": [
        "from sklearn.model_selection import train_test_split\n",
        "x_train,x_test,y_train,y_test = train_test_split(x,y,test_size=.25)"
      ],
      "metadata": {
        "id": "OJpwCf-L_GAm"
      },
      "execution_count": null,
      "outputs": []
    },
    {
      "cell_type": "code",
      "source": [
        "print(x_train.shape)\n",
        "print(x_test.shape)\n",
        "print(y_train.shape)\n",
        "print(y_test.shape)"
      ],
      "metadata": {
        "colab": {
          "base_uri": "https://localhost:8080/"
        },
        "id": "w7-c3Nw7_dbJ",
        "outputId": "5bedff9d-73da-4e26-d8b2-ca8747628e6b"
      },
      "execution_count": null,
      "outputs": [
        {
          "output_type": "stream",
          "name": "stdout",
          "text": [
            "(5858, 736582)\n",
            "(1953, 736582)\n",
            "(5858,)\n",
            "(1953,)\n"
          ]
        }
      ]
    },
    {
      "cell_type": "code",
      "source": [
        "from sklearn.preprocessing import StandardScaler\n",
        "sc = StandardScaler(with_mean=False)\n",
        "x_train = sc.fit_transform(x_train)\n",
        "x_test = sc.transform(x_test)"
      ],
      "metadata": {
        "id": "6pqiXsuE_pYI"
      },
      "execution_count": null,
      "outputs": []
    },
    {
      "cell_type": "code",
      "source": [
        "from sklearn.naive_bayes import MultinomialNB\n",
        "from sklearn import metrics\n",
        "nb = MultinomialNB().fit(x_train,y_train)\n",
        "nb"
      ],
      "metadata": {
        "colab": {
          "base_uri": "https://localhost:8080/",
          "height": 74
        },
        "id": "oDqoFcxZAHIB",
        "outputId": "205ba238-1aaf-4b04-a381-e156a0934bbd"
      },
      "execution_count": null,
      "outputs": [
        {
          "output_type": "execute_result",
          "data": {
            "text/plain": [
              "MultinomialNB()"
            ],
            "text/html": [
              "<style>#sk-container-id-1 {color: black;background-color: white;}#sk-container-id-1 pre{padding: 0;}#sk-container-id-1 div.sk-toggleable {background-color: white;}#sk-container-id-1 label.sk-toggleable__label {cursor: pointer;display: block;width: 100%;margin-bottom: 0;padding: 0.3em;box-sizing: border-box;text-align: center;}#sk-container-id-1 label.sk-toggleable__label-arrow:before {content: \"▸\";float: left;margin-right: 0.25em;color: #696969;}#sk-container-id-1 label.sk-toggleable__label-arrow:hover:before {color: black;}#sk-container-id-1 div.sk-estimator:hover label.sk-toggleable__label-arrow:before {color: black;}#sk-container-id-1 div.sk-toggleable__content {max-height: 0;max-width: 0;overflow: hidden;text-align: left;background-color: #f0f8ff;}#sk-container-id-1 div.sk-toggleable__content pre {margin: 0.2em;color: black;border-radius: 0.25em;background-color: #f0f8ff;}#sk-container-id-1 input.sk-toggleable__control:checked~div.sk-toggleable__content {max-height: 200px;max-width: 100%;overflow: auto;}#sk-container-id-1 input.sk-toggleable__control:checked~label.sk-toggleable__label-arrow:before {content: \"▾\";}#sk-container-id-1 div.sk-estimator input.sk-toggleable__control:checked~label.sk-toggleable__label {background-color: #d4ebff;}#sk-container-id-1 div.sk-label input.sk-toggleable__control:checked~label.sk-toggleable__label {background-color: #d4ebff;}#sk-container-id-1 input.sk-hidden--visually {border: 0;clip: rect(1px 1px 1px 1px);clip: rect(1px, 1px, 1px, 1px);height: 1px;margin: -1px;overflow: hidden;padding: 0;position: absolute;width: 1px;}#sk-container-id-1 div.sk-estimator {font-family: monospace;background-color: #f0f8ff;border: 1px dotted black;border-radius: 0.25em;box-sizing: border-box;margin-bottom: 0.5em;}#sk-container-id-1 div.sk-estimator:hover {background-color: #d4ebff;}#sk-container-id-1 div.sk-parallel-item::after {content: \"\";width: 100%;border-bottom: 1px solid gray;flex-grow: 1;}#sk-container-id-1 div.sk-label:hover label.sk-toggleable__label {background-color: #d4ebff;}#sk-container-id-1 div.sk-serial::before {content: \"\";position: absolute;border-left: 1px solid gray;box-sizing: border-box;top: 0;bottom: 0;left: 50%;z-index: 0;}#sk-container-id-1 div.sk-serial {display: flex;flex-direction: column;align-items: center;background-color: white;padding-right: 0.2em;padding-left: 0.2em;position: relative;}#sk-container-id-1 div.sk-item {position: relative;z-index: 1;}#sk-container-id-1 div.sk-parallel {display: flex;align-items: stretch;justify-content: center;background-color: white;position: relative;}#sk-container-id-1 div.sk-item::before, #sk-container-id-1 div.sk-parallel-item::before {content: \"\";position: absolute;border-left: 1px solid gray;box-sizing: border-box;top: 0;bottom: 0;left: 50%;z-index: -1;}#sk-container-id-1 div.sk-parallel-item {display: flex;flex-direction: column;z-index: 1;position: relative;background-color: white;}#sk-container-id-1 div.sk-parallel-item:first-child::after {align-self: flex-end;width: 50%;}#sk-container-id-1 div.sk-parallel-item:last-child::after {align-self: flex-start;width: 50%;}#sk-container-id-1 div.sk-parallel-item:only-child::after {width: 0;}#sk-container-id-1 div.sk-dashed-wrapped {border: 1px dashed gray;margin: 0 0.4em 0.5em 0.4em;box-sizing: border-box;padding-bottom: 0.4em;background-color: white;}#sk-container-id-1 div.sk-label label {font-family: monospace;font-weight: bold;display: inline-block;line-height: 1.2em;}#sk-container-id-1 div.sk-label-container {text-align: center;}#sk-container-id-1 div.sk-container {/* jupyter's `normalize.less` sets `[hidden] { display: none; }` but bootstrap.min.css set `[hidden] { display: none !important; }` so we also need the `!important` here to be able to override the default hidden behavior on the sphinx rendered scikit-learn.org. See: https://github.com/scikit-learn/scikit-learn/issues/21755 */display: inline-block !important;position: relative;}#sk-container-id-1 div.sk-text-repr-fallback {display: none;}</style><div id=\"sk-container-id-1\" class=\"sk-top-container\"><div class=\"sk-text-repr-fallback\"><pre>MultinomialNB()</pre><b>In a Jupyter environment, please rerun this cell to show the HTML representation or trust the notebook. <br />On GitHub, the HTML representation is unable to render, please try loading this page with nbviewer.org.</b></div><div class=\"sk-container\" hidden><div class=\"sk-item\"><div class=\"sk-estimator sk-toggleable\"><input class=\"sk-toggleable__control sk-hidden--visually\" id=\"sk-estimator-id-1\" type=\"checkbox\" checked><label for=\"sk-estimator-id-1\" class=\"sk-toggleable__label sk-toggleable__label-arrow\">MultinomialNB</label><div class=\"sk-toggleable__content\"><pre>MultinomialNB()</pre></div></div></div></div></div>"
            ]
          },
          "metadata": {},
          "execution_count": 157
        }
      ]
    },
    {
      "cell_type": "code",
      "source": [
        "nb.score(x_train,y_train)"
      ],
      "metadata": {
        "colab": {
          "base_uri": "https://localhost:8080/"
        },
        "id": "Op_M1nhWAb0j",
        "outputId": "16491125-cb93-429a-b66d-fd04c43c280a"
      },
      "execution_count": null,
      "outputs": [
        {
          "output_type": "execute_result",
          "data": {
            "text/plain": [
              "0.999829293274155"
            ]
          },
          "metadata": {},
          "execution_count": 158
        }
      ]
    },
    {
      "cell_type": "code",
      "source": [
        "y_pred_nb = nb.predict(x_test)\n",
        "print(len(y_pred_nb))\n",
        "y_pred_nb"
      ],
      "metadata": {
        "colab": {
          "base_uri": "https://localhost:8080/"
        },
        "id": "KtTyeMhoAjty",
        "outputId": "fad68f20-9ab8-4221-8555-11319515c122"
      },
      "execution_count": null,
      "outputs": [
        {
          "output_type": "stream",
          "name": "stdout",
          "text": [
            "1953\n"
          ]
        },
        {
          "output_type": "execute_result",
          "data": {
            "text/plain": [
              "array([ 8,  3,  8, ...,  8, 10, 10])"
            ]
          },
          "metadata": {},
          "execution_count": 159
        }
      ]
    },
    {
      "cell_type": "code",
      "source": [
        "from sklearn.metrics import confusion_matrix\n",
        "from sklearn.metrics import classification_report\n",
        "from sklearn.metrics import accuracy_score"
      ],
      "metadata": {
        "id": "Krfoo_nOAwPf"
      },
      "execution_count": null,
      "outputs": []
    },
    {
      "cell_type": "code",
      "source": [
        "metrics.accuracy_score(y_test,y_pred_nb)"
      ],
      "metadata": {
        "colab": {
          "base_uri": "https://localhost:8080/"
        },
        "id": "l1EwmzH_BAJ3",
        "outputId": "bf9c856a-3ce4-4b14-97e1-02debbf74a00"
      },
      "execution_count": null,
      "outputs": [
        {
          "output_type": "execute_result",
          "data": {
            "text/plain": [
              "0.20686123911930362"
            ]
          },
          "metadata": {},
          "execution_count": 161
        }
      ]
    },
    {
      "cell_type": "code",
      "source": [
        "print(confusion_matrix(y_test,y_pred_nb))"
      ],
      "metadata": {
        "colab": {
          "base_uri": "https://localhost:8080/"
        },
        "id": "0zTDbuLIBIPs",
        "outputId": "82ebf972-207c-4f07-d016-f905a89c4fe9"
      },
      "execution_count": null,
      "outputs": [
        {
          "output_type": "stream",
          "name": "stdout",
          "text": [
            "[[26  4  2  8  2  2  5  7 18 17 20  4  3  2  1  3]\n",
            " [ 7 22  3 14  2  4  5  2 23 38 23 10  9  4  3  3]\n",
            " [ 4  3  1  4  3  3  2  0 11  6 14  3  1  1  2  0]\n",
            " [ 3 11  3 17  2  1  8  3 15 20 22  6  2  5 13  2]\n",
            " [ 2  2  0  2  2  0  1  2  4  4  3  3  2  1  0  1]\n",
            " [ 2  1  0  1  0 10  1  1  2  7  2  3  2  0  0  2]\n",
            " [ 2  2  1  1  0  0  6  1  4  3  7  1  0  0  0  0]\n",
            " [ 1  2  1  3  0  0  2  3  2  0  1  3  0  2  0  1]\n",
            " [11 18 13  6  3  6  6  3 87 30 51 10 10  3  9  3]\n",
            " [15 24 11 13 10  5 16  7 40 96 43 21 13 14  9  8]\n",
            " [ 4 15  6  2  2  2 10  1 33 31 47  7  7  6  6  3]\n",
            " [ 9 12  8 10  2  5 12  4 37 30 34 36  7  5  3  6]\n",
            " [ 7  3  2  2  6  2  6  2 15 21  9  6 14  4  3  3]\n",
            " [ 8  4  1  5  2  2  3  1  8 14  4 11  3 13  2  4]\n",
            " [ 4  3  4  3  1  2  5  1  4  6 16  6  4  2  8  2]\n",
            " [ 0  5  1  4  0  2  4  1  7 12  7  7  4  5  2 16]]\n"
          ]
        }
      ]
    },
    {
      "cell_type": "code",
      "source": [],
      "metadata": {
        "id": "Mh8ZAFU1BPas"
      },
      "execution_count": null,
      "outputs": []
    }
  ]
}